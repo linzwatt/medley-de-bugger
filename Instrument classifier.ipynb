{
 "cells": [
  {
   "cell_type": "markdown",
   "metadata": {
    "collapsed": true
   },
   "source": [
    "# Imports"
   ]
  },
  {
   "cell_type": "code",
   "execution_count": 1,
   "metadata": {
    "collapsed": false
   },
   "outputs": [],
   "source": [
    "import numpy as np\n",
    "import librosa \n",
    "from os import environ\n",
    "environ[\"MEDLEYDB_PATH\"] = \"/Datasets/MedleyDB\"\n",
    "import medleydb as mdb\n",
    "import sklearn\n",
    "import os\n",
    "import sox\n",
    "import tempfile as tmp\n",
    "import matplotlib.pyplot as plt\n",
    "%matplotlib inline\n",
    "from sklearn.ensemble import RandomForestClassifier"
   ]
  },
  {
   "cell_type": "markdown",
   "metadata": {},
   "source": [
    "# Getting list of multitracks without bleed"
   ]
  },
  {
   "cell_type": "code",
   "execution_count": 2,
   "metadata": {
    "collapsed": false
   },
   "outputs": [
    {
     "name": "stdout",
     "output_type": "stream",
     "text": [
      "AClassicEducation_NightOwl\n",
      "AimeeNorwich_Child\n",
      "AimeeNorwich_Flying\n",
      "AlexanderRoss_GoodbyeBolero\n",
      "AlexanderRoss_VelvetCurtain\n",
      "AmarLal_Rest\n",
      "AmarLal_SpringDay1\n",
      "Auctioneer_OurFutureFaces\n",
      "AvaLuna_Waterduct\n",
      "BigTroubles_Phantom\n",
      "BrandonWebster_DontHearAThing\n",
      "BrandonWebster_YesSirICanFly\n",
      "CelestialShore_DieForUs\n",
      "ChrisJacoby_BoothShotLincoln\n",
      "ChrisJacoby_PigsFoot\n",
      "ClaraBerryAndWooldog_AirTraffic\n",
      "ClaraBerryAndWooldog_Boys\n",
      "ClaraBerryAndWooldog_Stella\n",
      "ClaraBerryAndWooldog_TheBadGuys\n",
      "ClaraBerryAndWooldog_WaltzForMyVictims\n",
      "Creepoid_OldTree\n",
      "CroqueMadame_Oil\n",
      "CroqueMadame_Pilot\n",
      "Debussy_LenfantProdigue\n",
      "DreamersOfTheGhetto_HeavyLove\n",
      "EthanHein_1930sSynthAndUprightBass\n",
      "EthanHein_BluesForNofi\n",
      "EthanHein_GirlOnABridge\n",
      "EthanHein_HarmonicaFigure\n",
      "FacesOnFilm_WaitingForGa\n",
      "FamilyBand_Again\n",
      "Grants_PunchDrunk\n",
      "Handel_TornamiAVagheggiar\n",
      "HeladoNegro_MitadDelMundo\n",
      "HezekiahJones_BorrowedHeart\n",
      "HopAlong_SisterCities\n",
      "InvisibleFamiliars_DisturbingWildlife\n",
      "JoelHelander_Definition\n",
      "JoelHelander_ExcessiveResistancetoChange\n",
      "JoelHelander_IntheAtticBedroom\n",
      "KarimDouaidy_Hopscotch\n",
      "KarimDouaidy_Yatora\n",
      "LizNelson_Coldwar\n",
      "LizNelson_ImComingHome\n",
      "LizNelson_Rainfall\n",
      "Lushlife_ToynbeeSuite\n",
      "MatthewEntwistle_AnEveningWithOliver\n",
      "MatthewEntwistle_DontYouEver\n",
      "MatthewEntwistle_FairerHopes\n",
      "MatthewEntwistle_ImpressionsOfSaturn\n",
      "MatthewEntwistle_Lontano\n",
      "MatthewEntwistle_TheArch\n",
      "MatthewEntwistle_TheFlaxenField\n",
      "Meaxic_TakeAStep\n",
      "Meaxic_YouListen\n",
      "MichaelKropf_AllGoodThings\n",
      "Mozart_BesterJungling\n",
      "Mozart_DiesBildnis\n",
      "MusicDelta_80sRock\n",
      "MusicDelta_Beatles\n",
      "MusicDelta_BebopJazz\n",
      "MusicDelta_Beethoven\n",
      "MusicDelta_Britpop\n",
      "MusicDelta_ChineseChaoZhou\n",
      "MusicDelta_ChineseDrama\n",
      "MusicDelta_ChineseHenan\n",
      "MusicDelta_ChineseJiangNan\n",
      "MusicDelta_ChineseXinJing\n",
      "MusicDelta_ChineseYaoZu\n",
      "MusicDelta_CoolJazz\n",
      "MusicDelta_Country1\n",
      "MusicDelta_Country2\n",
      "MusicDelta_Disco\n",
      "MusicDelta_FreeJazz\n",
      "MusicDelta_FunkJazz\n",
      "MusicDelta_FusionJazz\n",
      "MusicDelta_Gospel\n",
      "MusicDelta_GriegTrolltog\n",
      "MusicDelta_Grunge\n",
      "MusicDelta_Hendrix\n",
      "MusicDelta_InTheHalloftheMountainKing\n",
      "MusicDelta_LatinJazz\n",
      "MusicDelta_ModalJazz\n",
      "MusicDelta_Pachelbel\n",
      "MusicDelta_Punk\n",
      "MusicDelta_Reggae\n",
      "MusicDelta_Rock\n",
      "MusicDelta_Rockabilly\n",
      "MusicDelta_Shadows\n",
      "MusicDelta_SpeedMetal\n",
      "MusicDelta_SwingJazz\n",
      "MusicDelta_Vivaldi\n",
      "MusicDelta_Zeppelin\n",
      "NightPanther_Fire\n",
      "Phoenix_BrokenPledgeChicagoReel\n",
      "Phoenix_ColliersDaughter\n",
      "Phoenix_ElzicsFarewell\n",
      "Phoenix_LarkOnTheStrandDrummondCastle\n",
      "Phoenix_ScotchMorris\n",
      "Phoenix_SeanCaughlinsTheScartaglen\n",
      "PortStWillow_StayEven\n",
      "PurlingHiss_Lolita\n",
      "Schubert_Erstarrung\n",
      "Schumann_Mignon\n",
      "SecretMountains_HighHorse\n",
      "Snowmine_Curfews\n",
      "StevenClark_Bounty\n",
      "StrandOfOaks_Spacestation\n",
      "SweetLights_YouLetMeDown\n",
      "TablaBreakbeatScience_Animoog\n",
      "TablaBreakbeatScience_CaptainSky\n",
      "TablaBreakbeatScience_MiloVsMongo\n",
      "TablaBreakbeatScience_MoodyPlucks\n",
      "TablaBreakbeatScience_PhaseTransition\n",
      "TablaBreakbeatScience_RockSteady\n",
      "TablaBreakbeatScience_Scorpio\n",
      "TablaBreakbeatScience_Vger\n",
      "TablaBreakbeatScience_WhoIsIt\n",
      "TheDistricts_Vermont\n",
      "TheScarletBrand_LesFleursDuMal\n",
      "TheSoSoGlos_Emergency\n",
      "Wolf_DieBekherte\n"
     ]
    }
   ],
   "source": [
    "loader = mdb.load_all_multitracks()\n",
    "no_bleed_mtracks = []\n",
    "for mtrack in loader:\n",
    "    print mtrack.track_id\n",
    "    if not mtrack.has_bleed:\n",
    "        no_bleed_mtracks.append(mtrack)"
   ]
  },
  {
   "cell_type": "markdown",
   "metadata": {},
   "source": [
    "# Get instrument labels"
   ]
  },
  {
   "cell_type": "code",
   "execution_count": 47,
   "metadata": {
    "collapsed": false
   },
   "outputs": [
    {
     "name": "stdout",
     "output_type": "stream",
     "text": [
      "set(['bagpipe', 'gu', 'bamboo flute', 'clarinet', 'cornet', 'chimes', 'harmonica', 'mandolin', 'timpani', 'sampler', 'piano', 'clean electric guitar', 'liuqin', 'beatboxing', 'triangle', 'pipe organ', 'marimba', 'erhu', 'alto saxophone', 'whistle', 'drum set', 'bass drum', 'banjo', 'male rapper', 'acoustic guitar', 'trumpet section', 'vibraphone', 'female rapper', 'sleigh bells', 'darbuka', 'concertina', 'electric piano', 'baritone saxophone', 'oud', 'tack piano', 'trombone', 'harp', 'tuba', 'tabla', 'doumbek', 'recorder', 'cabasa', 'guzheng', 'shaker', 'vocalists', 'viola section', 'male speaker', 'zhongruan', 'string section', 'cowbell', 'accordion', 'toms', 'dizi', 'double bass', 'bongo', 'flute section', 'cello section', 'brass section', 'tenor saxophone', 'kick drum', 'yangqin', 'english horn', 'conga', 'guiro', 'synthesizer', 'harpsichord', 'castanet', 'soprano saxophone', 'electric bass', 'oboe', 'violin section', 'xylophone', 'fx/processed sound', 'female speaker', 'scratches', 'french horn', 'dulcimer', 'auxiliary percussion', 'glockenspiel', 'cello', 'female singer', 'panpipes', 'male singer', 'gong', 'rattle', 'piccolo', 'euphonium', 'high hat', 'claps', 'violin', 'snare drum', 'trumpet', 'harmonium', 'horn section', 'clarinet section', 'electronic organ', 'ukulele', 'bassoon', 'theremin', 'viola', 'tambourine', 'drum machine', 'lap steel guitar', 'flute', 'trombone section', 'cymbal', 'bandoneon', 'distorted electric guitar', 'maracas', 'slide guitar', 'bass clarinet', 'french horn section', 'melodica'])\n"
     ]
    }
   ],
   "source": [
    "#list of all possible instrument labels\n",
    "valid_labels = mdb.multitrack.get_valid_instrument_labels()\n",
    "print valid_labels"
   ]
  },
  {
   "cell_type": "markdown",
   "metadata": {},
   "source": [
    "# Loop over instrument to get files"
   ]
  },
  {
   "cell_type": "code",
   "execution_count": 4,
   "metadata": {
    "collapsed": false
   },
   "outputs": [],
   "source": [
    "file_dict = {}\n",
    "#dictionary of list of labels for every multitrack without bleed\n",
    "\n",
    "for label in valid_labels:\n",
    "    label_list = list(mdb.utils.get_files_for_instrument(label, multitrack_list = no_bleed_mtracks))\n",
    "    #list of labels of multitracks with no bleed\n",
    "    \n",
    "    if len(label_list) == 0:\n",
    "        continue\n",
    "    file_dict[label] = label_list\n"
   ]
  },
  {
   "cell_type": "markdown",
   "metadata": {},
   "source": [
    "# Compute MFCC and splitting data"
   ]
  },
  {
   "cell_type": "code",
   "execution_count": 109,
   "metadata": {
    "collapsed": false
   },
   "outputs": [
    {
     "name": "stderr",
     "output_type": "stream",
     "text": [
      "WARNING:root:output_file: /var/folders/k_/plmjzvbd70z_9dbsrxw1gnvh0000gv/T/tmpqkzH7u.wav already exists and will be overwritten on build\n"
     ]
    },
    {
     "name": "stdout",
     "output_type": "stream",
     "text": [
      "piano\n",
      "27\n",
      "creating new file...\n",
      "/Datasets/MedleyDB/Audio/AimeeNorwich_Child/AimeeNorwich_Child_STEMS/AimeeNorwich_Child_STEM_06.wav\n",
      "/Datasets/MedleyDB/Audio/AimeeNorwich_Flying/AimeeNorwich_Flying_STEMS/AimeeNorwich_Flying_STEM_09.wav"
     ]
    },
    {
     "name": "stderr",
     "output_type": "stream",
     "text": [
      "WARNING:root:output_file: /var/folders/k_/plmjzvbd70z_9dbsrxw1gnvh0000gv/T/tmpZLamPL.wav already exists and will be overwritten on build\n"
     ]
    },
    {
     "name": "stdout",
     "output_type": "stream",
     "text": [
      "\n",
      "/Datasets/MedleyDB/Audio/Auctioneer_OurFutureFaces/Auctioneer_OurFutureFaces_STEMS/Auctioneer_OurFutureFaces_STEM_10.wav"
     ]
    },
    {
     "name": "stderr",
     "output_type": "stream",
     "text": [
      "WARNING:root:output_file: /var/folders/k_/plmjzvbd70z_9dbsrxw1gnvh0000gv/T/tmpkeCdwR.wav already exists and will be overwritten on build\n"
     ]
    },
    {
     "name": "stdout",
     "output_type": "stream",
     "text": [
      "\n",
      "/Datasets/MedleyDB/Audio/BrandonWebster_YesSirICanFly/BrandonWebster_YesSirICanFly_STEMS/BrandonWebster_YesSirICanFly_STEM_01.wav"
     ]
    },
    {
     "name": "stderr",
     "output_type": "stream",
     "text": [
      "WARNING:root:output_file: /var/folders/k_/plmjzvbd70z_9dbsrxw1gnvh0000gv/T/tmpuTYRpI.wav already exists and will be overwritten on build\n"
     ]
    },
    {
     "name": "stdout",
     "output_type": "stream",
     "text": [
      "\n",
      "/Datasets/MedleyDB/Audio/ClaraBerryAndWooldog_AirTraffic/ClaraBerryAndWooldog_AirTraffic_STEMS/ClaraBerryAndWooldog_AirTraffic_STEM_06.wav"
     ]
    },
    {
     "name": "stderr",
     "output_type": "stream",
     "text": [
      "WARNING:root:output_file: /var/folders/k_/plmjzvbd70z_9dbsrxw1gnvh0000gv/T/tmpwtah1L.wav already exists and will be overwritten on build\n"
     ]
    },
    {
     "name": "stdout",
     "output_type": "stream",
     "text": [
      "\n",
      "/Datasets/MedleyDB/Audio/ClaraBerryAndWooldog_Stella/ClaraBerryAndWooldog_Stella_STEMS/ClaraBerryAndWooldog_Stella_STEM_05.wav"
     ]
    },
    {
     "name": "stderr",
     "output_type": "stream",
     "text": [
      "WARNING:root:output_file: /var/folders/k_/plmjzvbd70z_9dbsrxw1gnvh0000gv/T/tmp03FGH_.wav already exists and will be overwritten on build\n"
     ]
    },
    {
     "name": "stdout",
     "output_type": "stream",
     "text": [
      "\n",
      "/Datasets/MedleyDB/Audio/ClaraBerryAndWooldog_WaltzForMyVictims/ClaraBerryAndWooldog_WaltzForMyVictims_STEMS/ClaraBerryAndWooldog_WaltzForMyVictims_STEM_03.wav"
     ]
    },
    {
     "name": "stderr",
     "output_type": "stream",
     "text": [
      "WARNING:root:output_file: /var/folders/k_/plmjzvbd70z_9dbsrxw1gnvh0000gv/T/tmpnuVs8i.wav already exists and will be overwritten on build\n"
     ]
    },
    {
     "name": "stdout",
     "output_type": "stream",
     "text": [
      "\n",
      "/Datasets/MedleyDB/Audio/EthanHein_GirlOnABridge/EthanHein_GirlOnABridge_STEMS/EthanHein_GirlOnABridge_STEM_02.wav"
     ]
    },
    {
     "name": "stderr",
     "output_type": "stream",
     "text": [
      "WARNING:root:output_file: /var/folders/k_/plmjzvbd70z_9dbsrxw1gnvh0000gv/T/tmp9Ret9c.wav already exists and will be overwritten on build\n"
     ]
    },
    {
     "name": "stdout",
     "output_type": "stream",
     "text": [
      "\n",
      "/Datasets/MedleyDB/Audio/Grants_PunchDrunk/Grants_PunchDrunk_STEMS/Grants_PunchDrunk_STEM_09.wav"
     ]
    },
    {
     "name": "stderr",
     "output_type": "stream",
     "text": [
      "WARNING:root:output_file: /var/folders/k_/plmjzvbd70z_9dbsrxw1gnvh0000gv/T/tmp5de_0q.wav already exists and will be overwritten on build\n"
     ]
    },
    {
     "name": "stdout",
     "output_type": "stream",
     "text": [
      "\n",
      "/Datasets/MedleyDB/Audio/KarimDouaidy_Hopscotch/KarimDouaidy_Hopscotch_STEMS/KarimDouaidy_Hopscotch_STEM_09.wav"
     ]
    },
    {
     "name": "stderr",
     "output_type": "stream",
     "text": [
      "WARNING:root:output_file: /var/folders/k_/plmjzvbd70z_9dbsrxw1gnvh0000gv/T/tmpV7lfRo.wav already exists and will be overwritten on build\n"
     ]
    },
    {
     "name": "stdout",
     "output_type": "stream",
     "text": [
      "\n",
      "/Datasets/MedleyDB/Audio/KarimDouaidy_Yatora/KarimDouaidy_Yatora_STEMS/KarimDouaidy_Yatora_STEM_05.wav"
     ]
    },
    {
     "name": "stderr",
     "output_type": "stream",
     "text": [
      "WARNING:root:output_file: /var/folders/k_/plmjzvbd70z_9dbsrxw1gnvh0000gv/T/tmpp7w_JK.wav already exists and will be overwritten on build\n"
     ]
    },
    {
     "name": "stdout",
     "output_type": "stream",
     "text": [
      "\n",
      "/Datasets/MedleyDB/Audio/Lushlife_ToynbeeSuite/Lushlife_ToynbeeSuite_STEMS/Lushlife_ToynbeeSuite_STEM_23.wav"
     ]
    },
    {
     "name": "stderr",
     "output_type": "stream",
     "text": [
      "WARNING:root:output_file: /var/folders/k_/plmjzvbd70z_9dbsrxw1gnvh0000gv/T/tmpwdoRnW.wav already exists and will be overwritten on build\n"
     ]
    },
    {
     "name": "stdout",
     "output_type": "stream",
     "text": [
      "\n",
      "/Datasets/MedleyDB/Audio/MatthewEntwistle_AnEveningWithOliver/MatthewEntwistle_AnEveningWithOliver_STEMS/MatthewEntwistle_AnEveningWithOliver_STEM_11.wav"
     ]
    },
    {
     "name": "stderr",
     "output_type": "stream",
     "text": [
      "WARNING:root:output_file: /var/folders/k_/plmjzvbd70z_9dbsrxw1gnvh0000gv/T/tmpCAjm5w.wav already exists and will be overwritten on build\n"
     ]
    },
    {
     "name": "stdout",
     "output_type": "stream",
     "text": [
      "\n",
      "/Datasets/MedleyDB/Audio/MatthewEntwistle_DontYouEver/MatthewEntwistle_DontYouEver_STEMS/MatthewEntwistle_DontYouEver_STEM_02.wav"
     ]
    },
    {
     "name": "stderr",
     "output_type": "stream",
     "text": [
      "WARNING:root:output_file: /var/folders/k_/plmjzvbd70z_9dbsrxw1gnvh0000gv/T/tmp8D8GUg.wav already exists and will be overwritten on build\n"
     ]
    },
    {
     "name": "stdout",
     "output_type": "stream",
     "text": [
      "\n",
      "/Datasets/MedleyDB/Audio/MatthewEntwistle_FairerHopes/MatthewEntwistle_FairerHopes_STEMS/MatthewEntwistle_FairerHopes_STEM_13.wav"
     ]
    },
    {
     "name": "stderr",
     "output_type": "stream",
     "text": [
      "WARNING:root:output_file: /var/folders/k_/plmjzvbd70z_9dbsrxw1gnvh0000gv/T/tmp4kNOkO.wav already exists and will be overwritten on build\n"
     ]
    },
    {
     "name": "stdout",
     "output_type": "stream",
     "text": [
      "\n",
      "/Datasets/MedleyDB/Audio/MatthewEntwistle_ImpressionsOfSaturn/MatthewEntwistle_ImpressionsOfSaturn_STEMS/MatthewEntwistle_ImpressionsOfSaturn_STEM_06.wav"
     ]
    },
    {
     "name": "stderr",
     "output_type": "stream",
     "text": [
      "WARNING:root:output_file: /var/folders/k_/plmjzvbd70z_9dbsrxw1gnvh0000gv/T/tmpXuq5Gp.wav already exists and will be overwritten on build\n"
     ]
    },
    {
     "name": "stdout",
     "output_type": "stream",
     "text": [
      "\n",
      "/Datasets/MedleyDB/Audio/MatthewEntwistle_TheArch/MatthewEntwistle_TheArch_STEMS/MatthewEntwistle_TheArch_STEM_18.wav"
     ]
    },
    {
     "name": "stderr",
     "output_type": "stream",
     "text": [
      "WARNING:root:output_file: /var/folders/k_/plmjzvbd70z_9dbsrxw1gnvh0000gv/T/tmpYZ1bSK.wav already exists and will be overwritten on build\n"
     ]
    },
    {
     "name": "stdout",
     "output_type": "stream",
     "text": [
      "\n",
      "/Datasets/MedleyDB/Audio/MatthewEntwistle_TheFlaxenField/MatthewEntwistle_TheFlaxenField_STEMS/MatthewEntwistle_TheFlaxenField_STEM_03.wav"
     ]
    },
    {
     "name": "stderr",
     "output_type": "stream",
     "text": [
      "WARNING:root:output_file: /var/folders/k_/plmjzvbd70z_9dbsrxw1gnvh0000gv/T/tmpkDyvbI.wav already exists and will be overwritten on build\n"
     ]
    },
    {
     "name": "stdout",
     "output_type": "stream",
     "text": [
      "\n",
      "/Datasets/MedleyDB/Audio/MusicDelta_BebopJazz/MusicDelta_BebopJazz_STEMS/MusicDelta_BebopJazz_STEM_03.wav"
     ]
    },
    {
     "name": "stderr",
     "output_type": "stream",
     "text": [
      "WARNING:root:output_file: /var/folders/k_/plmjzvbd70z_9dbsrxw1gnvh0000gv/T/tmpACnyDM.wav already exists and will be overwritten on build\n"
     ]
    },
    {
     "name": "stdout",
     "output_type": "stream",
     "text": [
      "\n",
      "/Datasets/MedleyDB/Audio/MusicDelta_CoolJazz/MusicDelta_CoolJazz_STEMS/MusicDelta_CoolJazz_STEM_03.wav"
     ]
    },
    {
     "name": "stderr",
     "output_type": "stream",
     "text": [
      "WARNING:root:output_file: /var/folders/k_/plmjzvbd70z_9dbsrxw1gnvh0000gv/T/tmpldyti2.wav already exists and will be overwritten on build\n"
     ]
    },
    {
     "name": "stdout",
     "output_type": "stream",
     "text": [
      "\n",
      "/Datasets/MedleyDB/Audio/MusicDelta_ModalJazz/MusicDelta_ModalJazz_STEMS/MusicDelta_ModalJazz_STEM_03.wav"
     ]
    },
    {
     "name": "stderr",
     "output_type": "stream",
     "text": [
      "WARNING:root:output_file: /var/folders/k_/plmjzvbd70z_9dbsrxw1gnvh0000gv/T/tmpzNvLGk.wav already exists and will be overwritten on build\n"
     ]
    },
    {
     "name": "stdout",
     "output_type": "stream",
     "text": [
      "\n",
      "/Datasets/MedleyDB/Audio/MusicDelta_SwingJazz/MusicDelta_SwingJazz_STEMS/MusicDelta_SwingJazz_STEM_03.wav"
     ]
    },
    {
     "name": "stderr",
     "output_type": "stream",
     "text": [
      "WARNING:root:output_file: /var/folders/k_/plmjzvbd70z_9dbsrxw1gnvh0000gv/T/tmpnTBDJ1.wav already exists and will be overwritten on build\n"
     ]
    },
    {
     "name": "stdout",
     "output_type": "stream",
     "text": [
      "\n",
      "/Datasets/MedleyDB/Audio/PortStWillow_StayEven/PortStWillow_StayEven_STEMS/PortStWillow_StayEven_STEM_09.wav"
     ]
    },
    {
     "name": "stderr",
     "output_type": "stream",
     "text": [
      "WARNING:root:output_file: /var/folders/k_/plmjzvbd70z_9dbsrxw1gnvh0000gv/T/tmpQNtP2V.wav already exists and will be overwritten on build\n"
     ]
    },
    {
     "name": "stdout",
     "output_type": "stream",
     "text": [
      "\n",
      "/Datasets/MedleyDB/Audio/SecretMountains_HighHorse/SecretMountains_HighHorse_STEMS/SecretMountains_HighHorse_STEM_07.wav"
     ]
    },
    {
     "name": "stderr",
     "output_type": "stream",
     "text": [
      "WARNING:root:output_file: /var/folders/k_/plmjzvbd70z_9dbsrxw1gnvh0000gv/T/tmpKgcyki.wav already exists and will be overwritten on build\n"
     ]
    },
    {
     "name": "stdout",
     "output_type": "stream",
     "text": [
      "\n",
      "/Datasets/MedleyDB/Audio/StevenClark_Bounty/StevenClark_Bounty_STEMS/StevenClark_Bounty_STEM_09.wav"
     ]
    },
    {
     "name": "stderr",
     "output_type": "stream",
     "text": [
      "WARNING:root:output_file: /var/folders/k_/plmjzvbd70z_9dbsrxw1gnvh0000gv/T/tmpDKta_L.wav already exists and will be overwritten on build\n"
     ]
    },
    {
     "name": "stdout",
     "output_type": "stream",
     "text": [
      "\n",
      "/Datasets/MedleyDB/Audio/StrandOfOaks_Spacestation/StrandOfOaks_Spacestation_STEMS/StrandOfOaks_Spacestation_STEM_06.wav"
     ]
    },
    {
     "name": "stderr",
     "output_type": "stream",
     "text": [
      "WARNING:root:output_file: /var/folders/k_/plmjzvbd70z_9dbsrxw1gnvh0000gv/T/tmpYUQLDW.wav already exists and will be overwritten on build\n"
     ]
    },
    {
     "name": "stdout",
     "output_type": "stream",
     "text": [
      "\n",
      "/Datasets/MedleyDB/Audio/SweetLights_YouLetMeDown/SweetLights_YouLetMeDown_STEMS/SweetLights_YouLetMeDown_STEM_09.wav"
     ]
    },
    {
     "name": "stderr",
     "output_type": "stream",
     "text": [
      "WARNING:root:output_file: /var/folders/k_/plmjzvbd70z_9dbsrxw1gnvh0000gv/T/tmpXxWDDt.wav already exists and will be overwritten on build\n"
     ]
    },
    {
     "name": "stdout",
     "output_type": "stream",
     "text": [
      "\n",
      "master_train_instrument_mfcc_matrix shape: (40, 143767)\n",
      "master_train_instrument_label_matrix shape: (143767,)\n",
      "master_test_instrument_mfcc_matrix shape: (40, 66563)\n",
      "master_test_instrument_label_matrix shape: (66563,)"
     ]
    },
    {
     "name": "stderr",
     "output_type": "stream",
     "text": [
      "WARNING:root:output_file: /var/folders/k_/plmjzvbd70z_9dbsrxw1gnvh0000gv/T/tmprYP1oV.wav already exists and will be overwritten on build\n"
     ]
    },
    {
     "name": "stdout",
     "output_type": "stream",
     "text": [
      "\n",
      "\n",
      "violin\n",
      "14\n",
      "creating new file...\n",
      "/Datasets/MedleyDB/Audio/MatthewEntwistle_AnEveningWithOliver/MatthewEntwistle_AnEveningWithOliver_STEMS/MatthewEntwistle_AnEveningWithOliver_STEM_16.wav\n",
      "/Datasets/MedleyDB/Audio/MatthewEntwistle_AnEveningWithOliver/MatthewEntwistle_AnEveningWithOliver_STEMS/MatthewEntwistle_AnEveningWithOliver_STEM_17.wav"
     ]
    },
    {
     "name": "stderr",
     "output_type": "stream",
     "text": [
      "WARNING:root:output_file: /var/folders/k_/plmjzvbd70z_9dbsrxw1gnvh0000gv/T/tmpkelQGP.wav already exists and will be overwritten on build\n"
     ]
    },
    {
     "name": "stdout",
     "output_type": "stream",
     "text": [
      "\n",
      "/Datasets/MedleyDB/Audio/MatthewEntwistle_AnEveningWithOliver/MatthewEntwistle_AnEveningWithOliver_STEMS/MatthewEntwistle_AnEveningWithOliver_STEM_18.wav"
     ]
    },
    {
     "name": "stderr",
     "output_type": "stream",
     "text": [
      "WARNING:root:output_file: /var/folders/k_/plmjzvbd70z_9dbsrxw1gnvh0000gv/T/tmpnJl0Y5.wav already exists and will be overwritten on build\n"
     ]
    },
    {
     "name": "stdout",
     "output_type": "stream",
     "text": [
      "\n",
      "/Datasets/MedleyDB/Audio/MatthewEntwistle_AnEveningWithOliver/MatthewEntwistle_AnEveningWithOliver_STEMS/MatthewEntwistle_AnEveningWithOliver_STEM_19.wav"
     ]
    },
    {
     "name": "stderr",
     "output_type": "stream",
     "text": [
      "WARNING:root:output_file: /var/folders/k_/plmjzvbd70z_9dbsrxw1gnvh0000gv/T/tmpfdpgme.wav already exists and will be overwritten on build\n"
     ]
    },
    {
     "name": "stdout",
     "output_type": "stream",
     "text": [
      "\n",
      "/Datasets/MedleyDB/Audio/MatthewEntwistle_AnEveningWithOliver/MatthewEntwistle_AnEveningWithOliver_STEMS/MatthewEntwistle_AnEveningWithOliver_STEM_20.wav"
     ]
    },
    {
     "name": "stderr",
     "output_type": "stream",
     "text": [
      "WARNING:root:output_file: /var/folders/k_/plmjzvbd70z_9dbsrxw1gnvh0000gv/T/tmppGPhRy.wav already exists and will be overwritten on build\n"
     ]
    },
    {
     "name": "stdout",
     "output_type": "stream",
     "text": [
      "\n",
      "/Datasets/MedleyDB/Audio/MatthewEntwistle_AnEveningWithOliver/MatthewEntwistle_AnEveningWithOliver_STEMS/MatthewEntwistle_AnEveningWithOliver_STEM_21.wav"
     ]
    },
    {
     "name": "stderr",
     "output_type": "stream",
     "text": [
      "WARNING:root:output_file: /var/folders/k_/plmjzvbd70z_9dbsrxw1gnvh0000gv/T/tmpHIhBlY.wav already exists and will be overwritten on build\n"
     ]
    },
    {
     "name": "stdout",
     "output_type": "stream",
     "text": [
      "\n",
      "/Datasets/MedleyDB/Audio/MatthewEntwistle_AnEveningWithOliver/MatthewEntwistle_AnEveningWithOliver_STEMS/MatthewEntwistle_AnEveningWithOliver_STEM_22.wav"
     ]
    },
    {
     "name": "stderr",
     "output_type": "stream",
     "text": [
      "WARNING:root:output_file: /var/folders/k_/plmjzvbd70z_9dbsrxw1gnvh0000gv/T/tmpVdO_Ot.wav already exists and will be overwritten on build\n"
     ]
    },
    {
     "name": "stdout",
     "output_type": "stream",
     "text": [
      "\n",
      "/Datasets/MedleyDB/Audio/MatthewEntwistle_AnEveningWithOliver/MatthewEntwistle_AnEveningWithOliver_STEMS/MatthewEntwistle_AnEveningWithOliver_STEM_23.wav"
     ]
    },
    {
     "name": "stderr",
     "output_type": "stream",
     "text": [
      "WARNING:root:output_file: /var/folders/k_/plmjzvbd70z_9dbsrxw1gnvh0000gv/T/tmpgbyplc.wav already exists and will be overwritten on build\n"
     ]
    },
    {
     "name": "stdout",
     "output_type": "stream",
     "text": [
      "\n",
      "/Datasets/MedleyDB/Audio/MatthewEntwistle_ImpressionsOfSaturn/MatthewEntwistle_ImpressionsOfSaturn_STEMS/MatthewEntwistle_ImpressionsOfSaturn_STEM_08.wav"
     ]
    },
    {
     "name": "stderr",
     "output_type": "stream",
     "text": [
      "WARNING:root:output_file: /var/folders/k_/plmjzvbd70z_9dbsrxw1gnvh0000gv/T/tmp4vSWbl.wav already exists and will be overwritten on build\n"
     ]
    },
    {
     "name": "stdout",
     "output_type": "stream",
     "text": [
      "\n",
      "/Datasets/MedleyDB/Audio/MatthewEntwistle_ImpressionsOfSaturn/MatthewEntwistle_ImpressionsOfSaturn_STEMS/MatthewEntwistle_ImpressionsOfSaturn_STEM_09.wav"
     ]
    },
    {
     "name": "stderr",
     "output_type": "stream",
     "text": [
      "WARNING:root:output_file: /var/folders/k_/plmjzvbd70z_9dbsrxw1gnvh0000gv/T/tmp0bDTT9.wav already exists and will be overwritten on build\n"
     ]
    },
    {
     "name": "stdout",
     "output_type": "stream",
     "text": [
      "\n",
      "/Datasets/MedleyDB/Audio/MatthewEntwistle_TheFlaxenField/MatthewEntwistle_TheFlaxenField_STEMS/MatthewEntwistle_TheFlaxenField_STEM_04.wav"
     ]
    },
    {
     "name": "stderr",
     "output_type": "stream",
     "text": [
      "WARNING:root:output_file: /var/folders/k_/plmjzvbd70z_9dbsrxw1gnvh0000gv/T/tmpT60eL8.wav already exists and will be overwritten on build\n"
     ]
    },
    {
     "name": "stdout",
     "output_type": "stream",
     "text": [
      "\n",
      "/Datasets/MedleyDB/Audio/MatthewEntwistle_TheFlaxenField/MatthewEntwistle_TheFlaxenField_STEMS/MatthewEntwistle_TheFlaxenField_STEM_05.wav"
     ]
    },
    {
     "name": "stderr",
     "output_type": "stream",
     "text": [
      "WARNING:root:output_file: /var/folders/k_/plmjzvbd70z_9dbsrxw1gnvh0000gv/T/tmprKJxhX.wav already exists and will be overwritten on build\n"
     ]
    },
    {
     "name": "stdout",
     "output_type": "stream",
     "text": [
      "\n",
      "/Datasets/MedleyDB/Audio/MusicDelta_Pachelbel/MusicDelta_Pachelbel_STEMS/MusicDelta_Pachelbel_STEM_01.wav"
     ]
    },
    {
     "name": "stderr",
     "output_type": "stream",
     "text": [
      "WARNING:root:output_file: /var/folders/k_/plmjzvbd70z_9dbsrxw1gnvh0000gv/T/tmpmCIPPH.wav already exists and will be overwritten on build\n"
     ]
    },
    {
     "name": "stdout",
     "output_type": "stream",
     "text": [
      "\n",
      "/Datasets/MedleyDB/Audio/MusicDelta_Pachelbel/MusicDelta_Pachelbel_STEMS/MusicDelta_Pachelbel_STEM_04.wav"
     ]
    },
    {
     "name": "stderr",
     "output_type": "stream",
     "text": [
      "WARNING:root:output_file: /var/folders/k_/plmjzvbd70z_9dbsrxw1gnvh0000gv/T/tmp_g6I5v.wav already exists and will be overwritten on build\n"
     ]
    },
    {
     "name": "stdout",
     "output_type": "stream",
     "text": [
      "\n",
      "master_train_instrument_mfcc_matrix shape: (40, 142334)\n",
      "master_train_instrument_label_matrix shape: (142334,)\n",
      "master_test_instrument_mfcc_matrix shape: (40, 43463)\n",
      "master_test_instrument_label_matrix shape: (43463,)"
     ]
    },
    {
     "name": "stderr",
     "output_type": "stream",
     "text": [
      "WARNING:root:output_file: /var/folders/k_/plmjzvbd70z_9dbsrxw1gnvh0000gv/T/tmpM9ym0U.wav already exists and will be overwritten on build\n"
     ]
    },
    {
     "name": "stdout",
     "output_type": "stream",
     "text": [
      "\n",
      "\n",
      "drum set\n",
      "60\n",
      "creating new file...\n",
      "/Datasets/MedleyDB/Audio/AClassicEducation_NightOwl/AClassicEducation_NightOwl_STEMS/AClassicEducation_NightOwl_STEM_02.wav\n",
      "/Datasets/MedleyDB/Audio/AimeeNorwich_Child/AimeeNorwich_Child_STEMS/AimeeNorwich_Child_STEM_01.wav"
     ]
    },
    {
     "name": "stderr",
     "output_type": "stream",
     "text": [
      "WARNING:root:output_file: /var/folders/k_/plmjzvbd70z_9dbsrxw1gnvh0000gv/T/tmpxhDvqP.wav already exists and will be overwritten on build\n"
     ]
    },
    {
     "name": "stdout",
     "output_type": "stream",
     "text": [
      "\n",
      "/Datasets/MedleyDB/Audio/AimeeNorwich_Flying/AimeeNorwich_Flying_STEMS/AimeeNorwich_Flying_STEM_01.wav"
     ]
    },
    {
     "name": "stderr",
     "output_type": "stream",
     "text": [
      "WARNING:root:output_file: /var/folders/k_/plmjzvbd70z_9dbsrxw1gnvh0000gv/T/tmpvBWieV.wav already exists and will be overwritten on build\n"
     ]
    },
    {
     "name": "stdout",
     "output_type": "stream",
     "text": [
      "\n",
      "/Datasets/MedleyDB/Audio/AlexanderRoss_GoodbyeBolero/AlexanderRoss_GoodbyeBolero_STEMS/AlexanderRoss_GoodbyeBolero_STEM_05.wav"
     ]
    },
    {
     "name": "stderr",
     "output_type": "stream",
     "text": [
      "WARNING:root:output_file: /var/folders/k_/plmjzvbd70z_9dbsrxw1gnvh0000gv/T/tmpZ4H6w8.wav already exists and will be overwritten on build\n"
     ]
    },
    {
     "name": "stdout",
     "output_type": "stream",
     "text": [
      "\n",
      "/Datasets/MedleyDB/Audio/AlexanderRoss_VelvetCurtain/AlexanderRoss_VelvetCurtain_STEMS/AlexanderRoss_VelvetCurtain_STEM_05.wav"
     ]
    },
    {
     "name": "stderr",
     "output_type": "stream",
     "text": [
      "WARNING:root:output_file: /var/folders/k_/plmjzvbd70z_9dbsrxw1gnvh0000gv/T/tmpQ8AzQt.wav already exists and will be overwritten on build\n"
     ]
    },
    {
     "name": "stdout",
     "output_type": "stream",
     "text": [
      "\n",
      "/Datasets/MedleyDB/Audio/Auctioneer_OurFutureFaces/Auctioneer_OurFutureFaces_STEMS/Auctioneer_OurFutureFaces_STEM_04.wav"
     ]
    },
    {
     "name": "stderr",
     "output_type": "stream",
     "text": [
      "WARNING:root:output_file: /var/folders/k_/plmjzvbd70z_9dbsrxw1gnvh0000gv/T/tmpMXsFOl.wav already exists and will be overwritten on build\n"
     ]
    },
    {
     "name": "stdout",
     "output_type": "stream",
     "text": [
      "\n",
      "/Datasets/MedleyDB/Audio/AvaLuna_Waterduct/AvaLuna_Waterduct_STEMS/AvaLuna_Waterduct_STEM_04.wav"
     ]
    },
    {
     "name": "stderr",
     "output_type": "stream",
     "text": [
      "WARNING:root:output_file: /var/folders/k_/plmjzvbd70z_9dbsrxw1gnvh0000gv/T/tmpUbMdvV.wav already exists and will be overwritten on build\n"
     ]
    },
    {
     "name": "stdout",
     "output_type": "stream",
     "text": [
      "\n",
      "/Datasets/MedleyDB/Audio/BigTroubles_Phantom/BigTroubles_Phantom_STEMS/BigTroubles_Phantom_STEM_02.wav"
     ]
    },
    {
     "name": "stderr",
     "output_type": "stream",
     "text": [
      "WARNING:root:output_file: /var/folders/k_/plmjzvbd70z_9dbsrxw1gnvh0000gv/T/tmpcQwsSJ.wav already exists and will be overwritten on build\n"
     ]
    },
    {
     "name": "stdout",
     "output_type": "stream",
     "text": [
      "\n",
      "/Datasets/MedleyDB/Audio/CelestialShore_DieForUs/CelestialShore_DieForUs_STEMS/CelestialShore_DieForUs_STEM_06.wav"
     ]
    },
    {
     "name": "stderr",
     "output_type": "stream",
     "text": [
      "WARNING:root:output_file: /var/folders/k_/plmjzvbd70z_9dbsrxw1gnvh0000gv/T/tmpROmuej.wav already exists and will be overwritten on build\n"
     ]
    },
    {
     "name": "stdout",
     "output_type": "stream",
     "text": [
      "\n",
      "/Datasets/MedleyDB/Audio/ClaraBerryAndWooldog_AirTraffic/ClaraBerryAndWooldog_AirTraffic_STEMS/ClaraBerryAndWooldog_AirTraffic_STEM_01.wav"
     ]
    },
    {
     "name": "stderr",
     "output_type": "stream",
     "text": [
      "WARNING:root:output_file: /var/folders/k_/plmjzvbd70z_9dbsrxw1gnvh0000gv/T/tmpfpMBiD.wav already exists and will be overwritten on build\n"
     ]
    },
    {
     "name": "stdout",
     "output_type": "stream",
     "text": [
      "\n",
      "/Datasets/MedleyDB/Audio/ClaraBerryAndWooldog_Stella/ClaraBerryAndWooldog_Stella_STEMS/ClaraBerryAndWooldog_Stella_STEM_01.wav"
     ]
    },
    {
     "name": "stderr",
     "output_type": "stream",
     "text": [
      "WARNING:root:output_file: /var/folders/k_/plmjzvbd70z_9dbsrxw1gnvh0000gv/T/tmpGS2Unc.wav already exists and will be overwritten on build\n"
     ]
    },
    {
     "name": "stdout",
     "output_type": "stream",
     "text": [
      "\n",
      "/Datasets/MedleyDB/Audio/ClaraBerryAndWooldog_WaltzForMyVictims/ClaraBerryAndWooldog_WaltzForMyVictims_STEMS/ClaraBerryAndWooldog_WaltzForMyVictims_STEM_01.wav"
     ]
    },
    {
     "name": "stderr",
     "output_type": "stream",
     "text": [
      "WARNING:root:output_file: /var/folders/k_/plmjzvbd70z_9dbsrxw1gnvh0000gv/T/tmp4VNqly.wav already exists and will be overwritten on build\n"
     ]
    },
    {
     "name": "stdout",
     "output_type": "stream",
     "text": [
      "\n",
      "/Datasets/MedleyDB/Audio/Creepoid_OldTree/Creepoid_OldTree_STEMS/Creepoid_OldTree_STEM_04.wav"
     ]
    },
    {
     "name": "stderr",
     "output_type": "stream",
     "text": [
      "WARNING:root:output_file: /var/folders/k_/plmjzvbd70z_9dbsrxw1gnvh0000gv/T/tmpdQygQT.wav already exists and will be overwritten on build\n"
     ]
    },
    {
     "name": "stdout",
     "output_type": "stream",
     "text": [
      "\n",
      "/Datasets/MedleyDB/Audio/DreamersOfTheGhetto_HeavyLove/DreamersOfTheGhetto_HeavyLove_STEMS/DreamersOfTheGhetto_HeavyLove_STEM_05.wav"
     ]
    },
    {
     "name": "stderr",
     "output_type": "stream",
     "text": [
      "WARNING:root:output_file: /var/folders/k_/plmjzvbd70z_9dbsrxw1gnvh0000gv/T/tmpSNUELG.wav already exists and will be overwritten on build\n"
     ]
    },
    {
     "name": "stdout",
     "output_type": "stream",
     "text": [
      "\n",
      "/Datasets/MedleyDB/Audio/EthanHein_BluesForNofi/EthanHein_BluesForNofi_STEMS/EthanHein_BluesForNofi_STEM_01.wav"
     ]
    },
    {
     "name": "stderr",
     "output_type": "stream",
     "text": [
      "WARNING:root:output_file: /var/folders/k_/plmjzvbd70z_9dbsrxw1gnvh0000gv/T/tmpTH03mb.wav already exists and will be overwritten on build\n"
     ]
    },
    {
     "name": "stdout",
     "output_type": "stream",
     "text": [
      "\n",
      "/Datasets/MedleyDB/Audio/FacesOnFilm_WaitingForGa/FacesOnFilm_WaitingForGa_STEMS/FacesOnFilm_WaitingForGa_STEM_04.wav"
     ]
    },
    {
     "name": "stderr",
     "output_type": "stream",
     "text": [
      "WARNING:root:output_file: /var/folders/k_/plmjzvbd70z_9dbsrxw1gnvh0000gv/T/tmp0AJuZu.wav already exists and will be overwritten on build\n"
     ]
    },
    {
     "name": "stdout",
     "output_type": "stream",
     "text": [
      "\n",
      "/Datasets/MedleyDB/Audio/HezekiahJones_BorrowedHeart/HezekiahJones_BorrowedHeart_STEMS/HezekiahJones_BorrowedHeart_STEM_09.wav"
     ]
    },
    {
     "name": "stderr",
     "output_type": "stream",
     "text": [
      "WARNING:root:output_file: /var/folders/k_/plmjzvbd70z_9dbsrxw1gnvh0000gv/T/tmpVxGCa_.wav already exists and will be overwritten on build\n"
     ]
    },
    {
     "name": "stdout",
     "output_type": "stream",
     "text": [
      "\n",
      "/Datasets/MedleyDB/Audio/HopAlong_SisterCities/HopAlong_SisterCities_STEMS/HopAlong_SisterCities_STEM_04.wav"
     ]
    },
    {
     "name": "stderr",
     "output_type": "stream",
     "text": [
      "WARNING:root:output_file: /var/folders/k_/plmjzvbd70z_9dbsrxw1gnvh0000gv/T/tmpgXwe7R.wav already exists and will be overwritten on build\n"
     ]
    },
    {
     "name": "stdout",
     "output_type": "stream",
     "text": [
      "\n",
      "/Datasets/MedleyDB/Audio/InvisibleFamiliars_DisturbingWildlife/InvisibleFamiliars_DisturbingWildlife_STEMS/InvisibleFamiliars_DisturbingWildlife_STEM_04.wav"
     ]
    },
    {
     "name": "stderr",
     "output_type": "stream",
     "text": [
      "WARNING:root:output_file: /var/folders/k_/plmjzvbd70z_9dbsrxw1gnvh0000gv/T/tmpljqJb6.wav already exists and will be overwritten on build\n"
     ]
    },
    {
     "name": "stdout",
     "output_type": "stream",
     "text": [
      "\n",
      "/Datasets/MedleyDB/Audio/Lushlife_ToynbeeSuite/Lushlife_ToynbeeSuite_STEMS/Lushlife_ToynbeeSuite_STEM_07.wav"
     ]
    },
    {
     "name": "stderr",
     "output_type": "stream",
     "text": [
      "WARNING:root:output_file: /var/folders/k_/plmjzvbd70z_9dbsrxw1gnvh0000gv/T/tmp7IoJWC.wav already exists and will be overwritten on build\n"
     ]
    },
    {
     "name": "stdout",
     "output_type": "stream",
     "text": [
      "\n",
      "/Datasets/MedleyDB/Audio/MatthewEntwistle_DontYouEver/MatthewEntwistle_DontYouEver_STEMS/MatthewEntwistle_DontYouEver_STEM_04.wav"
     ]
    },
    {
     "name": "stderr",
     "output_type": "stream",
     "text": [
      "WARNING:root:output_file: /var/folders/k_/plmjzvbd70z_9dbsrxw1gnvh0000gv/T/tmpyuphAO.wav already exists and will be overwritten on build\n"
     ]
    },
    {
     "name": "stdout",
     "output_type": "stream",
     "text": [
      "\n",
      "/Datasets/MedleyDB/Audio/Meaxic_TakeAStep/Meaxic_TakeAStep_STEMS/Meaxic_TakeAStep_STEM_05.wav"
     ]
    },
    {
     "name": "stderr",
     "output_type": "stream",
     "text": [
      "WARNING:root:output_file: /var/folders/k_/plmjzvbd70z_9dbsrxw1gnvh0000gv/T/tmp2DNavy.wav already exists and will be overwritten on build\n"
     ]
    },
    {
     "name": "stdout",
     "output_type": "stream",
     "text": [
      "\n",
      "/Datasets/MedleyDB/Audio/Meaxic_YouListen/Meaxic_YouListen_STEMS/Meaxic_YouListen_STEM_07.wav"
     ]
    },
    {
     "name": "stderr",
     "output_type": "stream",
     "text": [
      "WARNING:root:output_file: /var/folders/k_/plmjzvbd70z_9dbsrxw1gnvh0000gv/T/tmpsIr0uK.wav already exists and will be overwritten on build\n"
     ]
    },
    {
     "name": "stdout",
     "output_type": "stream",
     "text": [
      "\n",
      "/Datasets/MedleyDB/Audio/MusicDelta_80sRock/MusicDelta_80sRock_STEMS/MusicDelta_80sRock_STEM_01.wav"
     ]
    },
    {
     "name": "stderr",
     "output_type": "stream",
     "text": [
      "WARNING:root:output_file: /var/folders/k_/plmjzvbd70z_9dbsrxw1gnvh0000gv/T/tmpj0z_IL.wav already exists and will be overwritten on build\n"
     ]
    },
    {
     "name": "stdout",
     "output_type": "stream",
     "text": [
      "\n",
      "/Datasets/MedleyDB/Audio/MusicDelta_Beatles/MusicDelta_Beatles_STEMS/MusicDelta_Beatles_STEM_01.wav"
     ]
    },
    {
     "name": "stderr",
     "output_type": "stream",
     "text": [
      "WARNING:root:output_file: /var/folders/k_/plmjzvbd70z_9dbsrxw1gnvh0000gv/T/tmppxl2NE.wav already exists and will be overwritten on build\n"
     ]
    },
    {
     "name": "stdout",
     "output_type": "stream",
     "text": [
      "\n",
      "/Datasets/MedleyDB/Audio/MusicDelta_BebopJazz/MusicDelta_BebopJazz_STEMS/MusicDelta_BebopJazz_STEM_01.wav"
     ]
    },
    {
     "name": "stderr",
     "output_type": "stream",
     "text": [
      "WARNING:root:output_file: /var/folders/k_/plmjzvbd70z_9dbsrxw1gnvh0000gv/T/tmpk_3mTF.wav already exists and will be overwritten on build\n"
     ]
    },
    {
     "name": "stdout",
     "output_type": "stream",
     "text": [
      "\n",
      "/Datasets/MedleyDB/Audio/MusicDelta_Britpop/MusicDelta_Britpop_STEMS/MusicDelta_Britpop_STEM_01.wav"
     ]
    },
    {
     "name": "stderr",
     "output_type": "stream",
     "text": [
      "WARNING:root:output_file: /var/folders/k_/plmjzvbd70z_9dbsrxw1gnvh0000gv/T/tmp7RzhxB.wav already exists and will be overwritten on build\n"
     ]
    },
    {
     "name": "stdout",
     "output_type": "stream",
     "text": [
      "\n",
      "/Datasets/MedleyDB/Audio/MusicDelta_CoolJazz/MusicDelta_CoolJazz_STEMS/MusicDelta_CoolJazz_STEM_02.wav"
     ]
    },
    {
     "name": "stderr",
     "output_type": "stream",
     "text": [
      "WARNING:root:output_file: /var/folders/k_/plmjzvbd70z_9dbsrxw1gnvh0000gv/T/tmpg80i0V.wav already exists and will be overwritten on build\n"
     ]
    },
    {
     "name": "stdout",
     "output_type": "stream",
     "text": [
      "\n",
      "/Datasets/MedleyDB/Audio/MusicDelta_Country1/MusicDelta_Country1_STEMS/MusicDelta_Country1_STEM_01.wav"
     ]
    },
    {
     "name": "stderr",
     "output_type": "stream",
     "text": [
      "WARNING:root:output_file: /var/folders/k_/plmjzvbd70z_9dbsrxw1gnvh0000gv/T/tmpspUk14.wav already exists and will be overwritten on build\n"
     ]
    },
    {
     "name": "stdout",
     "output_type": "stream",
     "text": [
      "\n",
      "/Datasets/MedleyDB/Audio/MusicDelta_Country2/MusicDelta_Country2_STEMS/MusicDelta_Country2_STEM_01.wav"
     ]
    },
    {
     "name": "stderr",
     "output_type": "stream",
     "text": [
      "WARNING:root:output_file: /var/folders/k_/plmjzvbd70z_9dbsrxw1gnvh0000gv/T/tmpBH7zJH.wav already exists and will be overwritten on build\n"
     ]
    },
    {
     "name": "stdout",
     "output_type": "stream",
     "text": [
      "\n",
      "/Datasets/MedleyDB/Audio/MusicDelta_Disco/MusicDelta_Disco_STEMS/MusicDelta_Disco_STEM_01.wav"
     ]
    },
    {
     "name": "stderr",
     "output_type": "stream",
     "text": [
      "WARNING:root:output_file: /var/folders/k_/plmjzvbd70z_9dbsrxw1gnvh0000gv/T/tmpHDHMjY.wav already exists and will be overwritten on build\n"
     ]
    },
    {
     "name": "stdout",
     "output_type": "stream",
     "text": [
      "\n",
      "/Datasets/MedleyDB/Audio/MusicDelta_FreeJazz/MusicDelta_FreeJazz_STEMS/MusicDelta_FreeJazz_STEM_01.wav"
     ]
    },
    {
     "name": "stderr",
     "output_type": "stream",
     "text": [
      "WARNING:root:output_file: /var/folders/k_/plmjzvbd70z_9dbsrxw1gnvh0000gv/T/tmpqBrX24.wav already exists and will be overwritten on build\n"
     ]
    },
    {
     "name": "stdout",
     "output_type": "stream",
     "text": [
      "\n",
      "/Datasets/MedleyDB/Audio/MusicDelta_FunkJazz/MusicDelta_FunkJazz_STEMS/MusicDelta_FunkJazz_STEM_01.wav"
     ]
    },
    {
     "name": "stderr",
     "output_type": "stream",
     "text": [
      "WARNING:root:output_file: /var/folders/k_/plmjzvbd70z_9dbsrxw1gnvh0000gv/T/tmpo2P1hh.wav already exists and will be overwritten on build\n"
     ]
    },
    {
     "name": "stdout",
     "output_type": "stream",
     "text": [
      "\n",
      "/Datasets/MedleyDB/Audio/MusicDelta_FusionJazz/MusicDelta_FusionJazz_STEMS/MusicDelta_FusionJazz_STEM_01.wav"
     ]
    },
    {
     "name": "stderr",
     "output_type": "stream",
     "text": [
      "WARNING:root:output_file: /var/folders/k_/plmjzvbd70z_9dbsrxw1gnvh0000gv/T/tmp3EKF3o.wav already exists and will be overwritten on build\n"
     ]
    },
    {
     "name": "stdout",
     "output_type": "stream",
     "text": [
      "\n",
      "/Datasets/MedleyDB/Audio/MusicDelta_Gospel/MusicDelta_Gospel_STEMS/MusicDelta_Gospel_STEM_01.wav"
     ]
    },
    {
     "name": "stderr",
     "output_type": "stream",
     "text": [
      "WARNING:root:output_file: /var/folders/k_/plmjzvbd70z_9dbsrxw1gnvh0000gv/T/tmpck1Ray.wav already exists and will be overwritten on build\n"
     ]
    },
    {
     "name": "stdout",
     "output_type": "stream",
     "text": [
      "\n",
      "/Datasets/MedleyDB/Audio/MusicDelta_Grunge/MusicDelta_Grunge_STEMS/MusicDelta_Grunge_STEM_01.wav"
     ]
    },
    {
     "name": "stderr",
     "output_type": "stream",
     "text": [
      "WARNING:root:output_file: /var/folders/k_/plmjzvbd70z_9dbsrxw1gnvh0000gv/T/tmp7byNNK.wav already exists and will be overwritten on build\n"
     ]
    },
    {
     "name": "stdout",
     "output_type": "stream",
     "text": [
      "\n",
      "/Datasets/MedleyDB/Audio/MusicDelta_Hendrix/MusicDelta_Hendrix_STEMS/MusicDelta_Hendrix_STEM_01.wav"
     ]
    },
    {
     "name": "stderr",
     "output_type": "stream",
     "text": [
      "WARNING:root:output_file: /var/folders/k_/plmjzvbd70z_9dbsrxw1gnvh0000gv/T/tmpB5Un9B.wav already exists and will be overwritten on build\n"
     ]
    },
    {
     "name": "stdout",
     "output_type": "stream",
     "text": [
      "\n",
      "/Datasets/MedleyDB/Audio/MusicDelta_LatinJazz/MusicDelta_LatinJazz_STEMS/MusicDelta_LatinJazz_STEM_02.wav"
     ]
    },
    {
     "name": "stderr",
     "output_type": "stream",
     "text": [
      "WARNING:root:output_file: /var/folders/k_/plmjzvbd70z_9dbsrxw1gnvh0000gv/T/tmpZx4xaa.wav already exists and will be overwritten on build\n"
     ]
    },
    {
     "name": "stdout",
     "output_type": "stream",
     "text": [
      "\n",
      "/Datasets/MedleyDB/Audio/MusicDelta_ModalJazz/MusicDelta_ModalJazz_STEMS/MusicDelta_ModalJazz_STEM_01.wav"
     ]
    },
    {
     "name": "stderr",
     "output_type": "stream",
     "text": [
      "WARNING:root:output_file: /var/folders/k_/plmjzvbd70z_9dbsrxw1gnvh0000gv/T/tmp12GY9j.wav already exists and will be overwritten on build\n"
     ]
    },
    {
     "name": "stdout",
     "output_type": "stream",
     "text": [
      "\n",
      "/Datasets/MedleyDB/Audio/MusicDelta_Punk/MusicDelta_Punk_STEMS/MusicDelta_Punk_STEM_01.wav"
     ]
    },
    {
     "name": "stderr",
     "output_type": "stream",
     "text": [
      "WARNING:root:output_file: /var/folders/k_/plmjzvbd70z_9dbsrxw1gnvh0000gv/T/tmpwLeYuD.wav already exists and will be overwritten on build\n"
     ]
    },
    {
     "name": "stdout",
     "output_type": "stream",
     "text": [
      "\n",
      "/Datasets/MedleyDB/Audio/MusicDelta_Reggae/MusicDelta_Reggae_STEMS/MusicDelta_Reggae_STEM_01.wav"
     ]
    },
    {
     "name": "stderr",
     "output_type": "stream",
     "text": [
      "WARNING:root:output_file: /var/folders/k_/plmjzvbd70z_9dbsrxw1gnvh0000gv/T/tmp1lwdtV.wav already exists and will be overwritten on build\n"
     ]
    },
    {
     "name": "stdout",
     "output_type": "stream",
     "text": [
      "\n",
      "/Datasets/MedleyDB/Audio/MusicDelta_Rock/MusicDelta_Rock_STEMS/MusicDelta_Rock_STEM_01.wav"
     ]
    },
    {
     "name": "stderr",
     "output_type": "stream",
     "text": [
      "WARNING:root:output_file: /var/folders/k_/plmjzvbd70z_9dbsrxw1gnvh0000gv/T/tmpbUYjXl.wav already exists and will be overwritten on build\n"
     ]
    },
    {
     "name": "stdout",
     "output_type": "stream",
     "text": [
      "\n",
      "/Datasets/MedleyDB/Audio/MusicDelta_Rockabilly/MusicDelta_Rockabilly_STEMS/MusicDelta_Rockabilly_STEM_01.wav"
     ]
    },
    {
     "name": "stderr",
     "output_type": "stream",
     "text": [
      "WARNING:root:output_file: /var/folders/k_/plmjzvbd70z_9dbsrxw1gnvh0000gv/T/tmpSYbyL3.wav already exists and will be overwritten on build\n"
     ]
    },
    {
     "name": "stdout",
     "output_type": "stream",
     "text": [
      "\n",
      "/Datasets/MedleyDB/Audio/MusicDelta_Shadows/MusicDelta_Shadows_STEMS/MusicDelta_Shadows_STEM_02.wav"
     ]
    },
    {
     "name": "stderr",
     "output_type": "stream",
     "text": [
      "WARNING:root:output_file: /var/folders/k_/plmjzvbd70z_9dbsrxw1gnvh0000gv/T/tmpua8FCT.wav already exists and will be overwritten on build\n"
     ]
    },
    {
     "name": "stdout",
     "output_type": "stream",
     "text": [
      "\n",
      "/Datasets/MedleyDB/Audio/MusicDelta_SpeedMetal/MusicDelta_SpeedMetal_STEMS/MusicDelta_SpeedMetal_STEM_01.wav"
     ]
    },
    {
     "name": "stderr",
     "output_type": "stream",
     "text": [
      "WARNING:root:output_file: /var/folders/k_/plmjzvbd70z_9dbsrxw1gnvh0000gv/T/tmppKPuy8.wav already exists and will be overwritten on build\n"
     ]
    },
    {
     "name": "stdout",
     "output_type": "stream",
     "text": [
      "\n",
      "/Datasets/MedleyDB/Audio/MusicDelta_SwingJazz/MusicDelta_SwingJazz_STEMS/MusicDelta_SwingJazz_STEM_02.wav"
     ]
    },
    {
     "name": "stderr",
     "output_type": "stream",
     "text": [
      "WARNING:root:output_file: /var/folders/k_/plmjzvbd70z_9dbsrxw1gnvh0000gv/T/tmp1HKN0w.wav already exists and will be overwritten on build\n"
     ]
    },
    {
     "name": "stdout",
     "output_type": "stream",
     "text": [
      "\n",
      "/Datasets/MedleyDB/Audio/MusicDelta_Zeppelin/MusicDelta_Zeppelin_STEMS/MusicDelta_Zeppelin_STEM_02.wav"
     ]
    },
    {
     "name": "stderr",
     "output_type": "stream",
     "text": [
      "WARNING:root:output_file: /var/folders/k_/plmjzvbd70z_9dbsrxw1gnvh0000gv/T/tmpw9z5Ia.wav already exists and will be overwritten on build\n"
     ]
    },
    {
     "name": "stdout",
     "output_type": "stream",
     "text": [
      "\n",
      "/Datasets/MedleyDB/Audio/NightPanther_Fire/NightPanther_Fire_STEMS/NightPanther_Fire_STEM_05.wav"
     ]
    },
    {
     "name": "stderr",
     "output_type": "stream",
     "text": [
      "WARNING:root:output_file: /var/folders/k_/plmjzvbd70z_9dbsrxw1gnvh0000gv/T/tmpTdTGKb.wav already exists and will be overwritten on build\n"
     ]
    },
    {
     "name": "stdout",
     "output_type": "stream",
     "text": [
      "\n",
      "/Datasets/MedleyDB/Audio/PortStWillow_StayEven/PortStWillow_StayEven_STEMS/PortStWillow_StayEven_STEM_03.wav"
     ]
    },
    {
     "name": "stderr",
     "output_type": "stream",
     "text": [
      "WARNING:root:output_file: /var/folders/k_/plmjzvbd70z_9dbsrxw1gnvh0000gv/T/tmp9VCARV.wav already exists and will be overwritten on build\n"
     ]
    },
    {
     "name": "stdout",
     "output_type": "stream",
     "text": [
      "\n",
      "/Datasets/MedleyDB/Audio/PortStWillow_StayEven/PortStWillow_StayEven_STEMS/PortStWillow_StayEven_STEM_04.wav"
     ]
    },
    {
     "name": "stderr",
     "output_type": "stream",
     "text": [
      "WARNING:root:output_file: /var/folders/k_/plmjzvbd70z_9dbsrxw1gnvh0000gv/T/tmpoi0Guy.wav already exists and will be overwritten on build\n"
     ]
    },
    {
     "name": "stdout",
     "output_type": "stream",
     "text": [
      "\n",
      "/Datasets/MedleyDB/Audio/SecretMountains_HighHorse/SecretMountains_HighHorse_STEMS/SecretMountains_HighHorse_STEM_04.wav"
     ]
    },
    {
     "name": "stderr",
     "output_type": "stream",
     "text": [
      "WARNING:root:output_file: /var/folders/k_/plmjzvbd70z_9dbsrxw1gnvh0000gv/T/tmpJDuJsi.wav already exists and will be overwritten on build\n"
     ]
    },
    {
     "name": "stdout",
     "output_type": "stream",
     "text": [
      "\n",
      "/Datasets/MedleyDB/Audio/Snowmine_Curfews/Snowmine_Curfews_STEMS/Snowmine_Curfews_STEM_05.wav"
     ]
    },
    {
     "name": "stderr",
     "output_type": "stream",
     "text": [
      "WARNING:root:output_file: /var/folders/k_/plmjzvbd70z_9dbsrxw1gnvh0000gv/T/tmpoaDPGv.wav already exists and will be overwritten on build\n"
     ]
    },
    {
     "name": "stdout",
     "output_type": "stream",
     "text": [
      "\n",
      "/Datasets/MedleyDB/Audio/StevenClark_Bounty/StevenClark_Bounty_STEMS/StevenClark_Bounty_STEM_05.wav"
     ]
    },
    {
     "name": "stderr",
     "output_type": "stream",
     "text": [
      "WARNING:root:output_file: /var/folders/k_/plmjzvbd70z_9dbsrxw1gnvh0000gv/T/tmpagreV8.wav already exists and will be overwritten on build\n"
     ]
    },
    {
     "name": "stdout",
     "output_type": "stream",
     "text": [
      "\n",
      "/Datasets/MedleyDB/Audio/StrandOfOaks_Spacestation/StrandOfOaks_Spacestation_STEMS/StrandOfOaks_Spacestation_STEM_03.wav"
     ]
    },
    {
     "name": "stderr",
     "output_type": "stream",
     "text": [
      "WARNING:root:output_file: /var/folders/k_/plmjzvbd70z_9dbsrxw1gnvh0000gv/T/tmpQfXXHq.wav already exists and will be overwritten on build\n"
     ]
    },
    {
     "name": "stdout",
     "output_type": "stream",
     "text": [
      "\n",
      "/Datasets/MedleyDB/Audio/SweetLights_YouLetMeDown/SweetLights_YouLetMeDown_STEMS/SweetLights_YouLetMeDown_STEM_06.wav"
     ]
    },
    {
     "name": "stderr",
     "output_type": "stream",
     "text": [
      "WARNING:root:output_file: /var/folders/k_/plmjzvbd70z_9dbsrxw1gnvh0000gv/T/tmp0U49Xo.wav already exists and will be overwritten on build\n"
     ]
    },
    {
     "name": "stdout",
     "output_type": "stream",
     "text": [
      "\n",
      "/Datasets/MedleyDB/Audio/TablaBreakbeatScience_CaptainSky/TablaBreakbeatScience_CaptainSky_STEMS/TablaBreakbeatScience_CaptainSky_STEM_01.wav"
     ]
    },
    {
     "name": "stderr",
     "output_type": "stream",
     "text": [
      "WARNING:root:output_file: /var/folders/k_/plmjzvbd70z_9dbsrxw1gnvh0000gv/T/tmpuNXQF9.wav already exists and will be overwritten on build\n"
     ]
    },
    {
     "name": "stdout",
     "output_type": "stream",
     "text": [
      "\n",
      "/Datasets/MedleyDB/Audio/TablaBreakbeatScience_MiloVsMongo/TablaBreakbeatScience_MiloVsMongo_STEMS/TablaBreakbeatScience_MiloVsMongo_STEM_01.wav"
     ]
    },
    {
     "name": "stderr",
     "output_type": "stream",
     "text": [
      "WARNING:root:output_file: /var/folders/k_/plmjzvbd70z_9dbsrxw1gnvh0000gv/T/tmpXpgig6.wav already exists and will be overwritten on build\n"
     ]
    },
    {
     "name": "stdout",
     "output_type": "stream",
     "text": [
      "\n",
      "/Datasets/MedleyDB/Audio/TheDistricts_Vermont/TheDistricts_Vermont_STEMS/TheDistricts_Vermont_STEM_03.wav"
     ]
    },
    {
     "name": "stderr",
     "output_type": "stream",
     "text": [
      "WARNING:root:output_file: /var/folders/k_/plmjzvbd70z_9dbsrxw1gnvh0000gv/T/tmpcesky3.wav already exists and will be overwritten on build\n"
     ]
    },
    {
     "name": "stdout",
     "output_type": "stream",
     "text": [
      "\n",
      "/Datasets/MedleyDB/Audio/TheScarletBrand_LesFleursDuMal/TheScarletBrand_LesFleursDuMal_STEMS/TheScarletBrand_LesFleursDuMal_STEM_01.wav"
     ]
    },
    {
     "name": "stderr",
     "output_type": "stream",
     "text": [
      "WARNING:root:output_file: /var/folders/k_/plmjzvbd70z_9dbsrxw1gnvh0000gv/T/tmp_BamoC.wav already exists and will be overwritten on build\n"
     ]
    },
    {
     "name": "stdout",
     "output_type": "stream",
     "text": [
      "\n",
      "/Datasets/MedleyDB/Audio/TheSoSoGlos_Emergency/TheSoSoGlos_Emergency_STEMS/TheSoSoGlos_Emergency_STEM_03.wav"
     ]
    },
    {
     "name": "stderr",
     "output_type": "stream",
     "text": [
      "WARNING:root:output_file: /var/folders/k_/plmjzvbd70z_9dbsrxw1gnvh0000gv/T/tmpyLiDeD.wav already exists and will be overwritten on build\n"
     ]
    },
    {
     "name": "stdout",
     "output_type": "stream",
     "text": [
      "\n",
      "master_train_instrument_mfcc_matrix shape: (40, 249452)\n",
      "master_train_instrument_label_matrix shape: (249452,)\n",
      "master_test_instrument_mfcc_matrix shape: (40, 126582)\n",
      "master_test_instrument_label_matrix shape: (126582,)"
     ]
    },
    {
     "name": "stderr",
     "output_type": "stream",
     "text": [
      "WARNING:root:output_file: /var/folders/k_/plmjzvbd70z_9dbsrxw1gnvh0000gv/T/tmpeS9JAY.wav already exists and will be overwritten on build\n"
     ]
    },
    {
     "name": "stdout",
     "output_type": "stream",
     "text": [
      "\n",
      "\n",
      "distorted electric guitar\n",
      "31\n",
      "creating new file...\n",
      "/Datasets/MedleyDB/Audio/AClassicEducation_NightOwl/AClassicEducation_NightOwl_STEMS/AClassicEducation_NightOwl_STEM_03.wav\n",
      "/Datasets/MedleyDB/Audio/AClassicEducation_NightOwl/AClassicEducation_NightOwl_STEMS/AClassicEducation_NightOwl_STEM_04.wav"
     ]
    },
    {
     "name": "stderr",
     "output_type": "stream",
     "text": [
      "WARNING:root:output_file: /var/folders/k_/plmjzvbd70z_9dbsrxw1gnvh0000gv/T/tmprOqRAC.wav already exists and will be overwritten on build\n"
     ]
    },
    {
     "name": "stdout",
     "output_type": "stream",
     "text": [
      "\n",
      "/Datasets/MedleyDB/Audio/AClassicEducation_NightOwl/AClassicEducation_NightOwl_STEMS/AClassicEducation_NightOwl_STEM_06.wav"
     ]
    },
    {
     "name": "stderr",
     "output_type": "stream",
     "text": [
      "WARNING:root:output_file: /var/folders/k_/plmjzvbd70z_9dbsrxw1gnvh0000gv/T/tmpi7bQ0Y.wav already exists and will be overwritten on build\n"
     ]
    },
    {
     "name": "stdout",
     "output_type": "stream",
     "text": [
      "\n",
      "/Datasets/MedleyDB/Audio/AClassicEducation_NightOwl/AClassicEducation_NightOwl_STEMS/AClassicEducation_NightOwl_STEM_07.wav"
     ]
    },
    {
     "name": "stderr",
     "output_type": "stream",
     "text": [
      "WARNING:root:output_file: /var/folders/k_/plmjzvbd70z_9dbsrxw1gnvh0000gv/T/tmpisLNmw.wav already exists and will be overwritten on build\n"
     ]
    },
    {
     "name": "stdout",
     "output_type": "stream",
     "text": [
      "\n",
      "/Datasets/MedleyDB/Audio/AvaLuna_Waterduct/AvaLuna_Waterduct_STEMS/AvaLuna_Waterduct_STEM_05.wav"
     ]
    },
    {
     "name": "stderr",
     "output_type": "stream",
     "text": [
      "WARNING:root:output_file: /var/folders/k_/plmjzvbd70z_9dbsrxw1gnvh0000gv/T/tmpet_Qed.wav already exists and will be overwritten on build\n"
     ]
    },
    {
     "name": "stdout",
     "output_type": "stream",
     "text": [
      "\n",
      "/Datasets/MedleyDB/Audio/BigTroubles_Phantom/BigTroubles_Phantom_STEMS/BigTroubles_Phantom_STEM_03.wav"
     ]
    },
    {
     "name": "stderr",
     "output_type": "stream",
     "text": [
      "WARNING:root:output_file: /var/folders/k_/plmjzvbd70z_9dbsrxw1gnvh0000gv/T/tmpltg0Xe.wav already exists and will be overwritten on build\n"
     ]
    },
    {
     "name": "stdout",
     "output_type": "stream",
     "text": [
      "\n",
      "/Datasets/MedleyDB/Audio/BigTroubles_Phantom/BigTroubles_Phantom_STEMS/BigTroubles_Phantom_STEM_05.wav"
     ]
    },
    {
     "name": "stderr",
     "output_type": "stream",
     "text": [
      "WARNING:root:output_file: /var/folders/k_/plmjzvbd70z_9dbsrxw1gnvh0000gv/T/tmp0poThc.wav already exists and will be overwritten on build\n"
     ]
    },
    {
     "name": "stdout",
     "output_type": "stream",
     "text": [
      "\n",
      "/Datasets/MedleyDB/Audio/BigTroubles_Phantom/BigTroubles_Phantom_STEMS/BigTroubles_Phantom_STEM_07.wav"
     ]
    },
    {
     "name": "stderr",
     "output_type": "stream",
     "text": [
      "WARNING:root:output_file: /var/folders/k_/plmjzvbd70z_9dbsrxw1gnvh0000gv/T/tmpdDEHdf.wav already exists and will be overwritten on build\n"
     ]
    },
    {
     "name": "stdout",
     "output_type": "stream",
     "text": [
      "\n",
      "/Datasets/MedleyDB/Audio/Creepoid_OldTree/Creepoid_OldTree_STEMS/Creepoid_OldTree_STEM_05.wav"
     ]
    },
    {
     "name": "stderr",
     "output_type": "stream",
     "text": [
      "WARNING:root:output_file: /var/folders/k_/plmjzvbd70z_9dbsrxw1gnvh0000gv/T/tmpdvgbmy.wav already exists and will be overwritten on build\n"
     ]
    },
    {
     "name": "stdout",
     "output_type": "stream",
     "text": [
      "\n",
      "/Datasets/MedleyDB/Audio/Creepoid_OldTree/Creepoid_OldTree_STEMS/Creepoid_OldTree_STEM_06.wav"
     ]
    },
    {
     "name": "stderr",
     "output_type": "stream",
     "text": [
      "WARNING:root:output_file: /var/folders/k_/plmjzvbd70z_9dbsrxw1gnvh0000gv/T/tmpCQ2EmT.wav already exists and will be overwritten on build\n"
     ]
    },
    {
     "name": "stdout",
     "output_type": "stream",
     "text": [
      "\n",
      "/Datasets/MedleyDB/Audio/EthanHein_GirlOnABridge/EthanHein_GirlOnABridge_STEMS/EthanHein_GirlOnABridge_STEM_05.wav"
     ]
    },
    {
     "name": "stderr",
     "output_type": "stream",
     "text": [
      "WARNING:root:output_file: /var/folders/k_/plmjzvbd70z_9dbsrxw1gnvh0000gv/T/tmp1eIOCq.wav already exists and will be overwritten on build\n"
     ]
    },
    {
     "name": "stdout",
     "output_type": "stream",
     "text": [
      "\n",
      "/Datasets/MedleyDB/Audio/FacesOnFilm_WaitingForGa/FacesOnFilm_WaitingForGa_STEMS/FacesOnFilm_WaitingForGa_STEM_06.wav"
     ]
    },
    {
     "name": "stderr",
     "output_type": "stream",
     "text": [
      "WARNING:root:output_file: /var/folders/k_/plmjzvbd70z_9dbsrxw1gnvh0000gv/T/tmp8eMLzw.wav already exists and will be overwritten on build\n"
     ]
    },
    {
     "name": "stdout",
     "output_type": "stream",
     "text": [
      "\n",
      "/Datasets/MedleyDB/Audio/HopAlong_SisterCities/HopAlong_SisterCities_STEMS/HopAlong_SisterCities_STEM_06.wav"
     ]
    },
    {
     "name": "stderr",
     "output_type": "stream",
     "text": [
      "WARNING:root:output_file: /var/folders/k_/plmjzvbd70z_9dbsrxw1gnvh0000gv/T/tmpK7DoEb.wav already exists and will be overwritten on build\n"
     ]
    },
    {
     "name": "stdout",
     "output_type": "stream",
     "text": [
      "\n",
      "/Datasets/MedleyDB/Audio/HopAlong_SisterCities/HopAlong_SisterCities_STEMS/HopAlong_SisterCities_STEM_08.wav"
     ]
    },
    {
     "name": "stderr",
     "output_type": "stream",
     "text": [
      "WARNING:root:output_file: /var/folders/k_/plmjzvbd70z_9dbsrxw1gnvh0000gv/T/tmpE2H8l2.wav already exists and will be overwritten on build\n"
     ]
    },
    {
     "name": "stdout",
     "output_type": "stream",
     "text": [
      "\n",
      "/Datasets/MedleyDB/Audio/Meaxic_TakeAStep/Meaxic_TakeAStep_STEMS/Meaxic_TakeAStep_STEM_03.wav"
     ]
    },
    {
     "name": "stderr",
     "output_type": "stream",
     "text": [
      "WARNING:root:output_file: /var/folders/k_/plmjzvbd70z_9dbsrxw1gnvh0000gv/T/tmpaGelt6.wav already exists and will be overwritten on build\n"
     ]
    },
    {
     "name": "stdout",
     "output_type": "stream",
     "text": [
      "\n",
      "/Datasets/MedleyDB/Audio/Meaxic_YouListen/Meaxic_YouListen_STEMS/Meaxic_YouListen_STEM_06.wav"
     ]
    },
    {
     "name": "stderr",
     "output_type": "stream",
     "text": [
      "WARNING:root:output_file: /var/folders/k_/plmjzvbd70z_9dbsrxw1gnvh0000gv/T/tmp11UgQg.wav already exists and will be overwritten on build\n"
     ]
    },
    {
     "name": "stdout",
     "output_type": "stream",
     "text": [
      "\n",
      "/Datasets/MedleyDB/Audio/MusicDelta_80sRock/MusicDelta_80sRock_STEMS/MusicDelta_80sRock_STEM_03.wav"
     ]
    },
    {
     "name": "stderr",
     "output_type": "stream",
     "text": [
      "WARNING:root:output_file: /var/folders/k_/plmjzvbd70z_9dbsrxw1gnvh0000gv/T/tmpiLw7Jp.wav already exists and will be overwritten on build\n"
     ]
    },
    {
     "name": "stdout",
     "output_type": "stream",
     "text": [
      "\n",
      "/Datasets/MedleyDB/Audio/MusicDelta_Britpop/MusicDelta_Britpop_STEMS/MusicDelta_Britpop_STEM_03.wav"
     ]
    },
    {
     "name": "stderr",
     "output_type": "stream",
     "text": [
      "WARNING:root:output_file: /var/folders/k_/plmjzvbd70z_9dbsrxw1gnvh0000gv/T/tmpgU6DN_.wav already exists and will be overwritten on build\n"
     ]
    },
    {
     "name": "stdout",
     "output_type": "stream",
     "text": [
      "\n",
      "/Datasets/MedleyDB/Audio/MusicDelta_Grunge/MusicDelta_Grunge_STEMS/MusicDelta_Grunge_STEM_03.wav"
     ]
    },
    {
     "name": "stderr",
     "output_type": "stream",
     "text": [
      "WARNING:root:output_file: /var/folders/k_/plmjzvbd70z_9dbsrxw1gnvh0000gv/T/tmpcTmxbs.wav already exists and will be overwritten on build\n"
     ]
    },
    {
     "name": "stdout",
     "output_type": "stream",
     "text": [
      "\n",
      "/Datasets/MedleyDB/Audio/MusicDelta_Grunge/MusicDelta_Grunge_STEMS/MusicDelta_Grunge_STEM_04.wav"
     ]
    },
    {
     "name": "stderr",
     "output_type": "stream",
     "text": [
      "WARNING:root:output_file: /var/folders/k_/plmjzvbd70z_9dbsrxw1gnvh0000gv/T/tmpAD5URb.wav already exists and will be overwritten on build\n"
     ]
    },
    {
     "name": "stdout",
     "output_type": "stream",
     "text": [
      "\n",
      "/Datasets/MedleyDB/Audio/MusicDelta_Hendrix/MusicDelta_Hendrix_STEMS/MusicDelta_Hendrix_STEM_03.wav"
     ]
    },
    {
     "name": "stderr",
     "output_type": "stream",
     "text": [
      "WARNING:root:output_file: /var/folders/k_/plmjzvbd70z_9dbsrxw1gnvh0000gv/T/tmplBrclQ.wav already exists and will be overwritten on build\n"
     ]
    },
    {
     "name": "stdout",
     "output_type": "stream",
     "text": [
      "\n",
      "/Datasets/MedleyDB/Audio/MusicDelta_Punk/MusicDelta_Punk_STEMS/MusicDelta_Punk_STEM_03.wav"
     ]
    },
    {
     "name": "stderr",
     "output_type": "stream",
     "text": [
      "WARNING:root:output_file: /var/folders/k_/plmjzvbd70z_9dbsrxw1gnvh0000gv/T/tmpLRmYIx.wav already exists and will be overwritten on build\n"
     ]
    },
    {
     "name": "stdout",
     "output_type": "stream",
     "text": [
      "\n",
      "/Datasets/MedleyDB/Audio/MusicDelta_Rockabilly/MusicDelta_Rockabilly_STEMS/MusicDelta_Rockabilly_STEM_03.wav"
     ]
    },
    {
     "name": "stderr",
     "output_type": "stream",
     "text": [
      "WARNING:root:output_file: /var/folders/k_/plmjzvbd70z_9dbsrxw1gnvh0000gv/T/tmpHEmvAp.wav already exists and will be overwritten on build\n"
     ]
    },
    {
     "name": "stdout",
     "output_type": "stream",
     "text": [
      "\n",
      "/Datasets/MedleyDB/Audio/MusicDelta_SpeedMetal/MusicDelta_SpeedMetal_STEMS/MusicDelta_SpeedMetal_STEM_03.wav"
     ]
    },
    {
     "name": "stderr",
     "output_type": "stream",
     "text": [
      "WARNING:root:output_file: /var/folders/k_/plmjzvbd70z_9dbsrxw1gnvh0000gv/T/tmpOWP_yo.wav already exists and will be overwritten on build\n"
     ]
    },
    {
     "name": "stdout",
     "output_type": "stream",
     "text": [
      "\n",
      "/Datasets/MedleyDB/Audio/MusicDelta_SpeedMetal/MusicDelta_SpeedMetal_STEMS/MusicDelta_SpeedMetal_STEM_04.wav"
     ]
    },
    {
     "name": "stderr",
     "output_type": "stream",
     "text": [
      "WARNING:root:output_file: /var/folders/k_/plmjzvbd70z_9dbsrxw1gnvh0000gv/T/tmp3dID6m.wav already exists and will be overwritten on build\n"
     ]
    },
    {
     "name": "stdout",
     "output_type": "stream",
     "text": [
      "\n",
      "/Datasets/MedleyDB/Audio/MusicDelta_Zeppelin/MusicDelta_Zeppelin_STEMS/MusicDelta_Zeppelin_STEM_03.wav"
     ]
    },
    {
     "name": "stderr",
     "output_type": "stream",
     "text": [
      "WARNING:root:output_file: /var/folders/k_/plmjzvbd70z_9dbsrxw1gnvh0000gv/T/tmpUf4sBp.wav already exists and will be overwritten on build\n"
     ]
    },
    {
     "name": "stdout",
     "output_type": "stream",
     "text": [
      "\n",
      "/Datasets/MedleyDB/Audio/MusicDelta_Zeppelin/MusicDelta_Zeppelin_STEMS/MusicDelta_Zeppelin_STEM_04.wav"
     ]
    },
    {
     "name": "stderr",
     "output_type": "stream",
     "text": [
      "WARNING:root:output_file: /var/folders/k_/plmjzvbd70z_9dbsrxw1gnvh0000gv/T/tmp09JApa.wav already exists and will be overwritten on build\n"
     ]
    },
    {
     "name": "stdout",
     "output_type": "stream",
     "text": [
      "\n",
      "/Datasets/MedleyDB/Audio/TablaBreakbeatScience_Animoog/TablaBreakbeatScience_Animoog_STEMS/TablaBreakbeatScience_Animoog_STEM_03.wav"
     ]
    },
    {
     "name": "stderr",
     "output_type": "stream",
     "text": [
      "WARNING:root:output_file: /var/folders/k_/plmjzvbd70z_9dbsrxw1gnvh0000gv/T/tmpmmQlOg.wav already exists and will be overwritten on build\n"
     ]
    },
    {
     "name": "stdout",
     "output_type": "stream",
     "text": [
      "\n",
      "/Datasets/MedleyDB/Audio/TheScarletBrand_LesFleursDuMal/TheScarletBrand_LesFleursDuMal_STEMS/TheScarletBrand_LesFleursDuMal_STEM_04.wav"
     ]
    },
    {
     "name": "stderr",
     "output_type": "stream",
     "text": [
      "WARNING:root:output_file: /var/folders/k_/plmjzvbd70z_9dbsrxw1gnvh0000gv/T/tmpvJRP0U.wav already exists and will be overwritten on build\n"
     ]
    },
    {
     "name": "stdout",
     "output_type": "stream",
     "text": [
      "\n",
      "/Datasets/MedleyDB/Audio/TheScarletBrand_LesFleursDuMal/TheScarletBrand_LesFleursDuMal_STEMS/TheScarletBrand_LesFleursDuMal_STEM_05.wav"
     ]
    },
    {
     "name": "stderr",
     "output_type": "stream",
     "text": [
      "WARNING:root:output_file: /var/folders/k_/plmjzvbd70z_9dbsrxw1gnvh0000gv/T/tmpfdEj1t.wav already exists and will be overwritten on build\n"
     ]
    },
    {
     "name": "stdout",
     "output_type": "stream",
     "text": [
      "\n",
      "/Datasets/MedleyDB/Audio/TheSoSoGlos_Emergency/TheSoSoGlos_Emergency_STEMS/TheSoSoGlos_Emergency_STEM_04.wav"
     ]
    },
    {
     "name": "stderr",
     "output_type": "stream",
     "text": [
      "WARNING:root:output_file: /var/folders/k_/plmjzvbd70z_9dbsrxw1gnvh0000gv/T/tmpHuxHFw.wav already exists and will be overwritten on build\n"
     ]
    },
    {
     "name": "stdout",
     "output_type": "stream",
     "text": [
      "\n",
      "master_train_instrument_mfcc_matrix shape: (40, 129748)\n",
      "master_train_instrument_label_matrix shape: (129748,)\n",
      "master_test_instrument_mfcc_matrix shape: (40, 29585)\n",
      "master_test_instrument_label_matrix shape: (29585,)"
     ]
    },
    {
     "name": "stderr",
     "output_type": "stream",
     "text": [
      "WARNING:root:output_file: /var/folders/k_/plmjzvbd70z_9dbsrxw1gnvh0000gv/T/tmp4U5wIF.wav already exists and will be overwritten on build\n"
     ]
    },
    {
     "name": "stdout",
     "output_type": "stream",
     "text": [
      "\n",
      "\n",
      "female singer\n",
      "19\n",
      "creating new file...\n",
      "/Datasets/MedleyDB/Audio/AimeeNorwich_Child/AimeeNorwich_Child_STEMS/AimeeNorwich_Child_STEM_04.wav\n",
      "/Datasets/MedleyDB/Audio/CelestialShore_DieForUs/CelestialShore_DieForUs_STEMS/CelestialShore_DieForUs_STEM_02.wav"
     ]
    },
    {
     "name": "stderr",
     "output_type": "stream",
     "text": [
      "WARNING:root:output_file: /var/folders/k_/plmjzvbd70z_9dbsrxw1gnvh0000gv/T/tmpMH090m.wav already exists and will be overwritten on build\n"
     ]
    },
    {
     "name": "stdout",
     "output_type": "stream",
     "text": [
      "\n",
      "/Datasets/MedleyDB/Audio/ClaraBerryAndWooldog_AirTraffic/ClaraBerryAndWooldog_AirTraffic_STEMS/ClaraBerryAndWooldog_AirTraffic_STEM_07.wav"
     ]
    },
    {
     "name": "stderr",
     "output_type": "stream",
     "text": [
      "WARNING:root:output_file: /var/folders/k_/plmjzvbd70z_9dbsrxw1gnvh0000gv/T/tmpTu3fxt.wav already exists and will be overwritten on build\n"
     ]
    },
    {
     "name": "stdout",
     "output_type": "stream",
     "text": [
      "\n",
      "/Datasets/MedleyDB/Audio/ClaraBerryAndWooldog_AirTraffic/ClaraBerryAndWooldog_AirTraffic_STEMS/ClaraBerryAndWooldog_AirTraffic_STEM_08.wav"
     ]
    },
    {
     "name": "stderr",
     "output_type": "stream",
     "text": [
      "WARNING:root:output_file: /var/folders/k_/plmjzvbd70z_9dbsrxw1gnvh0000gv/T/tmpHdUVbN.wav already exists and will be overwritten on build\n"
     ]
    },
    {
     "name": "stdout",
     "output_type": "stream",
     "text": [
      "\n",
      "/Datasets/MedleyDB/Audio/ClaraBerryAndWooldog_Stella/ClaraBerryAndWooldog_Stella_STEMS/ClaraBerryAndWooldog_Stella_STEM_07.wav"
     ]
    },
    {
     "name": "stderr",
     "output_type": "stream",
     "text": [
      "WARNING:root:output_file: /var/folders/k_/plmjzvbd70z_9dbsrxw1gnvh0000gv/T/tmpuptZMT.wav already exists and will be overwritten on build\n"
     ]
    },
    {
     "name": "stdout",
     "output_type": "stream",
     "text": [
      "\n",
      "/Datasets/MedleyDB/Audio/ClaraBerryAndWooldog_WaltzForMyVictims/ClaraBerryAndWooldog_WaltzForMyVictims_STEMS/ClaraBerryAndWooldog_WaltzForMyVictims_STEM_05.wav"
     ]
    },
    {
     "name": "stderr",
     "output_type": "stream",
     "text": [
      "WARNING:root:output_file: /var/folders/k_/plmjzvbd70z_9dbsrxw1gnvh0000gv/T/tmpBb2CrK.wav already exists and will be overwritten on build\n"
     ]
    },
    {
     "name": "stdout",
     "output_type": "stream",
     "text": [
      "\n",
      "/Datasets/MedleyDB/Audio/DreamersOfTheGhetto_HeavyLove/DreamersOfTheGhetto_HeavyLove_STEMS/DreamersOfTheGhetto_HeavyLove_STEM_08.wav"
     ]
    },
    {
     "name": "stderr",
     "output_type": "stream",
     "text": [
      "WARNING:root:output_file: /var/folders/k_/plmjzvbd70z_9dbsrxw1gnvh0000gv/T/tmp8SDGVU.wav already exists and will be overwritten on build\n"
     ]
    },
    {
     "name": "stdout",
     "output_type": "stream",
     "text": [
      "\n",
      "/Datasets/MedleyDB/Audio/HopAlong_SisterCities/HopAlong_SisterCities_STEMS/HopAlong_SisterCities_STEM_07.wav"
     ]
    },
    {
     "name": "stderr",
     "output_type": "stream",
     "text": [
      "WARNING:root:output_file: /var/folders/k_/plmjzvbd70z_9dbsrxw1gnvh0000gv/T/tmppTX_BB.wav already exists and will be overwritten on build\n"
     ]
    },
    {
     "name": "stdout",
     "output_type": "stream",
     "text": [
      "\n",
      "/Datasets/MedleyDB/Audio/LizNelson_Coldwar/LizNelson_Coldwar_STEMS/LizNelson_Coldwar_STEM_02.wav"
     ]
    },
    {
     "name": "stderr",
     "output_type": "stream",
     "text": [
      "WARNING:root:output_file: /var/folders/k_/plmjzvbd70z_9dbsrxw1gnvh0000gv/T/tmpF3XSAJ.wav already exists and will be overwritten on build\n"
     ]
    },
    {
     "name": "stdout",
     "output_type": "stream",
     "text": [
      "\n",
      "/Datasets/MedleyDB/Audio/LizNelson_Rainfall/LizNelson_Rainfall_STEMS/LizNelson_Rainfall_STEM_01.wav"
     ]
    },
    {
     "name": "stderr",
     "output_type": "stream",
     "text": [
      "WARNING:root:output_file: /var/folders/k_/plmjzvbd70z_9dbsrxw1gnvh0000gv/T/tmpGubT1q.wav already exists and will be overwritten on build\n"
     ]
    },
    {
     "name": "stdout",
     "output_type": "stream",
     "text": [
      "\n",
      "/Datasets/MedleyDB/Audio/LizNelson_Rainfall/LizNelson_Rainfall_STEMS/LizNelson_Rainfall_STEM_02.wav"
     ]
    },
    {
     "name": "stderr",
     "output_type": "stream",
     "text": [
      "WARNING:root:output_file: /var/folders/k_/plmjzvbd70z_9dbsrxw1gnvh0000gv/T/tmpMROFPb.wav already exists and will be overwritten on build\n"
     ]
    },
    {
     "name": "stdout",
     "output_type": "stream",
     "text": [
      "\n",
      "/Datasets/MedleyDB/Audio/LizNelson_Rainfall/LizNelson_Rainfall_STEMS/LizNelson_Rainfall_STEM_03.wav"
     ]
    },
    {
     "name": "stderr",
     "output_type": "stream",
     "text": [
      "WARNING:root:output_file: /var/folders/k_/plmjzvbd70z_9dbsrxw1gnvh0000gv/T/tmpiGUUSh.wav already exists and will be overwritten on build\n"
     ]
    },
    {
     "name": "stdout",
     "output_type": "stream",
     "text": [
      "\n",
      "/Datasets/MedleyDB/Audio/MusicDelta_Beatles/MusicDelta_Beatles_STEMS/MusicDelta_Beatles_STEM_08.wav"
     ]
    },
    {
     "name": "stderr",
     "output_type": "stream",
     "text": [
      "WARNING:root:output_file: /var/folders/k_/plmjzvbd70z_9dbsrxw1gnvh0000gv/T/tmpQwMXov.wav already exists and will be overwritten on build\n"
     ]
    },
    {
     "name": "stdout",
     "output_type": "stream",
     "text": [
      "\n",
      "/Datasets/MedleyDB/Audio/MusicDelta_Britpop/MusicDelta_Britpop_STEMS/MusicDelta_Britpop_STEM_07.wav"
     ]
    },
    {
     "name": "stderr",
     "output_type": "stream",
     "text": [
      "WARNING:root:output_file: /var/folders/k_/plmjzvbd70z_9dbsrxw1gnvh0000gv/T/tmpp_8GfP.wav already exists and will be overwritten on build\n"
     ]
    },
    {
     "name": "stdout",
     "output_type": "stream",
     "text": [
      "\n",
      "/Datasets/MedleyDB/Audio/MusicDelta_Britpop/MusicDelta_Britpop_STEMS/MusicDelta_Britpop_STEM_08.wav"
     ]
    },
    {
     "name": "stderr",
     "output_type": "stream",
     "text": [
      "WARNING:root:output_file: /var/folders/k_/plmjzvbd70z_9dbsrxw1gnvh0000gv/T/tmpL_bTWK.wav already exists and will be overwritten on build\n"
     ]
    },
    {
     "name": "stdout",
     "output_type": "stream",
     "text": [
      "\n",
      "/Datasets/MedleyDB/Audio/MusicDelta_Country2/MusicDelta_Country2_STEMS/MusicDelta_Country2_STEM_05.wav"
     ]
    },
    {
     "name": "stderr",
     "output_type": "stream",
     "text": [
      "WARNING:root:output_file: /var/folders/k_/plmjzvbd70z_9dbsrxw1gnvh0000gv/T/tmpKt9yA8.wav already exists and will be overwritten on build\n"
     ]
    },
    {
     "name": "stdout",
     "output_type": "stream",
     "text": [
      "\n",
      "/Datasets/MedleyDB/Audio/MusicDelta_Gospel/MusicDelta_Gospel_STEMS/MusicDelta_Gospel_STEM_06.wav"
     ]
    },
    {
     "name": "stderr",
     "output_type": "stream",
     "text": [
      "WARNING:root:output_file: /var/folders/k_/plmjzvbd70z_9dbsrxw1gnvh0000gv/T/tmpIouZet.wav already exists and will be overwritten on build\n"
     ]
    },
    {
     "name": "stdout",
     "output_type": "stream",
     "text": [
      "\n",
      "/Datasets/MedleyDB/Audio/MusicDelta_Rockabilly/MusicDelta_Rockabilly_STEMS/MusicDelta_Rockabilly_STEM_05.wav"
     ]
    },
    {
     "name": "stderr",
     "output_type": "stream",
     "text": [
      "WARNING:root:output_file: /var/folders/k_/plmjzvbd70z_9dbsrxw1gnvh0000gv/T/tmp4JBTsL.wav already exists and will be overwritten on build\n"
     ]
    },
    {
     "name": "stdout",
     "output_type": "stream",
     "text": [
      "\n",
      "/Datasets/MedleyDB/Audio/SecretMountains_HighHorse/SecretMountains_HighHorse_STEMS/SecretMountains_HighHorse_STEM_09.wav"
     ]
    },
    {
     "name": "stderr",
     "output_type": "stream",
     "text": [
      "WARNING:root:output_file: /var/folders/k_/plmjzvbd70z_9dbsrxw1gnvh0000gv/T/tmpAb1zwM.wav already exists and will be overwritten on build\n"
     ]
    },
    {
     "name": "stdout",
     "output_type": "stream",
     "text": [
      "\n",
      "master_train_instrument_mfcc_matrix shape: (40, 65841)\n",
      "master_train_instrument_label_matrix shape: (65841,)"
     ]
    },
    {
     "name": "stderr",
     "output_type": "stream",
     "text": [
      "WARNING:root:output_file: /var/folders/k_/plmjzvbd70z_9dbsrxw1gnvh0000gv/T/tmp7bNKXB.wav already exists and will be overwritten on build\n"
     ]
    },
    {
     "name": "stdout",
     "output_type": "stream",
     "text": [
      "\n",
      "master_test_instrument_mfcc_matrix shape: (40, 14377)\n",
      "master_test_instrument_label_matrix shape: (14377,)\n",
      "\n",
      "male singer\n",
      "41\n",
      "creating new file...\n",
      "/Datasets/MedleyDB/Audio/AClassicEducation_NightOwl/AClassicEducation_NightOwl_STEMS/AClassicEducation_NightOwl_STEM_08.wav\n",
      "/Datasets/MedleyDB/Audio/AClassicEducation_NightOwl/AClassicEducation_NightOwl_STEMS/AClassicEducation_NightOwl_STEM_13.wav"
     ]
    },
    {
     "name": "stderr",
     "output_type": "stream",
     "text": [
      "WARNING:root:output_file: /var/folders/k_/plmjzvbd70z_9dbsrxw1gnvh0000gv/T/tmpnhIClN.wav already exists and will be overwritten on build\n"
     ]
    },
    {
     "name": "stdout",
     "output_type": "stream",
     "text": [
      "\n",
      "/Datasets/MedleyDB/Audio/AlexanderRoss_GoodbyeBolero/AlexanderRoss_GoodbyeBolero_STEMS/AlexanderRoss_GoodbyeBolero_STEM_06.wav"
     ]
    },
    {
     "name": "stderr",
     "output_type": "stream",
     "text": [
      "WARNING:root:output_file: /var/folders/k_/plmjzvbd70z_9dbsrxw1gnvh0000gv/T/tmpFdHBN4.wav already exists and will be overwritten on build\n"
     ]
    },
    {
     "name": "stdout",
     "output_type": "stream",
     "text": [
      "\n",
      "/Datasets/MedleyDB/Audio/AlexanderRoss_VelvetCurtain/AlexanderRoss_VelvetCurtain_STEMS/AlexanderRoss_VelvetCurtain_STEM_06.wav"
     ]
    },
    {
     "name": "stderr",
     "output_type": "stream",
     "text": [
      "WARNING:root:output_file: /var/folders/k_/plmjzvbd70z_9dbsrxw1gnvh0000gv/T/tmpCg2Z4c.wav already exists and will be overwritten on build\n"
     ]
    },
    {
     "name": "stdout",
     "output_type": "stream",
     "text": [
      "\n",
      "/Datasets/MedleyDB/Audio/Auctioneer_OurFutureFaces/Auctioneer_OurFutureFaces_STEMS/Auctioneer_OurFutureFaces_STEM_08.wav"
     ]
    },
    {
     "name": "stderr",
     "output_type": "stream",
     "text": [
      "WARNING:root:output_file: /var/folders/k_/plmjzvbd70z_9dbsrxw1gnvh0000gv/T/tmpuXy1mR.wav already exists and will be overwritten on build\n"
     ]
    },
    {
     "name": "stdout",
     "output_type": "stream",
     "text": [
      "\n",
      "/Datasets/MedleyDB/Audio/AvaLuna_Waterduct/AvaLuna_Waterduct_STEMS/AvaLuna_Waterduct_STEM_08.wav"
     ]
    },
    {
     "name": "stderr",
     "output_type": "stream",
     "text": [
      "WARNING:root:output_file: /var/folders/k_/plmjzvbd70z_9dbsrxw1gnvh0000gv/T/tmp34d1MR.wav already exists and will be overwritten on build\n"
     ]
    },
    {
     "name": "stdout",
     "output_type": "stream",
     "text": [
      "\n",
      "/Datasets/MedleyDB/Audio/BigTroubles_Phantom/BigTroubles_Phantom_STEMS/BigTroubles_Phantom_STEM_04.wav"
     ]
    },
    {
     "name": "stderr",
     "output_type": "stream",
     "text": [
      "WARNING:root:output_file: /var/folders/k_/plmjzvbd70z_9dbsrxw1gnvh0000gv/T/tmp_PFVtL.wav already exists and will be overwritten on build\n"
     ]
    },
    {
     "name": "stdout",
     "output_type": "stream",
     "text": [
      "\n",
      "/Datasets/MedleyDB/Audio/BigTroubles_Phantom/BigTroubles_Phantom_STEMS/BigTroubles_Phantom_STEM_06.wav"
     ]
    },
    {
     "name": "stderr",
     "output_type": "stream",
     "text": [
      "WARNING:root:output_file: /var/folders/k_/plmjzvbd70z_9dbsrxw1gnvh0000gv/T/tmpfaiz7E.wav already exists and will be overwritten on build\n"
     ]
    },
    {
     "name": "stdout",
     "output_type": "stream",
     "text": [
      "\n",
      "/Datasets/MedleyDB/Audio/BrandonWebster_YesSirICanFly/BrandonWebster_YesSirICanFly_STEMS/BrandonWebster_YesSirICanFly_STEM_02.wav"
     ]
    },
    {
     "name": "stderr",
     "output_type": "stream",
     "text": [
      "WARNING:root:output_file: /var/folders/k_/plmjzvbd70z_9dbsrxw1gnvh0000gv/T/tmprKErGc.wav already exists and will be overwritten on build\n"
     ]
    },
    {
     "name": "stdout",
     "output_type": "stream",
     "text": [
      "\n",
      "/Datasets/MedleyDB/Audio/CelestialShore_DieForUs/CelestialShore_DieForUs_STEMS/CelestialShore_DieForUs_STEM_01.wav"
     ]
    },
    {
     "name": "stderr",
     "output_type": "stream",
     "text": [
      "WARNING:root:output_file: /var/folders/k_/plmjzvbd70z_9dbsrxw1gnvh0000gv/T/tmplPa2f9.wav already exists and will be overwritten on build\n"
     ]
    },
    {
     "name": "stdout",
     "output_type": "stream",
     "text": [
      "\n",
      "/Datasets/MedleyDB/Audio/Creepoid_OldTree/Creepoid_OldTree_STEMS/Creepoid_OldTree_STEM_07.wav"
     ]
    },
    {
     "name": "stderr",
     "output_type": "stream",
     "text": [
      "WARNING:root:output_file: /var/folders/k_/plmjzvbd70z_9dbsrxw1gnvh0000gv/T/tmpKIHBTj.wav already exists and will be overwritten on build\n"
     ]
    },
    {
     "name": "stdout",
     "output_type": "stream",
     "text": [
      "\n",
      "/Datasets/MedleyDB/Audio/Creepoid_OldTree/Creepoid_OldTree_STEMS/Creepoid_OldTree_STEM_08.wav"
     ]
    },
    {
     "name": "stderr",
     "output_type": "stream",
     "text": [
      "WARNING:root:output_file: /var/folders/k_/plmjzvbd70z_9dbsrxw1gnvh0000gv/T/tmphAj1h5.wav already exists and will be overwritten on build\n"
     ]
    },
    {
     "name": "stdout",
     "output_type": "stream",
     "text": [
      "\n",
      "/Datasets/MedleyDB/Audio/Creepoid_OldTree/Creepoid_OldTree_STEMS/Creepoid_OldTree_STEM_09.wav"
     ]
    },
    {
     "name": "stderr",
     "output_type": "stream",
     "text": [
      "WARNING:root:output_file: /var/folders/k_/plmjzvbd70z_9dbsrxw1gnvh0000gv/T/tmpi88fIZ.wav already exists and will be overwritten on build\n"
     ]
    },
    {
     "name": "stdout",
     "output_type": "stream",
     "text": [
      "\n",
      "/Datasets/MedleyDB/Audio/DreamersOfTheGhetto_HeavyLove/DreamersOfTheGhetto_HeavyLove_STEMS/DreamersOfTheGhetto_HeavyLove_STEM_06.wav"
     ]
    },
    {
     "name": "stderr",
     "output_type": "stream",
     "text": [
      "WARNING:root:output_file: /var/folders/k_/plmjzvbd70z_9dbsrxw1gnvh0000gv/T/tmpYQ3z1m.wav already exists and will be overwritten on build\n"
     ]
    },
    {
     "name": "stdout",
     "output_type": "stream",
     "text": [
      "\n",
      "/Datasets/MedleyDB/Audio/FacesOnFilm_WaitingForGa/FacesOnFilm_WaitingForGa_STEMS/FacesOnFilm_WaitingForGa_STEM_03.wav"
     ]
    },
    {
     "name": "stderr",
     "output_type": "stream",
     "text": [
      "WARNING:root:output_file: /var/folders/k_/plmjzvbd70z_9dbsrxw1gnvh0000gv/T/tmpoU_cRA.wav already exists and will be overwritten on build\n"
     ]
    },
    {
     "name": "stdout",
     "output_type": "stream",
     "text": [
      "\n",
      "/Datasets/MedleyDB/Audio/HeladoNegro_MitadDelMundo/HeladoNegro_MitadDelMundo_STEMS/HeladoNegro_MitadDelMundo_STEM_03.wav"
     ]
    },
    {
     "name": "stderr",
     "output_type": "stream",
     "text": [
      "WARNING:root:output_file: /var/folders/k_/plmjzvbd70z_9dbsrxw1gnvh0000gv/T/tmpksbz59.wav already exists and will be overwritten on build\n"
     ]
    },
    {
     "name": "stdout",
     "output_type": "stream",
     "text": [
      "\n",
      "/Datasets/MedleyDB/Audio/HeladoNegro_MitadDelMundo/HeladoNegro_MitadDelMundo_STEMS/HeladoNegro_MitadDelMundo_STEM_08.wav"
     ]
    },
    {
     "name": "stderr",
     "output_type": "stream",
     "text": [
      "WARNING:root:output_file: /var/folders/k_/plmjzvbd70z_9dbsrxw1gnvh0000gv/T/tmphi5UOk.wav already exists and will be overwritten on build\n"
     ]
    },
    {
     "name": "stdout",
     "output_type": "stream",
     "text": [
      "\n",
      "/Datasets/MedleyDB/Audio/HezekiahJones_BorrowedHeart/HezekiahJones_BorrowedHeart_STEMS/HezekiahJones_BorrowedHeart_STEM_10.wav"
     ]
    },
    {
     "name": "stderr",
     "output_type": "stream",
     "text": [
      "WARNING:root:output_file: /var/folders/k_/plmjzvbd70z_9dbsrxw1gnvh0000gv/T/tmpLfHxEp.wav already exists and will be overwritten on build\n"
     ]
    },
    {
     "name": "stdout",
     "output_type": "stream",
     "text": [
      "\n",
      "/Datasets/MedleyDB/Audio/InvisibleFamiliars_DisturbingWildlife/InvisibleFamiliars_DisturbingWildlife_STEMS/InvisibleFamiliars_DisturbingWildlife_STEM_09.wav"
     ]
    },
    {
     "name": "stderr",
     "output_type": "stream",
     "text": [
      "WARNING:root:output_file: /var/folders/k_/plmjzvbd70z_9dbsrxw1gnvh0000gv/T/tmpoYuQ3d.wav already exists and will be overwritten on build\n"
     ]
    },
    {
     "name": "stdout",
     "output_type": "stream",
     "text": [
      "\n",
      "/Datasets/MedleyDB/Audio/MatthewEntwistle_DontYouEver/MatthewEntwistle_DontYouEver_STEMS/MatthewEntwistle_DontYouEver_STEM_07.wav"
     ]
    },
    {
     "name": "stderr",
     "output_type": "stream",
     "text": [
      "WARNING:root:output_file: /var/folders/k_/plmjzvbd70z_9dbsrxw1gnvh0000gv/T/tmp8MsF49.wav already exists and will be overwritten on build\n"
     ]
    },
    {
     "name": "stdout",
     "output_type": "stream",
     "text": [
      "\n",
      "/Datasets/MedleyDB/Audio/Meaxic_TakeAStep/Meaxic_TakeAStep_STEMS/Meaxic_TakeAStep_STEM_04.wav"
     ]
    },
    {
     "name": "stderr",
     "output_type": "stream",
     "text": [
      "WARNING:root:output_file: /var/folders/k_/plmjzvbd70z_9dbsrxw1gnvh0000gv/T/tmpIZ422q.wav already exists and will be overwritten on build\n"
     ]
    },
    {
     "name": "stdout",
     "output_type": "stream",
     "text": [
      "\n",
      "/Datasets/MedleyDB/Audio/Meaxic_YouListen/Meaxic_YouListen_STEMS/Meaxic_YouListen_STEM_01.wav"
     ]
    },
    {
     "name": "stderr",
     "output_type": "stream",
     "text": [
      "WARNING:root:output_file: /var/folders/k_/plmjzvbd70z_9dbsrxw1gnvh0000gv/T/tmpSTKtrP.wav already exists and will be overwritten on build\n"
     ]
    },
    {
     "name": "stdout",
     "output_type": "stream",
     "text": [
      "\n",
      "/Datasets/MedleyDB/Audio/MusicDelta_80sRock/MusicDelta_80sRock_STEMS/MusicDelta_80sRock_STEM_04.wav"
     ]
    },
    {
     "name": "stderr",
     "output_type": "stream",
     "text": [
      "WARNING:root:output_file: /var/folders/k_/plmjzvbd70z_9dbsrxw1gnvh0000gv/T/tmpka5Bql.wav already exists and will be overwritten on build\n"
     ]
    },
    {
     "name": "stdout",
     "output_type": "stream",
     "text": [
      "\n",
      "/Datasets/MedleyDB/Audio/MusicDelta_Beatles/MusicDelta_Beatles_STEMS/MusicDelta_Beatles_STEM_07.wav"
     ]
    },
    {
     "name": "stderr",
     "output_type": "stream",
     "text": [
      "WARNING:root:output_file: /var/folders/k_/plmjzvbd70z_9dbsrxw1gnvh0000gv/T/tmpt50PoL.wav already exists and will be overwritten on build\n"
     ]
    },
    {
     "name": "stdout",
     "output_type": "stream",
     "text": [
      "\n",
      "/Datasets/MedleyDB/Audio/MusicDelta_Country1/MusicDelta_Country1_STEMS/MusicDelta_Country1_STEM_05.wav"
     ]
    },
    {
     "name": "stderr",
     "output_type": "stream",
     "text": [
      "WARNING:root:output_file: /var/folders/k_/plmjzvbd70z_9dbsrxw1gnvh0000gv/T/tmpsWXM9k.wav already exists and will be overwritten on build\n"
     ]
    },
    {
     "name": "stdout",
     "output_type": "stream",
     "text": [
      "\n",
      "/Datasets/MedleyDB/Audio/MusicDelta_Disco/MusicDelta_Disco_STEMS/MusicDelta_Disco_STEM_04.wav"
     ]
    },
    {
     "name": "stderr",
     "output_type": "stream",
     "text": [
      "WARNING:root:output_file: /var/folders/k_/plmjzvbd70z_9dbsrxw1gnvh0000gv/T/tmpYg98rn.wav already exists and will be overwritten on build\n"
     ]
    },
    {
     "name": "stdout",
     "output_type": "stream",
     "text": [
      "\n",
      "/Datasets/MedleyDB/Audio/MusicDelta_Grunge/MusicDelta_Grunge_STEMS/MusicDelta_Grunge_STEM_05.wav"
     ]
    },
    {
     "name": "stderr",
     "output_type": "stream",
     "text": [
      "WARNING:root:output_file: /var/folders/k_/plmjzvbd70z_9dbsrxw1gnvh0000gv/T/tmplGoXw4.wav already exists and will be overwritten on build\n"
     ]
    },
    {
     "name": "stdout",
     "output_type": "stream",
     "text": [
      "\n",
      "/Datasets/MedleyDB/Audio/MusicDelta_Hendrix/MusicDelta_Hendrix_STEMS/MusicDelta_Hendrix_STEM_04.wav"
     ]
    },
    {
     "name": "stderr",
     "output_type": "stream",
     "text": [
      "WARNING:root:output_file: /var/folders/k_/plmjzvbd70z_9dbsrxw1gnvh0000gv/T/tmpLmCwB2.wav already exists and will be overwritten on build\n"
     ]
    },
    {
     "name": "stdout",
     "output_type": "stream",
     "text": [
      "\n",
      "/Datasets/MedleyDB/Audio/MusicDelta_Punk/MusicDelta_Punk_STEMS/MusicDelta_Punk_STEM_04.wav"
     ]
    },
    {
     "name": "stderr",
     "output_type": "stream",
     "text": [
      "WARNING:root:output_file: /var/folders/k_/plmjzvbd70z_9dbsrxw1gnvh0000gv/T/tmpbTV2VI.wav already exists and will be overwritten on build\n"
     ]
    },
    {
     "name": "stdout",
     "output_type": "stream",
     "text": [
      "\n",
      "/Datasets/MedleyDB/Audio/MusicDelta_Reggae/MusicDelta_Reggae_STEMS/MusicDelta_Reggae_STEM_04.wav"
     ]
    },
    {
     "name": "stderr",
     "output_type": "stream",
     "text": [
      "WARNING:root:output_file: /var/folders/k_/plmjzvbd70z_9dbsrxw1gnvh0000gv/T/tmphc1cYq.wav already exists and will be overwritten on build\n"
     ]
    },
    {
     "name": "stdout",
     "output_type": "stream",
     "text": [
      "\n",
      "/Datasets/MedleyDB/Audio/MusicDelta_Rock/MusicDelta_Rock_STEMS/MusicDelta_Rock_STEM_05.wav"
     ]
    },
    {
     "name": "stderr",
     "output_type": "stream",
     "text": [
      "WARNING:root:output_file: /var/folders/k_/plmjzvbd70z_9dbsrxw1gnvh0000gv/T/tmpkvTuvk.wav already exists and will be overwritten on build\n"
     ]
    },
    {
     "name": "stdout",
     "output_type": "stream",
     "text": [
      "\n",
      "/Datasets/MedleyDB/Audio/NightPanther_Fire/NightPanther_Fire_STEMS/NightPanther_Fire_STEM_07.wav"
     ]
    },
    {
     "name": "stderr",
     "output_type": "stream",
     "text": [
      "WARNING:root:output_file: /var/folders/k_/plmjzvbd70z_9dbsrxw1gnvh0000gv/T/tmptSgjeD.wav already exists and will be overwritten on build\n"
     ]
    },
    {
     "name": "stdout",
     "output_type": "stream",
     "text": [
      "\n",
      "/Datasets/MedleyDB/Audio/PortStWillow_StayEven/PortStWillow_StayEven_STEMS/PortStWillow_StayEven_STEM_08.wav"
     ]
    },
    {
     "name": "stderr",
     "output_type": "stream",
     "text": [
      "WARNING:root:output_file: /var/folders/k_/plmjzvbd70z_9dbsrxw1gnvh0000gv/T/tmpJ3EHSA.wav already exists and will be overwritten on build\n"
     ]
    },
    {
     "name": "stdout",
     "output_type": "stream",
     "text": [
      "\n",
      "/Datasets/MedleyDB/Audio/Snowmine_Curfews/Snowmine_Curfews_STEMS/Snowmine_Curfews_STEM_03.wav"
     ]
    },
    {
     "name": "stderr",
     "output_type": "stream",
     "text": [
      "WARNING:root:output_file: /var/folders/k_/plmjzvbd70z_9dbsrxw1gnvh0000gv/T/tmpiLvuKY.wav already exists and will be overwritten on build\n"
     ]
    },
    {
     "name": "stdout",
     "output_type": "stream",
     "text": [
      "\n",
      "/Datasets/MedleyDB/Audio/StevenClark_Bounty/StevenClark_Bounty_STEMS/StevenClark_Bounty_STEM_07.wav"
     ]
    },
    {
     "name": "stderr",
     "output_type": "stream",
     "text": [
      "WARNING:root:output_file: /var/folders/k_/plmjzvbd70z_9dbsrxw1gnvh0000gv/T/tmpCN2fRv.wav already exists and will be overwritten on build\n"
     ]
    },
    {
     "name": "stdout",
     "output_type": "stream",
     "text": [
      "\n",
      "/Datasets/MedleyDB/Audio/StevenClark_Bounty/StevenClark_Bounty_STEMS/StevenClark_Bounty_STEM_08.wav"
     ]
    },
    {
     "name": "stderr",
     "output_type": "stream",
     "text": [
      "WARNING:root:output_file: /var/folders/k_/plmjzvbd70z_9dbsrxw1gnvh0000gv/T/tmpeyljsT.wav already exists and will be overwritten on build\n"
     ]
    },
    {
     "name": "stdout",
     "output_type": "stream",
     "text": [
      "\n",
      "/Datasets/MedleyDB/Audio/StrandOfOaks_Spacestation/StrandOfOaks_Spacestation_STEMS/StrandOfOaks_Spacestation_STEM_04.wav"
     ]
    },
    {
     "name": "stderr",
     "output_type": "stream",
     "text": [
      "WARNING:root:output_file: /var/folders/k_/plmjzvbd70z_9dbsrxw1gnvh0000gv/T/tmpc3heSq.wav already exists and will be overwritten on build\n"
     ]
    },
    {
     "name": "stdout",
     "output_type": "stream",
     "text": [
      "\n",
      "/Datasets/MedleyDB/Audio/SweetLights_YouLetMeDown/SweetLights_YouLetMeDown_STEMS/SweetLights_YouLetMeDown_STEM_08.wav"
     ]
    },
    {
     "name": "stderr",
     "output_type": "stream",
     "text": [
      "WARNING:root:output_file: /var/folders/k_/plmjzvbd70z_9dbsrxw1gnvh0000gv/T/tmpEOwtZ7.wav already exists and will be overwritten on build\n"
     ]
    },
    {
     "name": "stdout",
     "output_type": "stream",
     "text": [
      "\n",
      "/Datasets/MedleyDB/Audio/TheDistricts_Vermont/TheDistricts_Vermont_STEMS/TheDistricts_Vermont_STEM_05.wav"
     ]
    },
    {
     "name": "stderr",
     "output_type": "stream",
     "text": [
      "WARNING:root:output_file: /var/folders/k_/plmjzvbd70z_9dbsrxw1gnvh0000gv/T/tmpoahbX1.wav already exists and will be overwritten on build\n"
     ]
    },
    {
     "name": "stdout",
     "output_type": "stream",
     "text": [
      "\n",
      "/Datasets/MedleyDB/Audio/TheScarletBrand_LesFleursDuMal/TheScarletBrand_LesFleursDuMal_STEMS/TheScarletBrand_LesFleursDuMal_STEM_08.wav"
     ]
    },
    {
     "name": "stderr",
     "output_type": "stream",
     "text": [
      "WARNING:root:output_file: /var/folders/k_/plmjzvbd70z_9dbsrxw1gnvh0000gv/T/tmpLDr72g.wav already exists and will be overwritten on build\n"
     ]
    },
    {
     "name": "stdout",
     "output_type": "stream",
     "text": [
      "\n",
      "/Datasets/MedleyDB/Audio/TheSoSoGlos_Emergency/TheSoSoGlos_Emergency_STEMS/TheSoSoGlos_Emergency_STEM_05.wav"
     ]
    },
    {
     "name": "stderr",
     "output_type": "stream",
     "text": [
      "WARNING:root:output_file: /var/folders/k_/plmjzvbd70z_9dbsrxw1gnvh0000gv/T/tmpnXtiPB.wav already exists and will be overwritten on build\n"
     ]
    },
    {
     "name": "stdout",
     "output_type": "stream",
     "text": [
      "\n",
      "master_train_instrument_mfcc_matrix shape: (40, 135807)\n",
      "master_train_instrument_label_matrix shape: (135807,)\n",
      "master_test_instrument_mfcc_matrix shape: (40, 68826)\n",
      "master_test_instrument_label_matrix shape: (68826,)"
     ]
    },
    {
     "name": "stderr",
     "output_type": "stream",
     "text": [
      "WARNING:root:output_file: /var/folders/k_/plmjzvbd70z_9dbsrxw1gnvh0000gv/T/tmpfHxjpA.wav already exists and will be overwritten on build\n"
     ]
    },
    {
     "name": "stdout",
     "output_type": "stream",
     "text": [
      "\n",
      "\n",
      "clarinet\n",
      "8\n",
      "creating new file...\n",
      "/Datasets/MedleyDB/Audio/AimeeNorwich_Flying/AimeeNorwich_Flying_STEMS/AimeeNorwich_Flying_STEM_15.wav\n",
      "/Datasets/MedleyDB/Audio/Lushlife_ToynbeeSuite/Lushlife_ToynbeeSuite_STEMS/Lushlife_ToynbeeSuite_STEM_04.wav"
     ]
    },
    {
     "name": "stderr",
     "output_type": "stream",
     "text": [
      "WARNING:root:output_file: /var/folders/k_/plmjzvbd70z_9dbsrxw1gnvh0000gv/T/tmpPt97rf.wav already exists and will be overwritten on build\n"
     ]
    },
    {
     "name": "stdout",
     "output_type": "stream",
     "text": [
      "\n",
      "/Datasets/MedleyDB/Audio/MatthewEntwistle_AnEveningWithOliver/MatthewEntwistle_AnEveningWithOliver_STEMS/MatthewEntwistle_AnEveningWithOliver_STEM_03.wav"
     ]
    },
    {
     "name": "stderr",
     "output_type": "stream",
     "text": [
      "WARNING:root:output_file: /var/folders/k_/plmjzvbd70z_9dbsrxw1gnvh0000gv/T/tmpbPPVpL.wav already exists and will be overwritten on build\n"
     ]
    },
    {
     "name": "stdout",
     "output_type": "stream",
     "text": [
      "\n",
      "/Datasets/MedleyDB/Audio/MatthewEntwistle_TheFlaxenField/MatthewEntwistle_TheFlaxenField_STEMS/MatthewEntwistle_TheFlaxenField_STEM_02.wav"
     ]
    },
    {
     "name": "stderr",
     "output_type": "stream",
     "text": [
      "WARNING:root:output_file: /var/folders/k_/plmjzvbd70z_9dbsrxw1gnvh0000gv/T/tmpyMJu_j.wav already exists and will be overwritten on build\n"
     ]
    },
    {
     "name": "stdout",
     "output_type": "stream",
     "text": [
      "\n",
      "/Datasets/MedleyDB/Audio/MusicDelta_Beethoven/MusicDelta_Beethoven_STEMS/MusicDelta_Beethoven_STEM_08.wav"
     ]
    },
    {
     "name": "stderr",
     "output_type": "stream",
     "text": [
      "WARNING:root:output_file: /var/folders/k_/plmjzvbd70z_9dbsrxw1gnvh0000gv/T/tmpjIC6DT.wav already exists and will be overwritten on build\n"
     ]
    },
    {
     "name": "stdout",
     "output_type": "stream",
     "text": [
      "\n",
      "/Datasets/MedleyDB/Audio/MusicDelta_Beethoven/MusicDelta_Beethoven_STEMS/MusicDelta_Beethoven_STEM_09.wav"
     ]
    },
    {
     "name": "stderr",
     "output_type": "stream",
     "text": [
      "WARNING:root:output_file: /var/folders/k_/plmjzvbd70z_9dbsrxw1gnvh0000gv/T/tmp9yd3wS.wav already exists and will be overwritten on build\n"
     ]
    },
    {
     "name": "stdout",
     "output_type": "stream",
     "text": [
      "\n",
      "/Datasets/MedleyDB/Audio/MusicDelta_InTheHalloftheMountainKing/MusicDelta_InTheHalloftheMountainKing_STEMS/MusicDelta_InTheHalloftheMountainKing_STEM_09.wav"
     ]
    },
    {
     "name": "stderr",
     "output_type": "stream",
     "text": [
      "WARNING:root:output_file: /var/folders/k_/plmjzvbd70z_9dbsrxw1gnvh0000gv/T/tmpmge8X5.wav already exists and will be overwritten on build\n"
     ]
    },
    {
     "name": "stdout",
     "output_type": "stream",
     "text": [
      "\n",
      "/Datasets/MedleyDB/Audio/MusicDelta_SwingJazz/MusicDelta_SwingJazz_STEMS/MusicDelta_SwingJazz_STEM_04.wav"
     ]
    },
    {
     "name": "stderr",
     "output_type": "stream",
     "text": [
      "WARNING:root:output_file: /var/folders/k_/plmjzvbd70z_9dbsrxw1gnvh0000gv/T/tmpFZ3QSl.wav already exists and will be overwritten on build\n"
     ]
    },
    {
     "name": "stdout",
     "output_type": "stream",
     "text": [
      "\n",
      "master_train_instrument_mfcc_matrix shape: (40, 29713)"
     ]
    },
    {
     "name": "stderr",
     "output_type": "stream",
     "text": [
      "WARNING:root:output_file: /var/folders/k_/plmjzvbd70z_9dbsrxw1gnvh0000gv/T/tmp2C6hvA.wav already exists and will be overwritten on build\n"
     ]
    },
    {
     "name": "stdout",
     "output_type": "stream",
     "text": [
      "\n",
      "master_train_instrument_label_matrix shape: (29713,)\n",
      "master_test_instrument_mfcc_matrix shape: (40, 3629)\n",
      "master_test_instrument_label_matrix shape: (3629,)\n",
      "\n",
      "flute\n",
      "6\n",
      "creating new file...\n",
      "/Datasets/MedleyDB/Audio/MatthewEntwistle_AnEveningWithOliver/MatthewEntwistle_AnEveningWithOliver_STEMS/MatthewEntwistle_AnEveningWithOliver_STEM_12.wav\n",
      "/Datasets/MedleyDB/Audio/MatthewEntwistle_FairerHopes/MatthewEntwistle_FairerHopes_STEMS/MatthewEntwistle_FairerHopes_STEM_14.wav"
     ]
    },
    {
     "name": "stderr",
     "output_type": "stream",
     "text": [
      "WARNING:root:output_file: /var/folders/k_/plmjzvbd70z_9dbsrxw1gnvh0000gv/T/tmpvQ9NfA.wav already exists and will be overwritten on build\n"
     ]
    },
    {
     "name": "stdout",
     "output_type": "stream",
     "text": [
      "\n",
      "/Datasets/MedleyDB/Audio/MusicDelta_Beethoven/MusicDelta_Beethoven_STEMS/MusicDelta_Beethoven_STEM_06.wav"
     ]
    },
    {
     "name": "stderr",
     "output_type": "stream",
     "text": [
      "WARNING:root:output_file: /var/folders/k_/plmjzvbd70z_9dbsrxw1gnvh0000gv/T/tmpL_cL4n.wav already exists and will be overwritten on build\n"
     ]
    },
    {
     "name": "stdout",
     "output_type": "stream",
     "text": [
      "\n",
      "/Datasets/MedleyDB/Audio/MusicDelta_Beethoven/MusicDelta_Beethoven_STEMS/MusicDelta_Beethoven_STEM_07.wav"
     ]
    },
    {
     "name": "stderr",
     "output_type": "stream",
     "text": [
      "WARNING:root:output_file: /var/folders/k_/plmjzvbd70z_9dbsrxw1gnvh0000gv/T/tmpnJHv3k.wav already exists and will be overwritten on build\n"
     ]
    },
    {
     "name": "stdout",
     "output_type": "stream",
     "text": [
      "\n",
      "/Datasets/MedleyDB/Audio/MusicDelta_InTheHalloftheMountainKing/MusicDelta_InTheHalloftheMountainKing_STEMS/MusicDelta_InTheHalloftheMountainKing_STEM_07.wav"
     ]
    },
    {
     "name": "stderr",
     "output_type": "stream",
     "text": [
      "WARNING:root:output_file: /var/folders/k_/plmjzvbd70z_9dbsrxw1gnvh0000gv/T/tmpwMePtc.wav already exists and will be overwritten on build\n"
     ]
    },
    {
     "name": "stdout",
     "output_type": "stream",
     "text": [
      "\n",
      "/Datasets/MedleyDB/Audio/MusicDelta_LatinJazz/MusicDelta_LatinJazz_STEMS/MusicDelta_LatinJazz_STEM_04.wav"
     ]
    },
    {
     "name": "stderr",
     "output_type": "stream",
     "text": [
      "WARNING:root:output_file: /var/folders/k_/plmjzvbd70z_9dbsrxw1gnvh0000gv/T/tmpK0JVDr.wav already exists and will be overwritten on build\n"
     ]
    },
    {
     "name": "stdout",
     "output_type": "stream",
     "text": [
      "\n",
      "master_train_instrument_mfcc_matrix shape: (40, 20301)"
     ]
    },
    {
     "name": "stderr",
     "output_type": "stream",
     "text": [
      "WARNING:root:output_file: /var/folders/k_/plmjzvbd70z_9dbsrxw1gnvh0000gv/T/tmpT1GfCH.wav already exists and will be overwritten on build\n"
     ]
    },
    {
     "name": "stdout",
     "output_type": "stream",
     "text": [
      "\n",
      "master_train_instrument_label_matrix shape: (20301,)\n",
      "master_test_instrument_mfcc_matrix shape: (40, 3391)\n",
      "master_test_instrument_label_matrix shape: (3391,)\n",
      "\n",
      "trumpet\n",
      "7\n",
      "creating new file...\n",
      "/Datasets/MedleyDB/Audio/MusicDelta_BebopJazz/MusicDelta_BebopJazz_STEMS/MusicDelta_BebopJazz_STEM_05.wav\n",
      "/Datasets/MedleyDB/Audio/MusicDelta_Beethoven/MusicDelta_Beethoven_STEMS/MusicDelta_Beethoven_STEM_14.wav"
     ]
    },
    {
     "name": "stderr",
     "output_type": "stream",
     "text": [
      "WARNING:root:output_file: /var/folders/k_/plmjzvbd70z_9dbsrxw1gnvh0000gv/T/tmpKiQpR_.wav already exists and will be overwritten on build\n"
     ]
    },
    {
     "name": "stdout",
     "output_type": "stream",
     "text": [
      "\n",
      "/Datasets/MedleyDB/Audio/MusicDelta_Beethoven/MusicDelta_Beethoven_STEMS/MusicDelta_Beethoven_STEM_15.wav"
     ]
    },
    {
     "name": "stderr",
     "output_type": "stream",
     "text": [
      "WARNING:root:output_file: /var/folders/k_/plmjzvbd70z_9dbsrxw1gnvh0000gv/T/tmp0C5KGG.wav already exists and will be overwritten on build\n"
     ]
    },
    {
     "name": "stdout",
     "output_type": "stream",
     "text": [
      "\n",
      "/Datasets/MedleyDB/Audio/MusicDelta_CoolJazz/MusicDelta_CoolJazz_STEMS/MusicDelta_CoolJazz_STEM_05.wav"
     ]
    },
    {
     "name": "stderr",
     "output_type": "stream",
     "text": [
      "WARNING:root:output_file: /var/folders/k_/plmjzvbd70z_9dbsrxw1gnvh0000gv/T/tmpGcw_NM.wav already exists and will be overwritten on build\n"
     ]
    },
    {
     "name": "stdout",
     "output_type": "stream",
     "text": [
      "\n",
      "/Datasets/MedleyDB/Audio/MusicDelta_FusionJazz/MusicDelta_FusionJazz_STEMS/MusicDelta_FusionJazz_STEM_06.wav"
     ]
    },
    {
     "name": "stderr",
     "output_type": "stream",
     "text": [
      "WARNING:root:output_file: /var/folders/k_/plmjzvbd70z_9dbsrxw1gnvh0000gv/T/tmpESpK0x.wav already exists and will be overwritten on build\n"
     ]
    },
    {
     "name": "stdout",
     "output_type": "stream",
     "text": [
      "\n",
      "/Datasets/MedleyDB/Audio/MusicDelta_LatinJazz/MusicDelta_LatinJazz_STEMS/MusicDelta_LatinJazz_STEM_05.wav"
     ]
    },
    {
     "name": "stderr",
     "output_type": "stream",
     "text": [
      "WARNING:root:output_file: /var/folders/k_/plmjzvbd70z_9dbsrxw1gnvh0000gv/T/tmpfqkwqy.wav already exists and will be overwritten on build\n"
     ]
    },
    {
     "name": "stdout",
     "output_type": "stream",
     "text": [
      "\n",
      "/Datasets/MedleyDB/Audio/MusicDelta_ModalJazz/MusicDelta_ModalJazz_STEMS/MusicDelta_ModalJazz_STEM_05.wav"
     ]
    },
    {
     "name": "stderr",
     "output_type": "stream",
     "text": [
      "WARNING:root:output_file: /var/folders/k_/plmjzvbd70z_9dbsrxw1gnvh0000gv/T/tmpKD_iyF.wav already exists and will be overwritten on build\n"
     ]
    },
    {
     "name": "stdout",
     "output_type": "stream",
     "text": [
      "\n",
      "master_train_instrument_mfcc_matrix shape: (40, 13241)"
     ]
    },
    {
     "name": "stderr",
     "output_type": "stream",
     "text": [
      "WARNING:root:output_file: /var/folders/k_/plmjzvbd70z_9dbsrxw1gnvh0000gv/T/tmpat7MM8.wav already exists and will be overwritten on build\n"
     ]
    },
    {
     "name": "stdout",
     "output_type": "stream",
     "text": [
      "\n",
      "master_train_instrument_label_matrix shape: (13241,)\n",
      "master_test_instrument_mfcc_matrix shape: (40, 3722)\n",
      "master_test_instrument_label_matrix shape: (3722,)\n",
      "\n",
      "tenor saxophone\n",
      "2\n",
      "creating new file...\n",
      "/Datasets/MedleyDB/Audio/MusicDelta_BebopJazz/MusicDelta_BebopJazz_STEMS/MusicDelta_BebopJazz_STEM_04.wav\n",
      "/Datasets/MedleyDB/Audio/MusicDelta_ModalJazz/MusicDelta_ModalJazz_STEMS/MusicDelta_ModalJazz_STEM_04.wav"
     ]
    },
    {
     "name": "stderr",
     "output_type": "stream",
     "text": [
      "WARNING:root:output_file: /var/folders/k_/plmjzvbd70z_9dbsrxw1gnvh0000gv/T/tmpmMtNuy.wav already exists and will be overwritten on build\n"
     ]
    },
    {
     "name": "stdout",
     "output_type": "stream",
     "text": [
      "\n",
      "master_train_instrument_mfcc_matrix shape: (40, 4371)\n",
      "master_train_instrument_label_matrix shape: (4371,)\n",
      "master_test_instrument_mfcc_matrix shape: (40, 3211)\n",
      "master_test_instrument_label_matrix shape: (3211,)\n",
      "\n"
     ]
    }
   ],
   "source": [
    "train_mfcc_list = []\n",
    "train_label_list = []\n",
    "\n",
    "test_mfcc_list = []\n",
    "test_label_list = []\n",
    "\n",
    "label_index = 0\n",
    "\n",
    "# loop over instrument labels\n",
    "# for label in list(file_dict.keys()):\n",
    "target_names = [\"piano\", \"violin\", \"drum set\", \"distorted electric guitar\", \"female singer\", \"male singer\", \"clarinet\", \"flute\", \"trumpet\", \"tenor saxophone\"]\n",
    "\n",
    "for label in target_names:\n",
    "    print label\n",
    "    if label == \"fx/processed sound\":\n",
    "        continue\n",
    "    print len(file_dict[label])\n",
    "    \n",
    "    #creating folders and file names for mfcc and labels\n",
    "    train_folder = \"training_data\"\n",
    "    train_mfcc_file = os.path.join(train_folder,\"%s-mfcc-train.npy\" % label)\n",
    "    train_label_file = os.path.join(train_folder,\"%s-label-train.npy\" % label)\n",
    "    \n",
    "    test_folder = \"testing_data\"\n",
    "    test_mfcc_file = os.path.join(test_folder, \"%s-mfcc-test\" % label)\n",
    "    test_label_file = os.path.join(test_folder, \"%s-label-test\" % label)\n",
    "    \n",
    "    #load existing mfcc and label files\n",
    "    if os.path.exists(train_mfcc_file) and os.path.exists(train_label_file) and os.path.exists(test_mfcc_file) and os.path.exists(test_label_file):\n",
    "        print \"loading existing training file...\"\n",
    "        master_train_instrument_mfcc_matrix = np.load(train_mfcc_file) \n",
    "        master_train_instrument_label_matrix = np.load(train_label_file)\n",
    "        \n",
    "        if master_train_instrument_mfcc_matrix.shape[0] != 40:\n",
    "            os.remove(train_mfcc_file)\n",
    "            os.remove(train_label_file)\n",
    "            continue\n",
    "            \n",
    "        print master_train_instrument_mfcc_matrix.shape\n",
    "        print master_train_instrument_label_matrix.shape\n",
    "            \n",
    "        print \"loading existing testing file...\"\n",
    "        master_test_instrument_mfcc_matrix = np.load(test_mfcc_file) \n",
    "        master_test_instrument_label_matrix = np.load(test_label_file)\n",
    "        \n",
    "        if master_test_instrument_mfcc_matrix.shape[0] != 40:\n",
    "            os.remove(test_mfcc_file)\n",
    "            os.remove(test_label_file)\n",
    "            continue\n",
    "            \n",
    "        print master_test_instrument_mfcc_matrix.shape\n",
    "        print master_test_instrument_label_matrix.shape\n",
    "    \n",
    "    #create new mfcc and label files\n",
    "    else:\n",
    "        print \"creating new file...\"\n",
    "        instrument_mfcc_list = []\n",
    "        instrument_label_list = []\n",
    "        \n",
    "\n",
    "        # loop over files for instruments\n",
    "        for fpath in file_dict[label]:\n",
    "            print fpath\n",
    "            \n",
    "            # normalizing volume, removing silence\n",
    "            temp_fpath = tmp.NamedTemporaryFile(suffix=\".wav\")\n",
    "            tfm = sox.Transformer()\n",
    "            tfm.norm(db_level=-6)\n",
    "            tfm.silence()\n",
    "            tfm.build(fpath, temp_fpath.name)\n",
    "\n",
    "            # load audio\n",
    "            y, fs = librosa.load(temp_fpath.name)\n",
    "\n",
    "            # compute MFCCs for individual audio file\n",
    "            M = librosa.feature.mfcc(y, sr=fs, n_mfcc=40)\n",
    "\n",
    "            lab = np.zeros((len(M[0]), )) + label_index\n",
    "            instrument_mfcc_list.append(M)\n",
    "            instrument_label_list.append(lab)\n",
    "\n",
    "        #splitting data into training and testing\n",
    "        n_examples = len(instrument_mfcc_list)\n",
    "        n_examples_train = int(np.floor(0.75 * n_examples))\n",
    "        \n",
    "        instrument_mfcc_list_train = instrument_mfcc_list[:n_examples_train]\n",
    "        instrument_label_list_train = instrument_label_list[:n_examples_train]\n",
    "        \n",
    "        instrument_mfcc_list_test = instrument_mfcc_list[n_examples_train:]\n",
    "        instrument_label_list_test = instrument_label_list[n_examples_train:]\n",
    "        \n",
    "        #saving training data\n",
    "        master_train_instrument_mfcc_matrix = np.hstack(instrument_mfcc_list_train) #stacking matrices for each audio file\n",
    "        master_train_instrument_label_matrix = np.hstack(instrument_label_list_train)\n",
    "        \n",
    "        print (\"master_train_instrument_mfcc_matrix shape: \" + str(master_train_instrument_mfcc_matrix.shape))\n",
    "        np.save(train_mfcc_file, master_train_instrument_mfcc_matrix)\n",
    "        print (\"master_train_instrument_label_matrix shape: \" + str(master_train_instrument_label_matrix.shape))\n",
    "        np.save(train_label_file, master_train_instrument_label_matrix)\n",
    "        \n",
    "        #saving testing data\n",
    "        master_test_instrument_mfcc_matrix = np.hstack(instrument_mfcc_list_test)\n",
    "        master_test_instrument_label_matrix = np.hstack(instrument_label_list_test)\n",
    "        \n",
    "        print (\"master_test_instrument_mfcc_matrix shape: \" + str(master_test_instrument_mfcc_matrix.shape))\n",
    "        np.save(test_mfcc_file, master_test_instrument_mfcc_matrix)\n",
    "        print (\"master_test_instrument_label_matrix shape: \" + str(master_test_instrument_label_matrix.shape))\n",
    "        np.save(test_label_file, master_test_instrument_label_matrix)\n",
    "          \n",
    "            \n",
    "    # combining data set\n",
    "    train_mfcc_list.append(master_train_instrument_mfcc_matrix) #master master, all instruments smushed\n",
    "    train_label_list.append(master_train_instrument_label_matrix)\n",
    "    \n",
    "    test_mfcc_list.append(master_test_instrument_mfcc_matrix)\n",
    "    test_label_list.append(master_test_instrument_label_matrix)\n",
    "        \n",
    "    print \"\"\n",
    "    label_index = label_index + 1"
   ]
  },
  {
   "cell_type": "code",
   "execution_count": 110,
   "metadata": {
    "collapsed": false
   },
   "outputs": [
    {
     "name": "stdout",
     "output_type": "stream",
     "text": [
      "train_mfcc_list shapes\n",
      "10\n",
      "(40, 143767)\n",
      "(40, 4371)\n"
     ]
    }
   ],
   "source": [
    "train_mfcc_list\n",
    "print \"train_mfcc_list shapes\"\n",
    "print (len(train_mfcc_list))\n",
    "print (train_mfcc_list[0].shape)\n",
    "print (train_mfcc_list[-1].shape)"
   ]
  },
  {
   "cell_type": "code",
   "execution_count": 111,
   "metadata": {
    "collapsed": false
   },
   "outputs": [],
   "source": [
    "train_mfcc_matrix = np.hstack(train_mfcc_list).T\n",
    "train_label_matrix = np.hstack(train_label_list)"
   ]
  },
  {
   "cell_type": "code",
   "execution_count": 112,
   "metadata": {
    "collapsed": true
   },
   "outputs": [],
   "source": [
    "np.save(\"train_mfcc_matrix.npy\", train_mfcc_matrix)\n",
    "np.save(\"train_label_matrix.npy\", train_label_matrix)"
   ]
  },
  {
   "cell_type": "code",
   "execution_count": 113,
   "metadata": {
    "collapsed": false
   },
   "outputs": [
    {
     "name": "stdout",
     "output_type": "stream",
     "text": [
      "test_mfcc_list shapes\n",
      "10\n",
      "(40, 66563)\n",
      "(40, 3211)\n"
     ]
    }
   ],
   "source": [
    "test_mfcc_list\n",
    "print \"test_mfcc_list shapes\"\n",
    "print (len(test_mfcc_list))\n",
    "print (test_mfcc_list[0].shape)\n",
    "print (test_mfcc_list[-1].shape)"
   ]
  },
  {
   "cell_type": "code",
   "execution_count": 114,
   "metadata": {
    "collapsed": true
   },
   "outputs": [],
   "source": [
    "test_mfcc_matrix = np.hstack(test_mfcc_list).T\n",
    "test_label_matrix = np.hstack(test_label_list)"
   ]
  },
  {
   "cell_type": "code",
   "execution_count": 115,
   "metadata": {
    "collapsed": true
   },
   "outputs": [],
   "source": [
    "np.save(\"test_mfcc_matrix.npy\", test_mfcc_matrix)\n",
    "np.save(\"test_label_matrix.npy\", test_label_matrix)"
   ]
  },
  {
   "cell_type": "markdown",
   "metadata": {
    "collapsed": true
   },
   "source": [
    "# Standardizing MFCC Matrix"
   ]
  },
  {
   "cell_type": "code",
   "execution_count": 116,
   "metadata": {
    "collapsed": true
   },
   "outputs": [],
   "source": [
    "train_mfcc_means = np.mean(train_mfcc_matrix, axis = 0)\n",
    "train_mfcc_std = np.std(train_mfcc_matrix, axis=0)\n",
    "\n",
    "np.save(\"train_mfcc_means.npy\", train_mfcc_means)\n",
    "np.save(\"train_mfcc_std.npy\", train_mfcc_std)\n",
    "\n",
    "train_mfcc_matrix_normal = (train_mfcc_matrix - train_mfcc_means)/train_mfcc_std\n",
    "test_mfcc_matrix_normal = (test_mfcc_matrix - train_mfcc_means)/train_mfcc_std\n",
    "\n",
    "label_values = list(file_dict.keys())\n",
    "np.save(\"label_values.npy\", label_values)"
   ]
  },
  {
   "cell_type": "markdown",
   "metadata": {
    "collapsed": true
   },
   "source": [
    "# Plot MFCC Data Matrix"
   ]
  },
  {
   "cell_type": "code",
   "execution_count": 15,
   "metadata": {
    "collapsed": false
   },
   "outputs": [
    {
     "ename": "NameError",
     "evalue": "name 'mfcc_matrix' is not defined",
     "output_type": "error",
     "traceback": [
      "\u001b[0;31m---------------------------------------------------------------------------\u001b[0m",
      "\u001b[0;31mNameError\u001b[0m                                 Traceback (most recent call last)",
      "\u001b[0;32m<ipython-input-16-706c1e79d923>\u001b[0m in \u001b[0;36m<module>\u001b[0;34m()\u001b[0m\n\u001b[1;32m      7\u001b[0m \u001b[0mplt\u001b[0m\u001b[0;34m.\u001b[0m\u001b[0msubplot\u001b[0m\u001b[0;34m(\u001b[0m\u001b[0;36m2\u001b[0m\u001b[0;34m,\u001b[0m\u001b[0;36m2\u001b[0m\u001b[0;34m,\u001b[0m\u001b[0;36m1\u001b[0m\u001b[0;34m)\u001b[0m\u001b[0;34m\u001b[0m\u001b[0m\n\u001b[1;32m      8\u001b[0m \u001b[0;31m# plt.imshow(mfcc_matrix[start_index:end_index, 0:2].T, origin = \"lower\", interpolation='none')\u001b[0m\u001b[0;34m\u001b[0m\u001b[0;34m\u001b[0m\u001b[0m\n\u001b[0;32m----> 9\u001b[0;31m \u001b[0mplt\u001b[0m\u001b[0;34m.\u001b[0m\u001b[0mplot\u001b[0m\u001b[0;34m(\u001b[0m\u001b[0mmfcc_matrix\u001b[0m\u001b[0;34m[\u001b[0m\u001b[0;34m:\u001b[0m\u001b[0;34m,\u001b[0m \u001b[0;36m0\u001b[0m\u001b[0;34m]\u001b[0m\u001b[0;34m)\u001b[0m\u001b[0;34m\u001b[0m\u001b[0m\n\u001b[0m\u001b[1;32m     10\u001b[0m \u001b[0mplt\u001b[0m\u001b[0;34m.\u001b[0m\u001b[0mplot\u001b[0m\u001b[0;34m(\u001b[0m\u001b[0mmfcc_matrix\u001b[0m\u001b[0;34m[\u001b[0m\u001b[0;34m:\u001b[0m\u001b[0;34m,\u001b[0m \u001b[0;36m1\u001b[0m\u001b[0;34m]\u001b[0m\u001b[0;34m)\u001b[0m\u001b[0;34m\u001b[0m\u001b[0m\n\u001b[1;32m     11\u001b[0m \u001b[0mplt\u001b[0m\u001b[0;34m.\u001b[0m\u001b[0mplot\u001b[0m\u001b[0;34m(\u001b[0m\u001b[0mmfcc_matrix\u001b[0m\u001b[0;34m[\u001b[0m\u001b[0;34m:\u001b[0m\u001b[0;34m,\u001b[0m \u001b[0;36m2\u001b[0m\u001b[0;34m]\u001b[0m\u001b[0;34m)\u001b[0m\u001b[0;34m\u001b[0m\u001b[0m\n",
      "\u001b[0;31mNameError\u001b[0m: name 'mfcc_matrix' is not defined"
     ]
    },
    {
     "ename": "KeyboardInterrupt",
     "evalue": "",
     "output_type": "error",
     "traceback": [
      "Traceback (most recent call last):\n",
      "  File \"/usr/local/lib/python2.7/site-packages/ipykernel/ipkernel.py\", line 175, in do_execute\n    shell.run_cell(code, store_history=store_history, silent=silent)\n",
      "  File \"/usr/local/lib/python2.7/site-packages/IPython/core/interactiveshell.py\", line 2725, in run_cell\n    self.events.trigger('post_execute')\n",
      "  File \"/usr/local/lib/python2.7/site-packages/IPython/core/events.py\", line 74, in trigger\n    func(*args, **kwargs)\n",
      "  File \"/usr/local/lib/python2.7/site-packages/ipykernel/pylab/backend_inline.py\", line 109, in flush_figures\n    return show(True)\n",
      "  File \"/usr/local/lib/python2.7/site-packages/ipykernel/pylab/backend_inline.py\", line 32, in show\n    display(figure_manager.canvas.figure)\n",
      "  File \"/usr/local/lib/python2.7/site-packages/IPython/core/display.py\", line 164, in display\n    format_dict, md_dict = format(obj, include=include, exclude=exclude)\n",
      "  File \"/usr/local/lib/python2.7/site-packages/IPython/core/formatters.py\", line 145, in format\n    data = formatter(obj)\n",
      "  File \"<decorator-gen-9>\", line 2, in __call__\n",
      "  File \"/usr/local/lib/python2.7/site-packages/IPython/core/formatters.py\", line 190, in catch_format_error\n    r = method(self, *args, **kwargs)\n",
      "  File \"/usr/local/lib/python2.7/site-packages/IPython/core/formatters.py\", line 307, in __call__\n    return printer(obj)\n",
      "  File \"/usr/local/lib/python2.7/site-packages/IPython/core/pylabtools.py\", line 227, in <lambda>\n    png_formatter.for_type(Figure, lambda fig: print_figure(fig, 'png', **kwargs))\n",
      "  File \"/usr/local/lib/python2.7/site-packages/IPython/core/pylabtools.py\", line 119, in print_figure\n    fig.canvas.print_figure(bytes_io, **kw)\n",
      "  File \"/usr/local/lib/python2.7/site-packages/matplotlib/backend_bases.py\", line 2180, in print_figure\n    **kwargs)\n",
      "  File \"/usr/local/lib/python2.7/site-packages/matplotlib/backends/backend_agg.py\", line 537, in print_png\n    _png.write_png(renderer._renderer, filename_or_obj, self.figure.dpi)\n",
      "KeyboardInterrupt\n"
     ]
    }
   ],
   "source": [
    "label_index_list = np.arange(len(label_values))\n",
    "plt.figure(figsize = (30, 50))\n",
    "\n",
    "start_index=0\n",
    "end_index=-1\n",
    "\n",
    "plt.subplot(2,2,1)\n",
    "# plt.imshow(mfcc_matrix[start_index:end_index, 0:2].T, origin = \"lower\", interpolation='none')\n",
    "plt.plot(mfcc_matrix[:, 0])\n",
    "plt.plot(mfcc_matrix[:, 1])\n",
    "plt.plot(mfcc_matrix[:, 2])\n",
    "# plt.colorbar()\n",
    "plt.axis(\"auto\")\n",
    "plt.axis(\"tight\")\n",
    "plt.xlabel(\"Example Number\")\n",
    "plt.ylabel(\"MFCC Coefficient\")\n",
    "\n",
    "plt.subplot(2,2,3)\n",
    "plt.plot(label_matrix[start_index:end_index], \"o\")\n",
    "plt.axis(\"auto\")\n",
    "plt.axis(\"tight\")\n",
    "plt.xlabel(\"Example Number\")\n",
    "plt.ylabel(\"Instrument Label Number\")\n",
    "plt.yticks(label_index_list, label_values, rotation='horizontal')\n",
    "\n",
    "plt.subplot(2,2,2)\n",
    "# plt.imshow(mfcc_matrix_normal[start_index:end_index, 0:2].T, origin = \"lower\", interpolation='none')\n",
    "# plt.colorbar()\n",
    "plt.plot(mfcc_matrix_normal[:, 0])\n",
    "plt.plot(mfcc_matrix_normal[:, 1])\n",
    "plt.plot(mfcc_matrix_normal[:, 2])\n",
    "plt.axis(\"auto\")\n",
    "plt.axis(\"tight\")\n",
    "plt.xlabel(\"Example Number\")\n",
    "plt.ylabel(\"Standardized MFCC Coefficient\")\n",
    "\n",
    "plt.subplot(2,2,4)\n",
    "plt.plot(label_matrix[start_index:end_index], \"o\")\n",
    "plt.axis(\"auto\")\n",
    "plt.axis(\"tight\")\n",
    "plt.xlabel(\"Example Number\")\n",
    "plt.ylabel(\"Instrument Label Number\")\n",
    "plt.yticks(label_index_list, label_values, rotation='horizontal')\n",
    "\n",
    "plt.show()"
   ]
  },
  {
   "cell_type": "markdown",
   "metadata": {},
   "source": [
    "# Training classifier"
   ]
  },
  {
   "cell_type": "code",
   "execution_count": 117,
   "metadata": {
    "collapsed": true
   },
   "outputs": [],
   "source": [
    "from sklearn.model_selection import train_test_split\n",
    "\n",
    "x_train, x_test, y_train, y_test = (train_mfcc_matrix_normal, test_mfcc_matrix_normal, train_label_matrix, test_label_matrix)"
   ]
  },
  {
   "cell_type": "code",
   "execution_count": 118,
   "metadata": {
    "collapsed": false
   },
   "outputs": [
    {
     "name": "stdout",
     "output_type": "stream",
     "text": [
      "(934575, 40)\n",
      "(363349, 40)\n",
      "(934575,)\n",
      "(363349,)\n"
     ]
    }
   ],
   "source": [
    "print x_train.shape\n",
    "print x_test.shape\n",
    "print y_train.shape\n",
    "print y_test.shape"
   ]
  },
  {
   "cell_type": "code",
   "execution_count": 119,
   "metadata": {
    "collapsed": false
   },
   "outputs": [
    {
     "name": "stdout",
     "output_type": "stream",
     "text": [
      "training classifier with unweighted classes\n",
      "training classifier with weighted classes\n",
      "saving classifiers\n"
     ]
    },
    {
     "data": {
      "text/plain": [
       "['instrument_classifier2.pkl']"
      ]
     },
     "execution_count": 119,
     "metadata": {},
     "output_type": "execute_result"
    }
   ],
   "source": [
    "print \"training classifier with unweighted classes\"\n",
    "clf = RandomForestClassifier(n_estimators = 10, class_weight = None) #unweighted based on class occurance\n",
    "clf.fit(x_train, y_train)\n",
    "\n",
    "print \"training classifier with weighted classes\"\n",
    "clf2 = RandomForestClassifier(n_estimators = 10, class_weight = \"balanced\") #weighted based on class occurance\n",
    "clf2.fit(x_train, y_train)\n",
    "\n",
    "print \"saving classifiers\"\n",
    "from sklearn.externals import joblib\n",
    "joblib.dump(clf, \"instrument_classifier.pkl\")\n",
    "joblib.dump(clf2, \"instrument_classifier2.pkl\")\n"
   ]
  },
  {
   "cell_type": "markdown",
   "metadata": {},
   "source": [
    "# Scores for weighted and unweighted classifiers"
   ]
  },
  {
   "cell_type": "code",
   "execution_count": 120,
   "metadata": {
    "collapsed": false
   },
   "outputs": [
    {
     "name": "stdout",
     "output_type": "stream",
     "text": [
      "OVERALL SCORES\n",
      "\n",
      "Training Score of Unweighted Classifier: 0.99948425755\n",
      "Training Score of Unweighted Classifier: 0.805476277628\n",
      "\n",
      "Training Score of Weighted Classifier: 0.99948211754\n",
      "Testing Score of Weighted Classifier: 0.800855375961\n",
      "\n"
     ]
    }
   ],
   "source": [
    "print (\"OVERALL SCORES\")\n",
    "print (\"\")\n",
    "\n",
    "#unweighted scores\n",
    "training_score = clf.score(x_train, y_train) #how well classifer makes model to fit data\n",
    "testing_score = clf.score(x_test, y_test) #how well the model generalizes to new data\n",
    "\n",
    "print (\"Training Score of Unweighted Classifier: \" + str(training_score))\n",
    "print (\"Training Score of Unweighted Classifier: \" + str(testing_score))\n",
    "\n",
    "print (\"\")\n",
    "#weighted scores\n",
    "training_score2 = clf2.score(x_train, y_train) #how well classifer makes model to fit data\n",
    "testing_score2 = clf2.score(x_test, y_test) #how well the model generalizes to new data\n",
    "\n",
    "print (\"Training Score of Weighted Classifier: \" + str(training_score2))\n",
    "print (\"Testing Score of Weighted Classifier: \" + str(testing_score2))\n",
    "print \"\"\n",
    "\n"
   ]
  },
  {
   "cell_type": "markdown",
   "metadata": {},
   "source": [
    "# Classification Report and Confusion Matrix"
   ]
  },
  {
   "cell_type": "code",
   "execution_count": 121,
   "metadata": {
    "collapsed": false
   },
   "outputs": [
    {
     "name": "stdout",
     "output_type": "stream",
     "text": [
      "CLASSIFICATION REPORT FOR UNWEIGHTED MODEL\n",
      "\n",
      "                           precision    recall  f1-score   support\n",
      "\n",
      "                    piano       0.81      0.92      0.86     66563\n",
      "                   violin       0.88      0.61      0.72     43463\n",
      "                 drum set       0.93      0.97      0.95    126582\n",
      "distorted electric guitar       0.83      0.62      0.71     29585\n",
      "            female singer       0.33      0.44      0.37     14377\n",
      "              male singer       0.70      0.76      0.73     68826\n",
      "                 clarinet       0.39      0.66      0.49      3629\n",
      "                    flute       0.50      0.34      0.40      3391\n",
      "                  trumpet       0.87      0.50      0.64      3722\n",
      "          tenor saxophone       0.69      0.17      0.27      3211\n",
      "\n",
      "              avg / total       0.82      0.81      0.80    363349\n",
      "\n",
      "\n",
      "CLASSIFICATION REPORT FOR WEIGHTED MODEL\n",
      "\n",
      "                           precision    recall  f1-score   support\n",
      "\n",
      "                    piano       0.80      0.91      0.85     66563\n",
      "                   violin       0.86      0.59      0.70     43463\n",
      "                 drum set       0.92      0.97      0.94    126582\n",
      "distorted electric guitar       0.80      0.61      0.69     29585\n",
      "            female singer       0.36      0.40      0.38     14377\n",
      "              male singer       0.70      0.76      0.72     68826\n",
      "                 clarinet       0.41      0.68      0.51      3629\n",
      "                    flute       0.51      0.31      0.38      3391\n",
      "                  trumpet       0.93      0.53      0.68      3722\n",
      "          tenor saxophone       0.90      0.16      0.26      3211\n",
      "\n",
      "              avg / total       0.81      0.80      0.80    363349\n",
      "\n"
     ]
    }
   ],
   "source": [
    "from sklearn.metrics import classification_report\n",
    "\n",
    "y_predicted = clf.predict(x_test) #unweighted\n",
    "y_predicted2 = clf2.predict(x_test) #weighted\n",
    "\n",
    "\n",
    "print \"CLASSIFICATION REPORT FOR UNWEIGHTED MODEL\"\n",
    "print \"\"\n",
    "print(classification_report(y_test, y_predicted, target_names=target_names))\n",
    "print \"\"\n",
    "print \"CLASSIFICATION REPORT FOR WEIGHTED MODEL\"\n",
    "print \"\"\n",
    "print(classification_report(y_test, y_predicted2, target_names=target_names))"
   ]
  },
  {
   "cell_type": "code",
   "execution_count": 127,
   "metadata": {
    "collapsed": false
   },
   "outputs": [
    {
     "name": "stdout",
     "output_type": "stream",
     "text": [
      "Classes: ['piano', 'violin', 'drum set', 'distorted electric guitar', 'female singer', 'male singer', 'clarinet', 'flute', 'trumpet', 'tenor saxophone']\n",
      "\n",
      "CONFUSION MATRIX FOR UNWEIGHTED MODEL\n",
      "\n",
      "[[ 0.918  0.001  0.007  0.026  0.004  0.042  0.001  0.001  0.     0.   ]\n",
      " [ 0.124  0.607  0.016  0.002  0.082  0.097  0.052  0.018  0.003  0.   ]\n",
      " [ 0.004  0.002  0.966  0.001  0.004  0.022  0.     0.     0.     0.   ]\n",
      " [ 0.13   0.014  0.054  0.621  0.065  0.106  0.001  0.     0.001  0.008]\n",
      " [ 0.061  0.015  0.015  0.005  0.437  0.432  0.033  0.003  0.     0.   ]\n",
      " [ 0.039  0.01   0.084  0.022  0.083  0.76   0.001  0.     0.001  0.   ]\n",
      " [ 0.084  0.068  0.007  0.004  0.027  0.103  0.663  0.037  0.005  0.   ]\n",
      " [ 0.053  0.076  0.051  0.001  0.1    0.283  0.1    0.336  0.     0.   ]\n",
      " [ 0.017  0.081  0.003  0.003  0.04   0.171  0.153  0.031  0.501  0.   ]\n",
      " [ 0.009  0.345  0.002  0.034  0.091  0.332  0.005  0.002  0.012  0.168]]\n",
      "\n",
      "CONFUSION MATRIX FOR WEIGHTED MODEL\n",
      "\n",
      "[[ 0.907  0.001  0.012  0.033  0.002  0.043  0.001  0.     0.     0.   ]\n",
      " [ 0.141  0.591  0.026  0.003  0.068  0.106  0.047  0.017  0.001  0.   ]\n",
      " [ 0.004  0.002  0.972  0.002  0.003  0.018  0.     0.     0.     0.   ]\n",
      " [ 0.137  0.018  0.055  0.608  0.047  0.133  0.     0.     0.     0.001]\n",
      " [ 0.058  0.019  0.02   0.005  0.405  0.455  0.035  0.002  0.     0.   ]\n",
      " [ 0.04   0.011  0.101  0.023  0.067  0.757  0.001  0.     0.001  0.   ]\n",
      " [ 0.083  0.089  0.005  0.005  0.023  0.089  0.676  0.027  0.003  0.   ]\n",
      " [ 0.06   0.067  0.081  0.003  0.069  0.284  0.126  0.309  0.001  0.   ]\n",
      " [ 0.023  0.126  0.003  0.006  0.037  0.142  0.105  0.024  0.534  0.   ]\n",
      " [ 0.038  0.341  0.004  0.072  0.107  0.264  0.002  0.001  0.016  0.155]]\n"
     ]
    }
   ],
   "source": [
    "from sklearn.metrics import confusion_matrix\n",
    "\n",
    "print (\"Classes: \" + str(target_names))\n",
    "print \"\"\n",
    "\n",
    "print \"CONFUSION MATRIX FOR UNWEIGHTED MODEL\"\n",
    "print \"\"\n",
    "\n",
    "c_mat = confusion_matrix(y_test, y_predicted)\n",
    "support = np.sum(c_mat, axis=1).astype(float)\n",
    "c_mat_norm = np.round(c_mat/support[:,None], 3)\n",
    "print c_mat_norm\n",
    "\n",
    "print \"\"\n",
    "\n",
    "print \"CONFUSION MATRIX FOR WEIGHTED MODEL\"\n",
    "\n",
    "print \"\"\n",
    "c_mat2 = confusion_matrix(y_test, y_predicted2)\n",
    "c_mat2_norm = np.round(c_mat2/support[:,None], 3)\n",
    "print c_mat2_norm\n"
   ]
  },
  {
   "cell_type": "code",
   "execution_count": 128,
   "metadata": {
    "collapsed": false
   },
   "outputs": [
    {
     "name": "stdout",
     "output_type": "stream",
     "text": [
      "\n"
     ]
    },
    {
     "data": {
      "text/plain": [
       "<matplotlib.text.Text at 0x1131c8850>"
      ]
     },
     "execution_count": 128,
     "metadata": {},
     "output_type": "execute_result"
    },
    {
     "data": {
      "image/png": "[encoded data removed]",
      "text/plain": [
       "<matplotlib.figure.Figure at 0x11561b150>"
      ]
     },
     "metadata": {},
     "output_type": "display_data"
    }
   ],
   "source": [
    "plt.figure(figsize=(24, 7))\n",
    "\n",
    "plt.subplot(1,2,1)\n",
    "plt.title(\"Confusion Matrix of Unweighted Model\", size = 22)\n",
    "print \"\"\n",
    "plt.imshow(c_mat_norm, origin=\"upper\", interpolation=\"none\")\n",
    "plt.colorbar()\n",
    "target_index = range(len(target_names))\n",
    "plt.xticks(target_index, target_names, rotation=\"vertical\", size=15)\n",
    "plt.xlabel(\"Predicted Instrument\", size=20)\n",
    "plt.yticks(target_index, target_names, size=15)\n",
    "plt.ylabel(\"Actual Instrument\", size=20)\n",
    "\n",
    "plt.subplot(1,2,2)\n",
    "plt.title(\"Confusion Matrix of Weighted Model\", size = 22)\n",
    "plt.imshow((c_mat2_norm), origin=\"upper\", interpolation=\"none\")\n",
    "plt.colorbar()\n",
    "target_index = range(len(target_names))\n",
    "plt.xticks(target_index, target_names, rotation=\"vertical\", size=15)\n",
    "plt.xlabel(\"Predicted Instrument\", size=20)\n",
    "plt.yticks(target_index, target_names, size=15)\n",
    "plt.ylabel(\"Actual Instrument\", size=20)\n",
    "\n"
   ]
  },
  {
   "cell_type": "code",
   "execution_count": 27,
   "metadata": {
    "collapsed": false
   },
   "outputs": [],
   "source": [
    "#IRRELEVANT NOW\n",
    "# def clf_predict(audio_fpath, clf, mfcc_means, mfcc_std):\n",
    "#     # normalizing volume, removing silence\n",
    "#     temp_fpath = tmp.NamedTemporaryFile(suffix=\".wav\")\n",
    "#     tfm = sox.Transformer()\n",
    "#     tfm.norm(db_level=-6)\n",
    "#     tfm.silence()\n",
    "#     tfm.build(audio_fpath, temp_fpath.name)\n",
    "        \n",
    "#     # load audio\n",
    "#     y, fs = librosa.load(temp_fpath.name)\n",
    "        \n",
    "#     # compute MFCCs\n",
    "#     M = librosa.feature.mfcc(y, sr=fs, n_mfcc=40)\n",
    "    \n",
    "#     M_normal = (M - mfcc_means)/mfcc_std\n",
    "    \n",
    "#     predicted_label = clf.predict(M_normal.T)\n",
    "    "
   ]
  }
 ],
 "metadata": {
  "kernelspec": {
   "display_name": "Python 2",
   "language": "python",
   "name": "python2"
  },
  "language_info": {
   "codemirror_mode": {
    "name": "ipython",
    "version": 2
   },
   "file_extension": ".py",
   "mimetype": "text/x-python",
   "name": "python",
   "nbconvert_exporter": "python",
   "pygments_lexer": "ipython2",
   "version": "2.7.12"
  }
 },
 "nbformat": 4,
 "nbformat_minor": 0
}
