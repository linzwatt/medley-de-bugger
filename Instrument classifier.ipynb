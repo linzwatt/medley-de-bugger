{
 "cells": [
  {
   "cell_type": "code",
   "execution_count": null,
   "metadata": {
    "collapsed": true
   },
   "outputs": [],
   "source": [
    "# Imports"
   ]
  },
  {
   "cell_type": "code",
   "execution_count": 1,
   "metadata": {
    "collapsed": false
   },
   "outputs": [],
   "source": [
    "import numpy as np\n",
    "import librosa \n",
    "from os import environ\n",
    "environ[\"MEDLEYDB_PATH\"] = \"/Datasets/MedleyDB\"\n",
    "import medleydb as mdb\n",
    "import sklearn\n",
    "import os\n",
    "import sox\n",
    "import tempfile as tmp\n",
    "import matplotlib.pyplot as plt\n",
    "%matplotlib inline\n",
    "from sklearn.ensemble import RandomForestClassifier"
   ]
  },
  {
   "cell_type": "markdown",
   "metadata": {},
   "source": [
    "# Getting list of multitracks without bleed"
   ]
  },
  {
   "cell_type": "code",
   "execution_count": 6,
   "metadata": {
    "collapsed": true
   },
   "outputs": [],
   "source": [
    "loader = mdb.load_all_multitracks()\n",
    "no_bleed_mtracks = []\n",
    "for mtrack in loader:\n",
    "    if not mtrack.has_bleed:\n",
    "        no_bleed_mtracks.append(mtrack)"
   ]
  },
  {
   "cell_type": "markdown",
   "metadata": {},
   "source": [
    "# Get instrument labels"
   ]
  },
  {
   "cell_type": "code",
   "execution_count": 7,
   "metadata": {
    "collapsed": true
   },
   "outputs": [],
   "source": [
    "valid_labels = mdb.multitrack.get_valid_instrument_labels()"
   ]
  },
  {
   "cell_type": "markdown",
   "metadata": {},
   "source": [
    "# Loop over instrument to get files"
   ]
  },
  {
   "cell_type": "code",
   "execution_count": 8,
   "metadata": {
    "collapsed": false
   },
   "outputs": [
    {
     "name": "stdout",
     "output_type": "stream",
     "text": [
      "bagpipe\n",
      "gu\n",
      "bamboo flute\n",
      "clarinet\n",
      "cornet\n",
      "chimes\n",
      "harmonica\n",
      "mandolin\n",
      "timpani\n",
      "sampler\n",
      "piano\n",
      "clean electric guitar\n",
      "liuqin\n",
      "beatboxing\n",
      "triangle\n",
      "pipe organ\n",
      "marimba\n",
      "erhu\n",
      "alto saxophone\n",
      "whistle\n",
      "drum set\n",
      "bass drum\n",
      "banjo\n",
      "male rapper\n",
      "acoustic guitar\n",
      "trumpet section\n",
      "vibraphone\n",
      "female rapper\n",
      "sleigh bells\n",
      "darbuka\n",
      "concertina\n",
      "electric piano\n",
      "baritone saxophone\n",
      "oud\n",
      "tack piano\n",
      "trombone\n",
      "harp\n",
      "tuba\n",
      "tabla\n",
      "doumbek\n",
      "recorder\n",
      "cabasa\n",
      "guzheng\n",
      "shaker\n",
      "vocalists\n",
      "viola section\n",
      "male speaker\n",
      "zhongruan\n",
      "string section\n",
      "cowbell\n",
      "accordion\n",
      "toms\n",
      "dizi\n",
      "double bass\n",
      "bongo\n",
      "flute section\n",
      "cello section\n",
      "brass section\n",
      "tenor saxophone\n",
      "kick drum\n",
      "yangqin\n",
      "english horn\n",
      "conga\n",
      "guiro\n",
      "synthesizer\n",
      "harpsichord\n",
      "castanet\n",
      "soprano saxophone\n",
      "electric bass\n",
      "oboe\n",
      "violin section\n",
      "xylophone\n",
      "fx/processed sound\n",
      "female speaker\n",
      "scratches\n",
      "french horn\n",
      "dulcimer\n",
      "auxiliary percussion\n",
      "glockenspiel\n",
      "cello\n",
      "female singer\n",
      "panpipes\n",
      "male singer\n",
      "gong\n",
      "rattle\n",
      "piccolo\n",
      "euphonium\n",
      "high hat\n",
      "claps\n",
      "violin\n",
      "snare drum\n",
      "trumpet\n",
      "harmonium\n",
      "horn section\n",
      "clarinet section\n",
      "electronic organ\n",
      "ukulele\n",
      "bassoon\n",
      "theremin\n",
      "viola\n",
      "tambourine\n",
      "drum machine\n",
      "lap steel guitar\n",
      "flute\n",
      "trombone section\n",
      "cymbal\n",
      "bandoneon\n",
      "distorted electric guitar\n",
      "maracas\n",
      "slide guitar\n",
      "bass clarinet\n",
      "french horn section\n",
      "melodica\n"
     ]
    }
   ],
   "source": [
    "file_dict = {}\n",
    "for label in valid_labels:\n",
    "    print label\n",
    "    label_list = list(mdb.utils.get_files_for_instrument(label, multitrack_list = no_bleed_mtracks))\n",
    "    if len(label_list) == 0:\n",
    "        continue\n",
    "    file_dict[label] = label_list\n"
   ]
  },
  {
   "cell_type": "code",
   "execution_count": 10,
   "metadata": {
    "collapsed": false
   },
   "outputs": [
    {
     "name": "stdout",
     "output_type": "stream",
     "text": [
      "darbuka\n",
      "1\n",
      "\n",
      "gu\n",
      "1\n",
      "\n",
      "toms\n",
      "1\n",
      "\n",
      "electric piano\n",
      "3\n",
      "\n",
      "distorted electric guitar\n",
      "31\n",
      "\n",
      "cello section\n",
      "5\n",
      "\n",
      "drum set\n",
      "60\n",
      "\n",
      "piccolo\n",
      "4\n",
      "\n",
      "baritone saxophone\n",
      "1\n",
      "\n",
      "bongo\n",
      "1\n",
      "\n",
      "bamboo flute\n",
      "1\n",
      "\n",
      "oud\n",
      "2\n",
      "\n",
      "tenor saxophone\n",
      "2\n",
      "\n",
      "claps\n",
      "5\n",
      "\n",
      "electric bass\n",
      "58\n",
      "\n",
      "tack piano\n",
      "6\n",
      "\n",
      "yangqin\n",
      "6\n",
      "\n",
      "trombone\n",
      "3\n",
      "\n",
      "violin\n",
      "14\n",
      "\n",
      "clarinet\n",
      "8\n",
      "\n",
      "flute\n",
      "6\n",
      "\n",
      "trumpet\n",
      "7\n",
      "\n",
      "tabla\n",
      "14\n",
      "\n",
      "horn section\n",
      "2\n",
      "\n",
      "harp\n",
      "3\n",
      "\n",
      "harmonica\n",
      "2\n",
      "\n",
      "mandolin\n",
      "5\n",
      "\n",
      "timpani\n",
      "6\n",
      "\n",
      "tuba\n",
      "2\n",
      "\n",
      "tambourine\n",
      "1\n",
      "\n",
      "french horn section\n",
      "3\n",
      "\n",
      "synthesizer\n",
      "47\n",
      "\n",
      "doumbek\n",
      "1\n",
      "\n",
      "sampler\n",
      "3\n",
      "\n",
      "viola\n",
      "6\n",
      "\n",
      "piano\n",
      "27\n",
      "\n",
      "banjo\n",
      "2\n",
      "\n",
      "liuqin\n",
      "2\n",
      "\n",
      "drum machine\n",
      "17\n",
      "\n",
      "male singer\n",
      "41\n",
      "\n",
      "soprano saxophone\n",
      "1\n",
      "\n",
      "guzheng\n",
      "5\n",
      "\n",
      "shaker\n",
      "1\n",
      "\n",
      "brass section\n",
      "8\n",
      "\n",
      "clarinet section\n",
      "3\n",
      "\n",
      "vocalists\n",
      "30\n",
      "\n",
      "viola section\n",
      "4\n",
      "\n",
      "violin section\n",
      "17\n",
      "\n",
      "fx/processed sound\n",
      "41\n",
      "\n",
      "zhongruan\n",
      "3\n",
      "\n",
      "erhu\n",
      "6\n",
      "\n",
      "trombone section\n",
      "1\n",
      "\n",
      "alto saxophone\n",
      "1\n",
      "\n",
      "cymbal\n",
      "7\n",
      "\n",
      "bass clarinet\n",
      "1\n",
      "\n",
      "string section\n",
      "5\n",
      "\n",
      "flute section\n",
      "2\n",
      "\n",
      "scratches\n",
      "1\n",
      "\n",
      "french horn\n",
      "4\n",
      "\n",
      "auxiliary percussion\n",
      "16\n",
      "\n",
      "glockenspiel\n",
      "3\n",
      "\n",
      "bass drum\n",
      "1\n",
      "\n",
      "oboe\n",
      "5\n",
      "\n",
      "clean electric guitar\n",
      "52\n",
      "\n",
      "male rapper\n",
      "6\n",
      "\n",
      "acoustic guitar\n",
      "18\n",
      "\n",
      "accordion\n",
      "5\n",
      "\n",
      "trumpet section\n",
      "5\n",
      "\n",
      "vibraphone\n",
      "8\n",
      "\n",
      "gong\n",
      "2\n",
      "\n",
      "bassoon\n",
      "4\n",
      "\n",
      "dizi\n",
      "5\n",
      "\n",
      "double bass\n",
      "14\n",
      "\n",
      "cello\n",
      "11\n",
      "\n",
      "female singer\n",
      "19\n",
      "\n",
      "lap steel guitar\n",
      "2\n",
      "\n"
     ]
    }
   ],
   "source": [
    "for label in list(file_dict.keys()):\n",
    "    print label\n",
    "    print len(file_dict[label])\n",
    "    print \"\""
   ]
  },
  {
   "cell_type": "markdown",
   "metadata": {},
   "source": [
    "# Compute MFCC"
   ]
  },
  {
   "cell_type": "code",
   "execution_count": null,
   "metadata": {
    "collapsed": false
   },
   "outputs": [
    {
     "name": "stderr",
     "output_type": "stream",
     "text": [
      "WARNING:root:output_file: /var/folders/k_/plmjzvbd70z_9dbsrxw1gnvh0000gv/T/tmpGpgn66.wav already exists and will be overwritten on build\n"
     ]
    },
    {
     "name": "stdout",
     "output_type": "stream",
     "text": [
      "darbuka\n",
      "1\n",
      "/Datasets/MedleyDB/Audio/KarimDouaidy_Hopscotch/KarimDouaidy_Hopscotch_STEMS/KarimDouaidy_Hopscotch_STEM_04.wav\n"
     ]
    },
    {
     "name": "stderr",
     "output_type": "stream",
     "text": [
      "WARNING:root:output_file: /var/folders/k_/plmjzvbd70z_9dbsrxw1gnvh0000gv/T/tmpMqrmoX.wav already exists and will be overwritten on build\n"
     ]
    },
    {
     "name": "stdout",
     "output_type": "stream",
     "text": [
      "\n",
      "gu\n",
      "1\n",
      "/Datasets/MedleyDB/Audio/MusicDelta_ChineseXinJing/MusicDelta_ChineseXinJing_STEMS/MusicDelta_ChineseXinJing_STEM_02.wav\n"
     ]
    },
    {
     "name": "stderr",
     "output_type": "stream",
     "text": [
      "WARNING:root:output_file: /var/folders/k_/plmjzvbd70z_9dbsrxw1gnvh0000gv/T/tmp8g2L8u.wav already exists and will be overwritten on build\n"
     ]
    },
    {
     "name": "stdout",
     "output_type": "stream",
     "text": [
      "\n",
      "toms\n",
      "1\n",
      "/Datasets/MedleyDB/Audio/MusicDelta_InTheHalloftheMountainKing/MusicDelta_InTheHalloftheMountainKing_STEMS/MusicDelta_InTheHalloftheMountainKing_STEM_16.wav\n"
     ]
    },
    {
     "name": "stderr",
     "output_type": "stream",
     "text": [
      "WARNING:root:output_file: /var/folders/k_/plmjzvbd70z_9dbsrxw1gnvh0000gv/T/tmpfpwXmM.wav already exists and will be overwritten on build\n"
     ]
    },
    {
     "name": "stdout",
     "output_type": "stream",
     "text": [
      "\n",
      "electric piano\n",
      "3\n",
      "/Datasets/MedleyDB/Audio/MusicDelta_FunkJazz/MusicDelta_FunkJazz_STEMS/MusicDelta_FunkJazz_STEM_03.wav\n",
      "/Datasets/MedleyDB/Audio/MusicDelta_FusionJazz/MusicDelta_FusionJazz_STEMS/MusicDelta_FusionJazz_STEM_03.wav"
     ]
    },
    {
     "name": "stderr",
     "output_type": "stream",
     "text": [
      "WARNING:root:output_file: /var/folders/k_/plmjzvbd70z_9dbsrxw1gnvh0000gv/T/tmpImgowm.wav already exists and will be overwritten on build\n"
     ]
    },
    {
     "name": "stdout",
     "output_type": "stream",
     "text": [
      "\n",
      "/Datasets/MedleyDB/Audio/MusicDelta_LatinJazz/MusicDelta_LatinJazz_STEMS/MusicDelta_LatinJazz_STEM_03.wav"
     ]
    },
    {
     "name": "stderr",
     "output_type": "stream",
     "text": [
      "WARNING:root:output_file: /var/folders/k_/plmjzvbd70z_9dbsrxw1gnvh0000gv/T/tmpW7cso4.wav already exists and will be overwritten on build\n"
     ]
    },
    {
     "name": "stdout",
     "output_type": "stream",
     "text": [
      "\n"
     ]
    },
    {
     "name": "stderr",
     "output_type": "stream",
     "text": [
      "WARNING:root:output_file: /var/folders/k_/plmjzvbd70z_9dbsrxw1gnvh0000gv/T/tmpYE6ngc.wav already exists and will be overwritten on build\n"
     ]
    },
    {
     "name": "stdout",
     "output_type": "stream",
     "text": [
      "\n",
      "distorted electric guitar\n",
      "31\n",
      "/Datasets/MedleyDB/Audio/AClassicEducation_NightOwl/AClassicEducation_NightOwl_STEMS/AClassicEducation_NightOwl_STEM_03.wav\n",
      "/Datasets/MedleyDB/Audio/AClassicEducation_NightOwl/AClassicEducation_NightOwl_STEMS/AClassicEducation_NightOwl_STEM_04.wav"
     ]
    },
    {
     "name": "stderr",
     "output_type": "stream",
     "text": [
      "WARNING:root:output_file: /var/folders/k_/plmjzvbd70z_9dbsrxw1gnvh0000gv/T/tmp3rw5pN.wav already exists and will be overwritten on build\n"
     ]
    },
    {
     "name": "stdout",
     "output_type": "stream",
     "text": [
      "\n",
      "/Datasets/MedleyDB/Audio/AClassicEducation_NightOwl/AClassicEducation_NightOwl_STEMS/AClassicEducation_NightOwl_STEM_06.wav"
     ]
    },
    {
     "name": "stderr",
     "output_type": "stream",
     "text": [
      "WARNING:root:output_file: /var/folders/k_/plmjzvbd70z_9dbsrxw1gnvh0000gv/T/tmpuhItZk.wav already exists and will be overwritten on build\n"
     ]
    },
    {
     "name": "stdout",
     "output_type": "stream",
     "text": [
      "\n",
      "/Datasets/MedleyDB/Audio/AClassicEducation_NightOwl/AClassicEducation_NightOwl_STEMS/AClassicEducation_NightOwl_STEM_07.wav"
     ]
    },
    {
     "name": "stderr",
     "output_type": "stream",
     "text": [
      "WARNING:root:output_file: /var/folders/k_/plmjzvbd70z_9dbsrxw1gnvh0000gv/T/tmpNVCSyJ.wav already exists and will be overwritten on build\n"
     ]
    },
    {
     "name": "stdout",
     "output_type": "stream",
     "text": [
      "\n",
      "/Datasets/MedleyDB/Audio/AvaLuna_Waterduct/AvaLuna_Waterduct_STEMS/AvaLuna_Waterduct_STEM_05.wav"
     ]
    },
    {
     "name": "stderr",
     "output_type": "stream",
     "text": [
      "WARNING:root:output_file: /var/folders/k_/plmjzvbd70z_9dbsrxw1gnvh0000gv/T/tmpbZoyT9.wav already exists and will be overwritten on build\n"
     ]
    },
    {
     "name": "stdout",
     "output_type": "stream",
     "text": [
      "\n",
      "/Datasets/MedleyDB/Audio/BigTroubles_Phantom/BigTroubles_Phantom_STEMS/BigTroubles_Phantom_STEM_03.wav"
     ]
    },
    {
     "name": "stderr",
     "output_type": "stream",
     "text": [
      "WARNING:root:output_file: /var/folders/k_/plmjzvbd70z_9dbsrxw1gnvh0000gv/T/tmpIqEwh5.wav already exists and will be overwritten on build\n"
     ]
    },
    {
     "name": "stdout",
     "output_type": "stream",
     "text": [
      "\n",
      "/Datasets/MedleyDB/Audio/BigTroubles_Phantom/BigTroubles_Phantom_STEMS/BigTroubles_Phantom_STEM_05.wav"
     ]
    },
    {
     "name": "stderr",
     "output_type": "stream",
     "text": [
      "WARNING:root:output_file: /var/folders/k_/plmjzvbd70z_9dbsrxw1gnvh0000gv/T/tmp7j1ypr.wav already exists and will be overwritten on build\n"
     ]
    },
    {
     "name": "stdout",
     "output_type": "stream",
     "text": [
      "\n",
      "/Datasets/MedleyDB/Audio/BigTroubles_Phantom/BigTroubles_Phantom_STEMS/BigTroubles_Phantom_STEM_07.wav"
     ]
    },
    {
     "name": "stderr",
     "output_type": "stream",
     "text": [
      "WARNING:root:output_file: /var/folders/k_/plmjzvbd70z_9dbsrxw1gnvh0000gv/T/tmpAuixpF.wav already exists and will be overwritten on build\n"
     ]
    },
    {
     "name": "stdout",
     "output_type": "stream",
     "text": [
      "\n",
      "/Datasets/MedleyDB/Audio/Creepoid_OldTree/Creepoid_OldTree_STEMS/Creepoid_OldTree_STEM_05.wav"
     ]
    },
    {
     "name": "stderr",
     "output_type": "stream",
     "text": [
      "WARNING:root:output_file: /var/folders/k_/plmjzvbd70z_9dbsrxw1gnvh0000gv/T/tmplNBNr5.wav already exists and will be overwritten on build\n"
     ]
    },
    {
     "name": "stdout",
     "output_type": "stream",
     "text": [
      "\n",
      "/Datasets/MedleyDB/Audio/Creepoid_OldTree/Creepoid_OldTree_STEMS/Creepoid_OldTree_STEM_06.wav"
     ]
    },
    {
     "name": "stderr",
     "output_type": "stream",
     "text": [
      "WARNING:root:output_file: /var/folders/k_/plmjzvbd70z_9dbsrxw1gnvh0000gv/T/tmprTWu58.wav already exists and will be overwritten on build\n"
     ]
    },
    {
     "name": "stdout",
     "output_type": "stream",
     "text": [
      "\n",
      "/Datasets/MedleyDB/Audio/EthanHein_GirlOnABridge/EthanHein_GirlOnABridge_STEMS/EthanHein_GirlOnABridge_STEM_05.wav"
     ]
    },
    {
     "name": "stderr",
     "output_type": "stream",
     "text": [
      "WARNING:root:output_file: /var/folders/k_/plmjzvbd70z_9dbsrxw1gnvh0000gv/T/tmp_eevIe.wav already exists and will be overwritten on build\n"
     ]
    },
    {
     "name": "stdout",
     "output_type": "stream",
     "text": [
      "\n",
      "/Datasets/MedleyDB/Audio/FacesOnFilm_WaitingForGa/FacesOnFilm_WaitingForGa_STEMS/FacesOnFilm_WaitingForGa_STEM_06.wav"
     ]
    },
    {
     "name": "stderr",
     "output_type": "stream",
     "text": [
      "WARNING:root:output_file: /var/folders/k_/plmjzvbd70z_9dbsrxw1gnvh0000gv/T/tmpKT1f49.wav already exists and will be overwritten on build\n"
     ]
    },
    {
     "name": "stdout",
     "output_type": "stream",
     "text": [
      "\n",
      "/Datasets/MedleyDB/Audio/HopAlong_SisterCities/HopAlong_SisterCities_STEMS/HopAlong_SisterCities_STEM_06.wav"
     ]
    },
    {
     "name": "stderr",
     "output_type": "stream",
     "text": [
      "WARNING:root:output_file: /var/folders/k_/plmjzvbd70z_9dbsrxw1gnvh0000gv/T/tmp8B7KX_.wav already exists and will be overwritten on build\n"
     ]
    },
    {
     "name": "stdout",
     "output_type": "stream",
     "text": [
      "\n",
      "/Datasets/MedleyDB/Audio/HopAlong_SisterCities/HopAlong_SisterCities_STEMS/HopAlong_SisterCities_STEM_08.wav"
     ]
    },
    {
     "name": "stderr",
     "output_type": "stream",
     "text": [
      "WARNING:root:output_file: /var/folders/k_/plmjzvbd70z_9dbsrxw1gnvh0000gv/T/tmpAX4PiN.wav already exists and will be overwritten on build\n"
     ]
    },
    {
     "name": "stdout",
     "output_type": "stream",
     "text": [
      "\n",
      "/Datasets/MedleyDB/Audio/Meaxic_TakeAStep/Meaxic_TakeAStep_STEMS/Meaxic_TakeAStep_STEM_03.wav"
     ]
    },
    {
     "name": "stderr",
     "output_type": "stream",
     "text": [
      "WARNING:root:output_file: /var/folders/k_/plmjzvbd70z_9dbsrxw1gnvh0000gv/T/tmpPjce0C.wav already exists and will be overwritten on build\n"
     ]
    },
    {
     "name": "stdout",
     "output_type": "stream",
     "text": [
      "\n",
      "/Datasets/MedleyDB/Audio/Meaxic_YouListen/Meaxic_YouListen_STEMS/Meaxic_YouListen_STEM_06.wav"
     ]
    },
    {
     "name": "stderr",
     "output_type": "stream",
     "text": [
      "WARNING:root:output_file: /var/folders/k_/plmjzvbd70z_9dbsrxw1gnvh0000gv/T/tmpdW9O2O.wav already exists and will be overwritten on build\n"
     ]
    },
    {
     "name": "stdout",
     "output_type": "stream",
     "text": [
      "\n",
      "/Datasets/MedleyDB/Audio/MusicDelta_80sRock/MusicDelta_80sRock_STEMS/MusicDelta_80sRock_STEM_03.wav"
     ]
    },
    {
     "name": "stderr",
     "output_type": "stream",
     "text": [
      "WARNING:root:output_file: /var/folders/k_/plmjzvbd70z_9dbsrxw1gnvh0000gv/T/tmpRQbocC.wav already exists and will be overwritten on build\n"
     ]
    },
    {
     "name": "stdout",
     "output_type": "stream",
     "text": [
      "\n",
      "/Datasets/MedleyDB/Audio/MusicDelta_Britpop/MusicDelta_Britpop_STEMS/MusicDelta_Britpop_STEM_03.wav"
     ]
    },
    {
     "name": "stderr",
     "output_type": "stream",
     "text": [
      "WARNING:root:output_file: /var/folders/k_/plmjzvbd70z_9dbsrxw1gnvh0000gv/T/tmp5pLcPo.wav already exists and will be overwritten on build\n"
     ]
    },
    {
     "name": "stdout",
     "output_type": "stream",
     "text": [
      "\n",
      "/Datasets/MedleyDB/Audio/MusicDelta_Grunge/MusicDelta_Grunge_STEMS/MusicDelta_Grunge_STEM_03.wav"
     ]
    },
    {
     "name": "stderr",
     "output_type": "stream",
     "text": [
      "WARNING:root:output_file: /var/folders/k_/plmjzvbd70z_9dbsrxw1gnvh0000gv/T/tmpdxpR6A.wav already exists and will be overwritten on build\n"
     ]
    },
    {
     "name": "stdout",
     "output_type": "stream",
     "text": [
      "\n",
      "/Datasets/MedleyDB/Audio/MusicDelta_Grunge/MusicDelta_Grunge_STEMS/MusicDelta_Grunge_STEM_04.wav"
     ]
    },
    {
     "name": "stderr",
     "output_type": "stream",
     "text": [
      "WARNING:root:output_file: /var/folders/k_/plmjzvbd70z_9dbsrxw1gnvh0000gv/T/tmpQZodLp.wav already exists and will be overwritten on build\n"
     ]
    },
    {
     "name": "stdout",
     "output_type": "stream",
     "text": [
      "\n",
      "/Datasets/MedleyDB/Audio/MusicDelta_Hendrix/MusicDelta_Hendrix_STEMS/MusicDelta_Hendrix_STEM_03.wav"
     ]
    },
    {
     "name": "stderr",
     "output_type": "stream",
     "text": [
      "WARNING:root:output_file: /var/folders/k_/plmjzvbd70z_9dbsrxw1gnvh0000gv/T/tmp0f7Ovd.wav already exists and will be overwritten on build\n"
     ]
    },
    {
     "name": "stdout",
     "output_type": "stream",
     "text": [
      "\n",
      "/Datasets/MedleyDB/Audio/MusicDelta_Punk/MusicDelta_Punk_STEMS/MusicDelta_Punk_STEM_03.wav"
     ]
    },
    {
     "name": "stderr",
     "output_type": "stream",
     "text": [
      "WARNING:root:output_file: /var/folders/k_/plmjzvbd70z_9dbsrxw1gnvh0000gv/T/tmpnwAwjH.wav already exists and will be overwritten on build\n"
     ]
    },
    {
     "name": "stdout",
     "output_type": "stream",
     "text": [
      "\n",
      "/Datasets/MedleyDB/Audio/MusicDelta_Rockabilly/MusicDelta_Rockabilly_STEMS/MusicDelta_Rockabilly_STEM_03.wav"
     ]
    },
    {
     "name": "stderr",
     "output_type": "stream",
     "text": [
      "WARNING:root:output_file: /var/folders/k_/plmjzvbd70z_9dbsrxw1gnvh0000gv/T/tmpTb2XmH.wav already exists and will be overwritten on build\n"
     ]
    },
    {
     "name": "stdout",
     "output_type": "stream",
     "text": [
      "\n",
      "/Datasets/MedleyDB/Audio/MusicDelta_SpeedMetal/MusicDelta_SpeedMetal_STEMS/MusicDelta_SpeedMetal_STEM_03.wav"
     ]
    },
    {
     "name": "stderr",
     "output_type": "stream",
     "text": [
      "WARNING:root:output_file: /var/folders/k_/plmjzvbd70z_9dbsrxw1gnvh0000gv/T/tmp2cDrE6.wav already exists and will be overwritten on build\n"
     ]
    },
    {
     "name": "stdout",
     "output_type": "stream",
     "text": [
      "\n",
      "/Datasets/MedleyDB/Audio/MusicDelta_SpeedMetal/MusicDelta_SpeedMetal_STEMS/MusicDelta_SpeedMetal_STEM_04.wav"
     ]
    },
    {
     "name": "stderr",
     "output_type": "stream",
     "text": [
      "WARNING:root:output_file: /var/folders/k_/plmjzvbd70z_9dbsrxw1gnvh0000gv/T/tmpEPOOwx.wav already exists and will be overwritten on build\n"
     ]
    },
    {
     "name": "stdout",
     "output_type": "stream",
     "text": [
      "\n",
      "/Datasets/MedleyDB/Audio/MusicDelta_Zeppelin/MusicDelta_Zeppelin_STEMS/MusicDelta_Zeppelin_STEM_03.wav"
     ]
    },
    {
     "name": "stderr",
     "output_type": "stream",
     "text": [
      "WARNING:root:output_file: /var/folders/k_/plmjzvbd70z_9dbsrxw1gnvh0000gv/T/tmpH6h69s.wav already exists and will be overwritten on build\n"
     ]
    },
    {
     "name": "stdout",
     "output_type": "stream",
     "text": [
      "\n",
      "/Datasets/MedleyDB/Audio/MusicDelta_Zeppelin/MusicDelta_Zeppelin_STEMS/MusicDelta_Zeppelin_STEM_04.wav"
     ]
    },
    {
     "name": "stderr",
     "output_type": "stream",
     "text": [
      "WARNING:root:output_file: /var/folders/k_/plmjzvbd70z_9dbsrxw1gnvh0000gv/T/tmpy3gmBL.wav already exists and will be overwritten on build\n"
     ]
    },
    {
     "name": "stdout",
     "output_type": "stream",
     "text": [
      "\n",
      "/Datasets/MedleyDB/Audio/TablaBreakbeatScience_Animoog/TablaBreakbeatScience_Animoog_STEMS/TablaBreakbeatScience_Animoog_STEM_03.wav"
     ]
    },
    {
     "name": "stderr",
     "output_type": "stream",
     "text": [
      "WARNING:root:output_file: /var/folders/k_/plmjzvbd70z_9dbsrxw1gnvh0000gv/T/tmp4jghKH.wav already exists and will be overwritten on build\n"
     ]
    },
    {
     "name": "stdout",
     "output_type": "stream",
     "text": [
      "\n",
      "/Datasets/MedleyDB/Audio/TheScarletBrand_LesFleursDuMal/TheScarletBrand_LesFleursDuMal_STEMS/TheScarletBrand_LesFleursDuMal_STEM_04.wav"
     ]
    },
    {
     "name": "stderr",
     "output_type": "stream",
     "text": [
      "WARNING:root:output_file: /var/folders/k_/plmjzvbd70z_9dbsrxw1gnvh0000gv/T/tmpL5M0do.wav already exists and will be overwritten on build\n"
     ]
    },
    {
     "name": "stdout",
     "output_type": "stream",
     "text": [
      "\n",
      "/Datasets/MedleyDB/Audio/TheScarletBrand_LesFleursDuMal/TheScarletBrand_LesFleursDuMal_STEMS/TheScarletBrand_LesFleursDuMal_STEM_05.wav"
     ]
    },
    {
     "name": "stderr",
     "output_type": "stream",
     "text": [
      "WARNING:root:output_file: /var/folders/k_/plmjzvbd70z_9dbsrxw1gnvh0000gv/T/tmpu3iEmz.wav already exists and will be overwritten on build\n"
     ]
    },
    {
     "name": "stdout",
     "output_type": "stream",
     "text": [
      "\n",
      "/Datasets/MedleyDB/Audio/TheSoSoGlos_Emergency/TheSoSoGlos_Emergency_STEMS/TheSoSoGlos_Emergency_STEM_04.wav"
     ]
    },
    {
     "name": "stderr",
     "output_type": "stream",
     "text": [
      "WARNING:root:output_file: /var/folders/k_/plmjzvbd70z_9dbsrxw1gnvh0000gv/T/tmptomE1S.wav already exists and will be overwritten on build\n"
     ]
    },
    {
     "name": "stdout",
     "output_type": "stream",
     "text": [
      "\n"
     ]
    },
    {
     "name": "stderr",
     "output_type": "stream",
     "text": [
      "WARNING:root:output_file: /var/folders/k_/plmjzvbd70z_9dbsrxw1gnvh0000gv/T/tmpoZWQ9V.wav already exists and will be overwritten on build\n"
     ]
    },
    {
     "name": "stdout",
     "output_type": "stream",
     "text": [
      "\n",
      "cello section\n",
      "5\n",
      "/Datasets/MedleyDB/Audio/MatthewEntwistle_FairerHopes/MatthewEntwistle_FairerHopes_STEMS/MatthewEntwistle_FairerHopes_STEM_02.wav\n",
      "/Datasets/MedleyDB/Audio/MatthewEntwistle_FairerHopes/MatthewEntwistle_FairerHopes_STEMS/MatthewEntwistle_FairerHopes_STEM_03.wav"
     ]
    },
    {
     "name": "stderr",
     "output_type": "stream",
     "text": [
      "WARNING:root:output_file: /var/folders/k_/plmjzvbd70z_9dbsrxw1gnvh0000gv/T/tmpivgqfY.wav already exists and will be overwritten on build\n"
     ]
    },
    {
     "name": "stdout",
     "output_type": "stream",
     "text": [
      "\n",
      "/Datasets/MedleyDB/Audio/MatthewEntwistle_FairerHopes/MatthewEntwistle_FairerHopes_STEMS/MatthewEntwistle_FairerHopes_STEM_04.wav"
     ]
    },
    {
     "name": "stderr",
     "output_type": "stream",
     "text": [
      "WARNING:root:output_file: /var/folders/k_/plmjzvbd70z_9dbsrxw1gnvh0000gv/T/tmpfPggIT.wav already exists and will be overwritten on build\n"
     ]
    },
    {
     "name": "stdout",
     "output_type": "stream",
     "text": [
      "\n",
      "/Datasets/MedleyDB/Audio/MatthewEntwistle_TheArch/MatthewEntwistle_TheArch_STEMS/MatthewEntwistle_TheArch_STEM_05.wav"
     ]
    },
    {
     "name": "stderr",
     "output_type": "stream",
     "text": [
      "WARNING:root:output_file: /var/folders/k_/plmjzvbd70z_9dbsrxw1gnvh0000gv/T/tmppdktnX.wav already exists and will be overwritten on build\n"
     ]
    },
    {
     "name": "stdout",
     "output_type": "stream",
     "text": [
      "\n",
      "/Datasets/MedleyDB/Audio/MatthewEntwistle_TheArch/MatthewEntwistle_TheArch_STEMS/MatthewEntwistle_TheArch_STEM_06.wav"
     ]
    },
    {
     "name": "stderr",
     "output_type": "stream",
     "text": [
      "WARNING:root:output_file: /var/folders/k_/plmjzvbd70z_9dbsrxw1gnvh0000gv/T/tmpF6b3pO.wav already exists and will be overwritten on build\n"
     ]
    },
    {
     "name": "stdout",
     "output_type": "stream",
     "text": [
      "\n"
     ]
    },
    {
     "name": "stderr",
     "output_type": "stream",
     "text": [
      "WARNING:root:output_file: /var/folders/k_/plmjzvbd70z_9dbsrxw1gnvh0000gv/T/tmpvFMDI6.wav already exists and will be overwritten on build\n"
     ]
    },
    {
     "name": "stdout",
     "output_type": "stream",
     "text": [
      "\n",
      "drum set\n",
      "60\n",
      "/Datasets/MedleyDB/Audio/AClassicEducation_NightOwl/AClassicEducation_NightOwl_STEMS/AClassicEducation_NightOwl_STEM_02.wav\n",
      "/Datasets/MedleyDB/Audio/AimeeNorwich_Child/AimeeNorwich_Child_STEMS/AimeeNorwich_Child_STEM_01.wav"
     ]
    },
    {
     "name": "stderr",
     "output_type": "stream",
     "text": [
      "WARNING:root:output_file: /var/folders/k_/plmjzvbd70z_9dbsrxw1gnvh0000gv/T/tmpGy0lDs.wav already exists and will be overwritten on build\n"
     ]
    },
    {
     "name": "stdout",
     "output_type": "stream",
     "text": [
      "\n",
      "/Datasets/MedleyDB/Audio/AimeeNorwich_Flying/AimeeNorwich_Flying_STEMS/AimeeNorwich_Flying_STEM_01.wav"
     ]
    },
    {
     "name": "stderr",
     "output_type": "stream",
     "text": [
      "WARNING:root:output_file: /var/folders/k_/plmjzvbd70z_9dbsrxw1gnvh0000gv/T/tmpsKAnNd.wav already exists and will be overwritten on build\n"
     ]
    },
    {
     "name": "stdout",
     "output_type": "stream",
     "text": [
      "\n",
      "/Datasets/MedleyDB/Audio/AlexanderRoss_GoodbyeBolero/AlexanderRoss_GoodbyeBolero_STEMS/AlexanderRoss_GoodbyeBolero_STEM_05.wav"
     ]
    },
    {
     "name": "stderr",
     "output_type": "stream",
     "text": [
      "WARNING:root:output_file: /var/folders/k_/plmjzvbd70z_9dbsrxw1gnvh0000gv/T/tmpzxOKFY.wav already exists and will be overwritten on build\n"
     ]
    },
    {
     "name": "stdout",
     "output_type": "stream",
     "text": [
      "\n",
      "/Datasets/MedleyDB/Audio/AlexanderRoss_VelvetCurtain/AlexanderRoss_VelvetCurtain_STEMS/AlexanderRoss_VelvetCurtain_STEM_05.wav"
     ]
    },
    {
     "name": "stderr",
     "output_type": "stream",
     "text": [
      "WARNING:root:output_file: /var/folders/k_/plmjzvbd70z_9dbsrxw1gnvh0000gv/T/tmpENAl2r.wav already exists and will be overwritten on build\n"
     ]
    },
    {
     "name": "stdout",
     "output_type": "stream",
     "text": [
      "\n",
      "/Datasets/MedleyDB/Audio/Auctioneer_OurFutureFaces/Auctioneer_OurFutureFaces_STEMS/Auctioneer_OurFutureFaces_STEM_04.wav"
     ]
    },
    {
     "name": "stderr",
     "output_type": "stream",
     "text": [
      "WARNING:root:output_file: /var/folders/k_/plmjzvbd70z_9dbsrxw1gnvh0000gv/T/tmp7h8KP3.wav already exists and will be overwritten on build\n"
     ]
    },
    {
     "name": "stdout",
     "output_type": "stream",
     "text": [
      "\n",
      "/Datasets/MedleyDB/Audio/AvaLuna_Waterduct/AvaLuna_Waterduct_STEMS/AvaLuna_Waterduct_STEM_04.wav"
     ]
    },
    {
     "name": "stderr",
     "output_type": "stream",
     "text": [
      "WARNING:root:output_file: /var/folders/k_/plmjzvbd70z_9dbsrxw1gnvh0000gv/T/tmpjWEPmT.wav already exists and will be overwritten on build\n"
     ]
    },
    {
     "name": "stdout",
     "output_type": "stream",
     "text": [
      "\n",
      "/Datasets/MedleyDB/Audio/BigTroubles_Phantom/BigTroubles_Phantom_STEMS/BigTroubles_Phantom_STEM_02.wav"
     ]
    },
    {
     "name": "stderr",
     "output_type": "stream",
     "text": [
      "WARNING:root:output_file: /var/folders/k_/plmjzvbd70z_9dbsrxw1gnvh0000gv/T/tmp2aKYYT.wav already exists and will be overwritten on build\n"
     ]
    },
    {
     "name": "stdout",
     "output_type": "stream",
     "text": [
      "\n",
      "/Datasets/MedleyDB/Audio/CelestialShore_DieForUs/CelestialShore_DieForUs_STEMS/CelestialShore_DieForUs_STEM_06.wav"
     ]
    },
    {
     "name": "stderr",
     "output_type": "stream",
     "text": [
      "WARNING:root:output_file: /var/folders/k_/plmjzvbd70z_9dbsrxw1gnvh0000gv/T/tmpAT9oOP.wav already exists and will be overwritten on build\n"
     ]
    },
    {
     "name": "stdout",
     "output_type": "stream",
     "text": [
      "\n",
      "/Datasets/MedleyDB/Audio/ClaraBerryAndWooldog_AirTraffic/ClaraBerryAndWooldog_AirTraffic_STEMS/ClaraBerryAndWooldog_AirTraffic_STEM_01.wav"
     ]
    },
    {
     "name": "stderr",
     "output_type": "stream",
     "text": [
      "WARNING:root:output_file: /var/folders/k_/plmjzvbd70z_9dbsrxw1gnvh0000gv/T/tmpmmicZH.wav already exists and will be overwritten on build\n"
     ]
    },
    {
     "name": "stdout",
     "output_type": "stream",
     "text": [
      "\n",
      "/Datasets/MedleyDB/Audio/ClaraBerryAndWooldog_Stella/ClaraBerryAndWooldog_Stella_STEMS/ClaraBerryAndWooldog_Stella_STEM_01.wav"
     ]
    },
    {
     "name": "stderr",
     "output_type": "stream",
     "text": [
      "WARNING:root:output_file: /var/folders/k_/plmjzvbd70z_9dbsrxw1gnvh0000gv/T/tmpsPf9Hz.wav already exists and will be overwritten on build\n"
     ]
    },
    {
     "name": "stdout",
     "output_type": "stream",
     "text": [
      "\n",
      "/Datasets/MedleyDB/Audio/ClaraBerryAndWooldog_WaltzForMyVictims/ClaraBerryAndWooldog_WaltzForMyVictims_STEMS/ClaraBerryAndWooldog_WaltzForMyVictims_STEM_01.wav"
     ]
    },
    {
     "name": "stderr",
     "output_type": "stream",
     "text": [
      "WARNING:root:output_file: /var/folders/k_/plmjzvbd70z_9dbsrxw1gnvh0000gv/T/tmpkyvjAh.wav already exists and will be overwritten on build\n"
     ]
    },
    {
     "name": "stdout",
     "output_type": "stream",
     "text": [
      "\n",
      "/Datasets/MedleyDB/Audio/Creepoid_OldTree/Creepoid_OldTree_STEMS/Creepoid_OldTree_STEM_04.wav"
     ]
    },
    {
     "name": "stderr",
     "output_type": "stream",
     "text": [
      "WARNING:root:output_file: /var/folders/k_/plmjzvbd70z_9dbsrxw1gnvh0000gv/T/tmpvrvVdR.wav already exists and will be overwritten on build\n"
     ]
    },
    {
     "name": "stdout",
     "output_type": "stream",
     "text": [
      "\n",
      "/Datasets/MedleyDB/Audio/DreamersOfTheGhetto_HeavyLove/DreamersOfTheGhetto_HeavyLove_STEMS/DreamersOfTheGhetto_HeavyLove_STEM_05.wav"
     ]
    },
    {
     "name": "stderr",
     "output_type": "stream",
     "text": [
      "WARNING:root:output_file: /var/folders/k_/plmjzvbd70z_9dbsrxw1gnvh0000gv/T/tmpt3j28W.wav already exists and will be overwritten on build\n"
     ]
    },
    {
     "name": "stdout",
     "output_type": "stream",
     "text": [
      "\n",
      "/Datasets/MedleyDB/Audio/EthanHein_BluesForNofi/EthanHein_BluesForNofi_STEMS/EthanHein_BluesForNofi_STEM_01.wav"
     ]
    },
    {
     "name": "stderr",
     "output_type": "stream",
     "text": [
      "WARNING:root:output_file: /var/folders/k_/plmjzvbd70z_9dbsrxw1gnvh0000gv/T/tmp4dRPEG.wav already exists and will be overwritten on build\n"
     ]
    },
    {
     "name": "stdout",
     "output_type": "stream",
     "text": [
      "\n",
      "/Datasets/MedleyDB/Audio/FacesOnFilm_WaitingForGa/FacesOnFilm_WaitingForGa_STEMS/FacesOnFilm_WaitingForGa_STEM_04.wav"
     ]
    },
    {
     "name": "stderr",
     "output_type": "stream",
     "text": [
      "WARNING:root:output_file: /var/folders/k_/plmjzvbd70z_9dbsrxw1gnvh0000gv/T/tmpcVX2V8.wav already exists and will be overwritten on build\n"
     ]
    },
    {
     "name": "stdout",
     "output_type": "stream",
     "text": [
      "\n",
      "/Datasets/MedleyDB/Audio/HezekiahJones_BorrowedHeart/HezekiahJones_BorrowedHeart_STEMS/HezekiahJones_BorrowedHeart_STEM_09.wav"
     ]
    },
    {
     "name": "stderr",
     "output_type": "stream",
     "text": [
      "WARNING:root:output_file: /var/folders/k_/plmjzvbd70z_9dbsrxw1gnvh0000gv/T/tmpKHwOGD.wav already exists and will be overwritten on build\n"
     ]
    },
    {
     "name": "stdout",
     "output_type": "stream",
     "text": [
      "\n",
      "/Datasets/MedleyDB/Audio/HopAlong_SisterCities/HopAlong_SisterCities_STEMS/HopAlong_SisterCities_STEM_04.wav"
     ]
    },
    {
     "name": "stderr",
     "output_type": "stream",
     "text": [
      "WARNING:root:output_file: /var/folders/k_/plmjzvbd70z_9dbsrxw1gnvh0000gv/T/tmpkF0B9R.wav already exists and will be overwritten on build\n"
     ]
    },
    {
     "name": "stdout",
     "output_type": "stream",
     "text": [
      "\n",
      "/Datasets/MedleyDB/Audio/InvisibleFamiliars_DisturbingWildlife/InvisibleFamiliars_DisturbingWildlife_STEMS/InvisibleFamiliars_DisturbingWildlife_STEM_04.wav"
     ]
    },
    {
     "name": "stderr",
     "output_type": "stream",
     "text": [
      "WARNING:root:output_file: /var/folders/k_/plmjzvbd70z_9dbsrxw1gnvh0000gv/T/tmp4fAYB3.wav already exists and will be overwritten on build\n"
     ]
    },
    {
     "name": "stdout",
     "output_type": "stream",
     "text": [
      "\n",
      "/Datasets/MedleyDB/Audio/Lushlife_ToynbeeSuite/Lushlife_ToynbeeSuite_STEMS/Lushlife_ToynbeeSuite_STEM_07.wav"
     ]
    },
    {
     "name": "stderr",
     "output_type": "stream",
     "text": [
      "WARNING:root:output_file: /var/folders/k_/plmjzvbd70z_9dbsrxw1gnvh0000gv/T/tmpIgwiGH.wav already exists and will be overwritten on build\n"
     ]
    },
    {
     "name": "stdout",
     "output_type": "stream",
     "text": [
      "\n",
      "/Datasets/MedleyDB/Audio/MatthewEntwistle_DontYouEver/MatthewEntwistle_DontYouEver_STEMS/MatthewEntwistle_DontYouEver_STEM_04.wav"
     ]
    },
    {
     "name": "stderr",
     "output_type": "stream",
     "text": [
      "WARNING:root:output_file: /var/folders/k_/plmjzvbd70z_9dbsrxw1gnvh0000gv/T/tmpQR3Pvp.wav already exists and will be overwritten on build\n"
     ]
    },
    {
     "name": "stdout",
     "output_type": "stream",
     "text": [
      "\n",
      "/Datasets/MedleyDB/Audio/Meaxic_TakeAStep/Meaxic_TakeAStep_STEMS/Meaxic_TakeAStep_STEM_05.wav"
     ]
    },
    {
     "name": "stderr",
     "output_type": "stream",
     "text": [
      "WARNING:root:output_file: /var/folders/k_/plmjzvbd70z_9dbsrxw1gnvh0000gv/T/tmpaTQCCm.wav already exists and will be overwritten on build\n"
     ]
    },
    {
     "name": "stdout",
     "output_type": "stream",
     "text": [
      "\n",
      "/Datasets/MedleyDB/Audio/Meaxic_YouListen/Meaxic_YouListen_STEMS/Meaxic_YouListen_STEM_07.wav"
     ]
    },
    {
     "name": "stderr",
     "output_type": "stream",
     "text": [
      "WARNING:root:output_file: /var/folders/k_/plmjzvbd70z_9dbsrxw1gnvh0000gv/T/tmpkUwHWs.wav already exists and will be overwritten on build\n"
     ]
    },
    {
     "name": "stdout",
     "output_type": "stream",
     "text": [
      "\n",
      "/Datasets/MedleyDB/Audio/MusicDelta_80sRock/MusicDelta_80sRock_STEMS/MusicDelta_80sRock_STEM_01.wav"
     ]
    },
    {
     "name": "stderr",
     "output_type": "stream",
     "text": [
      "WARNING:root:output_file: /var/folders/k_/plmjzvbd70z_9dbsrxw1gnvh0000gv/T/tmpnm1mVB.wav already exists and will be overwritten on build\n"
     ]
    },
    {
     "name": "stdout",
     "output_type": "stream",
     "text": [
      "\n",
      "/Datasets/MedleyDB/Audio/MusicDelta_Beatles/MusicDelta_Beatles_STEMS/MusicDelta_Beatles_STEM_01.wav"
     ]
    },
    {
     "name": "stderr",
     "output_type": "stream",
     "text": [
      "WARNING:root:output_file: /var/folders/k_/plmjzvbd70z_9dbsrxw1gnvh0000gv/T/tmpZ5MyvS.wav already exists and will be overwritten on build\n"
     ]
    },
    {
     "name": "stdout",
     "output_type": "stream",
     "text": [
      "\n",
      "/Datasets/MedleyDB/Audio/MusicDelta_BebopJazz/MusicDelta_BebopJazz_STEMS/MusicDelta_BebopJazz_STEM_01.wav"
     ]
    },
    {
     "name": "stderr",
     "output_type": "stream",
     "text": [
      "WARNING:root:output_file: /var/folders/k_/plmjzvbd70z_9dbsrxw1gnvh0000gv/T/tmpP95I2A.wav already exists and will be overwritten on build\n"
     ]
    },
    {
     "name": "stdout",
     "output_type": "stream",
     "text": [
      "\n",
      "/Datasets/MedleyDB/Audio/MusicDelta_Britpop/MusicDelta_Britpop_STEMS/MusicDelta_Britpop_STEM_01.wav"
     ]
    },
    {
     "name": "stderr",
     "output_type": "stream",
     "text": [
      "WARNING:root:output_file: /var/folders/k_/plmjzvbd70z_9dbsrxw1gnvh0000gv/T/tmpPyTcH6.wav already exists and will be overwritten on build\n"
     ]
    },
    {
     "name": "stdout",
     "output_type": "stream",
     "text": [
      "\n",
      "/Datasets/MedleyDB/Audio/MusicDelta_CoolJazz/MusicDelta_CoolJazz_STEMS/MusicDelta_CoolJazz_STEM_02.wav"
     ]
    },
    {
     "name": "stderr",
     "output_type": "stream",
     "text": [
      "WARNING:root:output_file: /var/folders/k_/plmjzvbd70z_9dbsrxw1gnvh0000gv/T/tmpHWnwuo.wav already exists and will be overwritten on build\n"
     ]
    },
    {
     "name": "stdout",
     "output_type": "stream",
     "text": [
      "\n",
      "/Datasets/MedleyDB/Audio/MusicDelta_Country1/MusicDelta_Country1_STEMS/MusicDelta_Country1_STEM_01.wav"
     ]
    },
    {
     "name": "stderr",
     "output_type": "stream",
     "text": [
      "WARNING:root:output_file: /var/folders/k_/plmjzvbd70z_9dbsrxw1gnvh0000gv/T/tmp7uDago.wav already exists and will be overwritten on build\n"
     ]
    },
    {
     "name": "stdout",
     "output_type": "stream",
     "text": [
      "\n",
      "/Datasets/MedleyDB/Audio/MusicDelta_Country2/MusicDelta_Country2_STEMS/MusicDelta_Country2_STEM_01.wav"
     ]
    },
    {
     "name": "stderr",
     "output_type": "stream",
     "text": [
      "WARNING:root:output_file: /var/folders/k_/plmjzvbd70z_9dbsrxw1gnvh0000gv/T/tmpXKx8KG.wav already exists and will be overwritten on build\n"
     ]
    },
    {
     "name": "stdout",
     "output_type": "stream",
     "text": [
      "\n",
      "/Datasets/MedleyDB/Audio/MusicDelta_Disco/MusicDelta_Disco_STEMS/MusicDelta_Disco_STEM_01.wav"
     ]
    },
    {
     "name": "stderr",
     "output_type": "stream",
     "text": [
      "WARNING:root:output_file: /var/folders/k_/plmjzvbd70z_9dbsrxw1gnvh0000gv/T/tmpfRNCX5.wav already exists and will be overwritten on build\n"
     ]
    },
    {
     "name": "stdout",
     "output_type": "stream",
     "text": [
      "\n",
      "/Datasets/MedleyDB/Audio/MusicDelta_FreeJazz/MusicDelta_FreeJazz_STEMS/MusicDelta_FreeJazz_STEM_01.wav"
     ]
    },
    {
     "name": "stderr",
     "output_type": "stream",
     "text": [
      "WARNING:root:output_file: /var/folders/k_/plmjzvbd70z_9dbsrxw1gnvh0000gv/T/tmpz31RkE.wav already exists and will be overwritten on build\n"
     ]
    },
    {
     "name": "stdout",
     "output_type": "stream",
     "text": [
      "\n",
      "/Datasets/MedleyDB/Audio/MusicDelta_FunkJazz/MusicDelta_FunkJazz_STEMS/MusicDelta_FunkJazz_STEM_01.wav"
     ]
    },
    {
     "name": "stderr",
     "output_type": "stream",
     "text": [
      "WARNING:root:output_file: /var/folders/k_/plmjzvbd70z_9dbsrxw1gnvh0000gv/T/tmpAoABAB.wav already exists and will be overwritten on build\n"
     ]
    },
    {
     "name": "stdout",
     "output_type": "stream",
     "text": [
      "\n",
      "/Datasets/MedleyDB/Audio/MusicDelta_FusionJazz/MusicDelta_FusionJazz_STEMS/MusicDelta_FusionJazz_STEM_01.wav"
     ]
    },
    {
     "name": "stderr",
     "output_type": "stream",
     "text": [
      "WARNING:root:output_file: /var/folders/k_/plmjzvbd70z_9dbsrxw1gnvh0000gv/T/tmp66Ri9J.wav already exists and will be overwritten on build\n"
     ]
    },
    {
     "name": "stdout",
     "output_type": "stream",
     "text": [
      "\n",
      "/Datasets/MedleyDB/Audio/MusicDelta_Gospel/MusicDelta_Gospel_STEMS/MusicDelta_Gospel_STEM_01.wav"
     ]
    },
    {
     "name": "stderr",
     "output_type": "stream",
     "text": [
      "WARNING:root:output_file: /var/folders/k_/plmjzvbd70z_9dbsrxw1gnvh0000gv/T/tmpSFSDr4.wav already exists and will be overwritten on build\n"
     ]
    },
    {
     "name": "stdout",
     "output_type": "stream",
     "text": [
      "\n",
      "/Datasets/MedleyDB/Audio/MusicDelta_Grunge/MusicDelta_Grunge_STEMS/MusicDelta_Grunge_STEM_01.wav"
     ]
    },
    {
     "name": "stderr",
     "output_type": "stream",
     "text": [
      "WARNING:root:output_file: /var/folders/k_/plmjzvbd70z_9dbsrxw1gnvh0000gv/T/tmpZDkk_g.wav already exists and will be overwritten on build\n"
     ]
    },
    {
     "name": "stdout",
     "output_type": "stream",
     "text": [
      "\n",
      "/Datasets/MedleyDB/Audio/MusicDelta_Hendrix/MusicDelta_Hendrix_STEMS/MusicDelta_Hendrix_STEM_01.wav"
     ]
    },
    {
     "name": "stderr",
     "output_type": "stream",
     "text": [
      "WARNING:root:output_file: /var/folders/k_/plmjzvbd70z_9dbsrxw1gnvh0000gv/T/tmplLAKye.wav already exists and will be overwritten on build\n"
     ]
    },
    {
     "name": "stdout",
     "output_type": "stream",
     "text": [
      "\n",
      "/Datasets/MedleyDB/Audio/MusicDelta_LatinJazz/MusicDelta_LatinJazz_STEMS/MusicDelta_LatinJazz_STEM_02.wav"
     ]
    },
    {
     "name": "stderr",
     "output_type": "stream",
     "text": [
      "WARNING:root:output_file: /var/folders/k_/plmjzvbd70z_9dbsrxw1gnvh0000gv/T/tmpY9TwmO.wav already exists and will be overwritten on build\n"
     ]
    },
    {
     "name": "stdout",
     "output_type": "stream",
     "text": [
      "\n",
      "/Datasets/MedleyDB/Audio/MusicDelta_ModalJazz/MusicDelta_ModalJazz_STEMS/MusicDelta_ModalJazz_STEM_01.wav"
     ]
    },
    {
     "name": "stderr",
     "output_type": "stream",
     "text": [
      "WARNING:root:output_file: /var/folders/k_/plmjzvbd70z_9dbsrxw1gnvh0000gv/T/tmpvrX3ST.wav already exists and will be overwritten on build\n"
     ]
    },
    {
     "name": "stdout",
     "output_type": "stream",
     "text": [
      "\n",
      "/Datasets/MedleyDB/Audio/MusicDelta_Punk/MusicDelta_Punk_STEMS/MusicDelta_Punk_STEM_01.wav"
     ]
    },
    {
     "name": "stderr",
     "output_type": "stream",
     "text": [
      "WARNING:root:output_file: /var/folders/k_/plmjzvbd70z_9dbsrxw1gnvh0000gv/T/tmpEwHfbb.wav already exists and will be overwritten on build\n"
     ]
    },
    {
     "name": "stdout",
     "output_type": "stream",
     "text": [
      "\n",
      "/Datasets/MedleyDB/Audio/MusicDelta_Reggae/MusicDelta_Reggae_STEMS/MusicDelta_Reggae_STEM_01.wav"
     ]
    },
    {
     "name": "stderr",
     "output_type": "stream",
     "text": [
      "WARNING:root:output_file: /var/folders/k_/plmjzvbd70z_9dbsrxw1gnvh0000gv/T/tmpEEXrQ9.wav already exists and will be overwritten on build\n"
     ]
    },
    {
     "name": "stdout",
     "output_type": "stream",
     "text": [
      "\n",
      "/Datasets/MedleyDB/Audio/MusicDelta_Rock/MusicDelta_Rock_STEMS/MusicDelta_Rock_STEM_01.wav"
     ]
    },
    {
     "name": "stderr",
     "output_type": "stream",
     "text": [
      "WARNING:root:output_file: /var/folders/k_/plmjzvbd70z_9dbsrxw1gnvh0000gv/T/tmpLmDoYL.wav already exists and will be overwritten on build\n"
     ]
    },
    {
     "name": "stdout",
     "output_type": "stream",
     "text": [
      "\n",
      "/Datasets/MedleyDB/Audio/MusicDelta_Rockabilly/MusicDelta_Rockabilly_STEMS/MusicDelta_Rockabilly_STEM_01.wav"
     ]
    },
    {
     "name": "stderr",
     "output_type": "stream",
     "text": [
      "WARNING:root:output_file: /var/folders/k_/plmjzvbd70z_9dbsrxw1gnvh0000gv/T/tmpezSw4R.wav already exists and will be overwritten on build\n"
     ]
    },
    {
     "name": "stdout",
     "output_type": "stream",
     "text": [
      "\n",
      "/Datasets/MedleyDB/Audio/MusicDelta_Shadows/MusicDelta_Shadows_STEMS/MusicDelta_Shadows_STEM_02.wav"
     ]
    },
    {
     "name": "stderr",
     "output_type": "stream",
     "text": [
      "WARNING:root:output_file: /var/folders/k_/plmjzvbd70z_9dbsrxw1gnvh0000gv/T/tmpZVI0Vv.wav already exists and will be overwritten on build\n"
     ]
    },
    {
     "name": "stdout",
     "output_type": "stream",
     "text": [
      "\n",
      "/Datasets/MedleyDB/Audio/MusicDelta_SpeedMetal/MusicDelta_SpeedMetal_STEMS/MusicDelta_SpeedMetal_STEM_01.wav"
     ]
    },
    {
     "name": "stderr",
     "output_type": "stream",
     "text": [
      "WARNING:root:output_file: /var/folders/k_/plmjzvbd70z_9dbsrxw1gnvh0000gv/T/tmpebbVUF.wav already exists and will be overwritten on build\n"
     ]
    },
    {
     "name": "stdout",
     "output_type": "stream",
     "text": [
      "\n",
      "/Datasets/MedleyDB/Audio/MusicDelta_SwingJazz/MusicDelta_SwingJazz_STEMS/MusicDelta_SwingJazz_STEM_02.wav"
     ]
    },
    {
     "name": "stderr",
     "output_type": "stream",
     "text": [
      "WARNING:root:output_file: /var/folders/k_/plmjzvbd70z_9dbsrxw1gnvh0000gv/T/tmpRRtdu2.wav already exists and will be overwritten on build\n"
     ]
    },
    {
     "name": "stdout",
     "output_type": "stream",
     "text": [
      "\n",
      "/Datasets/MedleyDB/Audio/MusicDelta_Zeppelin/MusicDelta_Zeppelin_STEMS/MusicDelta_Zeppelin_STEM_02.wav"
     ]
    },
    {
     "name": "stderr",
     "output_type": "stream",
     "text": [
      "WARNING:root:output_file: /var/folders/k_/plmjzvbd70z_9dbsrxw1gnvh0000gv/T/tmpbx8aHo.wav already exists and will be overwritten on build\n"
     ]
    },
    {
     "name": "stdout",
     "output_type": "stream",
     "text": [
      "\n",
      "/Datasets/MedleyDB/Audio/NightPanther_Fire/NightPanther_Fire_STEMS/NightPanther_Fire_STEM_05.wav"
     ]
    },
    {
     "name": "stderr",
     "output_type": "stream",
     "text": [
      "WARNING:root:output_file: /var/folders/k_/plmjzvbd70z_9dbsrxw1gnvh0000gv/T/tmpHcQa4X.wav already exists and will be overwritten on build\n"
     ]
    },
    {
     "name": "stdout",
     "output_type": "stream",
     "text": [
      "\n",
      "/Datasets/MedleyDB/Audio/PortStWillow_StayEven/PortStWillow_StayEven_STEMS/PortStWillow_StayEven_STEM_03.wav"
     ]
    },
    {
     "name": "stderr",
     "output_type": "stream",
     "text": [
      "WARNING:root:output_file: /var/folders/k_/plmjzvbd70z_9dbsrxw1gnvh0000gv/T/tmpAd4CRv.wav already exists and will be overwritten on build\n"
     ]
    },
    {
     "name": "stdout",
     "output_type": "stream",
     "text": [
      "\n",
      "/Datasets/MedleyDB/Audio/PortStWillow_StayEven/PortStWillow_StayEven_STEMS/PortStWillow_StayEven_STEM_04.wav"
     ]
    },
    {
     "name": "stderr",
     "output_type": "stream",
     "text": [
      "WARNING:root:output_file: /var/folders/k_/plmjzvbd70z_9dbsrxw1gnvh0000gv/T/tmpzLUar3.wav already exists and will be overwritten on build\n"
     ]
    },
    {
     "name": "stdout",
     "output_type": "stream",
     "text": [
      "\n",
      "/Datasets/MedleyDB/Audio/SecretMountains_HighHorse/SecretMountains_HighHorse_STEMS/SecretMountains_HighHorse_STEM_04.wav"
     ]
    },
    {
     "name": "stderr",
     "output_type": "stream",
     "text": [
      "WARNING:root:output_file: /var/folders/k_/plmjzvbd70z_9dbsrxw1gnvh0000gv/T/tmpqwHXI3.wav already exists and will be overwritten on build\n"
     ]
    },
    {
     "name": "stdout",
     "output_type": "stream",
     "text": [
      "\n",
      "/Datasets/MedleyDB/Audio/Snowmine_Curfews/Snowmine_Curfews_STEMS/Snowmine_Curfews_STEM_05.wav"
     ]
    },
    {
     "name": "stderr",
     "output_type": "stream",
     "text": [
      "WARNING:root:output_file: /var/folders/k_/plmjzvbd70z_9dbsrxw1gnvh0000gv/T/tmpRt4lhY.wav already exists and will be overwritten on build\n"
     ]
    },
    {
     "name": "stdout",
     "output_type": "stream",
     "text": [
      "\n",
      "/Datasets/MedleyDB/Audio/StevenClark_Bounty/StevenClark_Bounty_STEMS/StevenClark_Bounty_STEM_05.wav"
     ]
    },
    {
     "name": "stderr",
     "output_type": "stream",
     "text": [
      "WARNING:root:output_file: /var/folders/k_/plmjzvbd70z_9dbsrxw1gnvh0000gv/T/tmphM2ZJd.wav already exists and will be overwritten on build\n"
     ]
    },
    {
     "name": "stdout",
     "output_type": "stream",
     "text": [
      "\n",
      "/Datasets/MedleyDB/Audio/StrandOfOaks_Spacestation/StrandOfOaks_Spacestation_STEMS/StrandOfOaks_Spacestation_STEM_03.wav"
     ]
    },
    {
     "name": "stderr",
     "output_type": "stream",
     "text": [
      "WARNING:root:output_file: /var/folders/k_/plmjzvbd70z_9dbsrxw1gnvh0000gv/T/tmpRodFfE.wav already exists and will be overwritten on build\n"
     ]
    },
    {
     "name": "stdout",
     "output_type": "stream",
     "text": [
      "\n",
      "/Datasets/MedleyDB/Audio/SweetLights_YouLetMeDown/SweetLights_YouLetMeDown_STEMS/SweetLights_YouLetMeDown_STEM_06.wav"
     ]
    },
    {
     "name": "stderr",
     "output_type": "stream",
     "text": [
      "WARNING:root:output_file: /var/folders/k_/plmjzvbd70z_9dbsrxw1gnvh0000gv/T/tmpEQNGjd.wav already exists and will be overwritten on build\n"
     ]
    },
    {
     "name": "stdout",
     "output_type": "stream",
     "text": [
      "\n",
      "/Datasets/MedleyDB/Audio/TablaBreakbeatScience_CaptainSky/TablaBreakbeatScience_CaptainSky_STEMS/TablaBreakbeatScience_CaptainSky_STEM_01.wav"
     ]
    },
    {
     "name": "stderr",
     "output_type": "stream",
     "text": [
      "WARNING:root:output_file: /var/folders/k_/plmjzvbd70z_9dbsrxw1gnvh0000gv/T/tmpropptS.wav already exists and will be overwritten on build\n"
     ]
    },
    {
     "name": "stdout",
     "output_type": "stream",
     "text": [
      "\n",
      "/Datasets/MedleyDB/Audio/TablaBreakbeatScience_MiloVsMongo/TablaBreakbeatScience_MiloVsMongo_STEMS/TablaBreakbeatScience_MiloVsMongo_STEM_01.wav"
     ]
    },
    {
     "name": "stderr",
     "output_type": "stream",
     "text": [
      "WARNING:root:output_file: /var/folders/k_/plmjzvbd70z_9dbsrxw1gnvh0000gv/T/tmp8VCNLu.wav already exists and will be overwritten on build\n"
     ]
    },
    {
     "name": "stdout",
     "output_type": "stream",
     "text": [
      "\n",
      "/Datasets/MedleyDB/Audio/TheDistricts_Vermont/TheDistricts_Vermont_STEMS/TheDistricts_Vermont_STEM_03.wav"
     ]
    },
    {
     "name": "stderr",
     "output_type": "stream",
     "text": [
      "WARNING:root:output_file: /var/folders/k_/plmjzvbd70z_9dbsrxw1gnvh0000gv/T/tmpKZt0Nk.wav already exists and will be overwritten on build\n"
     ]
    },
    {
     "name": "stdout",
     "output_type": "stream",
     "text": [
      "\n",
      "/Datasets/MedleyDB/Audio/TheScarletBrand_LesFleursDuMal/TheScarletBrand_LesFleursDuMal_STEMS/TheScarletBrand_LesFleursDuMal_STEM_01.wav"
     ]
    },
    {
     "name": "stderr",
     "output_type": "stream",
     "text": [
      "WARNING:root:output_file: /var/folders/k_/plmjzvbd70z_9dbsrxw1gnvh0000gv/T/tmpCx1yJ4.wav already exists and will be overwritten on build\n"
     ]
    },
    {
     "name": "stdout",
     "output_type": "stream",
     "text": [
      "\n",
      "/Datasets/MedleyDB/Audio/TheSoSoGlos_Emergency/TheSoSoGlos_Emergency_STEMS/TheSoSoGlos_Emergency_STEM_03.wav"
     ]
    },
    {
     "name": "stderr",
     "output_type": "stream",
     "text": [
      "WARNING:root:output_file: /var/folders/k_/plmjzvbd70z_9dbsrxw1gnvh0000gv/T/tmpxXfQSa.wav already exists and will be overwritten on build\n"
     ]
    },
    {
     "name": "stdout",
     "output_type": "stream",
     "text": [
      "\n"
     ]
    },
    {
     "name": "stderr",
     "output_type": "stream",
     "text": [
      "WARNING:root:output_file: /var/folders/k_/plmjzvbd70z_9dbsrxw1gnvh0000gv/T/tmptA6WPu.wav already exists and will be overwritten on build\n"
     ]
    },
    {
     "name": "stdout",
     "output_type": "stream",
     "text": [
      "\n",
      "piccolo\n",
      "4\n",
      "/Datasets/MedleyDB/Audio/MatthewEntwistle_TheArch/MatthewEntwistle_TheArch_STEMS/MatthewEntwistle_TheArch_STEM_11.wav\n",
      "/Datasets/MedleyDB/Audio/MusicDelta_GriegTrolltog/MusicDelta_GriegTrolltog_STEMS/MusicDelta_GriegTrolltog_STEM_07.wav"
     ]
    },
    {
     "name": "stderr",
     "output_type": "stream",
     "text": [
      "WARNING:root:output_file: /var/folders/k_/plmjzvbd70z_9dbsrxw1gnvh0000gv/T/tmp5MNE7_.wav already exists and will be overwritten on build\n"
     ]
    },
    {
     "name": "stdout",
     "output_type": "stream",
     "text": [
      "\n",
      "/Datasets/MedleyDB/Audio/MusicDelta_GriegTrolltog/MusicDelta_GriegTrolltog_STEMS/MusicDelta_GriegTrolltog_STEM_08.wav"
     ]
    },
    {
     "name": "stderr",
     "output_type": "stream",
     "text": [
      "WARNING:root:output_file: /var/folders/k_/plmjzvbd70z_9dbsrxw1gnvh0000gv/T/tmpXsUViZ.wav already exists and will be overwritten on build\n"
     ]
    },
    {
     "name": "stdout",
     "output_type": "stream",
     "text": [
      "\n",
      "/Datasets/MedleyDB/Audio/MusicDelta_InTheHalloftheMountainKing/MusicDelta_InTheHalloftheMountainKing_STEMS/MusicDelta_InTheHalloftheMountainKing_STEM_06.wav"
     ]
    },
    {
     "name": "stderr",
     "output_type": "stream",
     "text": [
      "WARNING:root:output_file: /var/folders/k_/plmjzvbd70z_9dbsrxw1gnvh0000gv/T/tmpaQjEXT.wav already exists and will be overwritten on build\n"
     ]
    },
    {
     "name": "stdout",
     "output_type": "stream",
     "text": [
      "\n"
     ]
    },
    {
     "name": "stderr",
     "output_type": "stream",
     "text": [
      "WARNING:root:output_file: /var/folders/k_/plmjzvbd70z_9dbsrxw1gnvh0000gv/T/tmpQPW6wE.wav already exists and will be overwritten on build\n"
     ]
    },
    {
     "name": "stdout",
     "output_type": "stream",
     "text": [
      "\n",
      "baritone saxophone\n",
      "1\n",
      "/Datasets/MedleyDB/Audio/MusicDelta_CoolJazz/MusicDelta_CoolJazz_STEMS/MusicDelta_CoolJazz_STEM_04.wav\n"
     ]
    },
    {
     "name": "stderr",
     "output_type": "stream",
     "text": [
      "WARNING:root:output_file: /var/folders/k_/plmjzvbd70z_9dbsrxw1gnvh0000gv/T/tmpfLtMbN.wav already exists and will be overwritten on build\n"
     ]
    },
    {
     "name": "stdout",
     "output_type": "stream",
     "text": [
      "\n",
      "bongo\n",
      "1\n",
      "/Datasets/MedleyDB/Audio/MatthewEntwistle_AnEveningWithOliver/MatthewEntwistle_AnEveningWithOliver_STEMS/MatthewEntwistle_AnEveningWithOliver_STEM_05.wav\n"
     ]
    },
    {
     "name": "stderr",
     "output_type": "stream",
     "text": [
      "WARNING:root:output_file: /var/folders/k_/plmjzvbd70z_9dbsrxw1gnvh0000gv/T/tmp7gLE2j.wav already exists and will be overwritten on build\n"
     ]
    },
    {
     "name": "stdout",
     "output_type": "stream",
     "text": [
      "\n",
      "bamboo flute\n",
      "1\n",
      "/Datasets/MedleyDB/Audio/MatthewEntwistle_TheArch/MatthewEntwistle_TheArch_STEMS/MatthewEntwistle_TheArch_STEM_10.wav\n"
     ]
    },
    {
     "name": "stderr",
     "output_type": "stream",
     "text": [
      "WARNING:root:output_file: /var/folders/k_/plmjzvbd70z_9dbsrxw1gnvh0000gv/T/tmpEIHQke.wav already exists and will be overwritten on build\n"
     ]
    },
    {
     "name": "stdout",
     "output_type": "stream",
     "text": [
      "\n",
      "oud\n",
      "2\n",
      "/Datasets/MedleyDB/Audio/KarimDouaidy_Hopscotch/KarimDouaidy_Hopscotch_STEMS/KarimDouaidy_Hopscotch_STEM_07.wav\n",
      "/Datasets/MedleyDB/Audio/KarimDouaidy_Yatora/KarimDouaidy_Yatora_STEMS/KarimDouaidy_Yatora_STEM_03.wav"
     ]
    },
    {
     "name": "stderr",
     "output_type": "stream",
     "text": [
      "WARNING:root:output_file: /var/folders/k_/plmjzvbd70z_9dbsrxw1gnvh0000gv/T/tmpXDEmKO.wav already exists and will be overwritten on build\n"
     ]
    },
    {
     "name": "stdout",
     "output_type": "stream",
     "text": [
      "\n"
     ]
    },
    {
     "name": "stderr",
     "output_type": "stream",
     "text": [
      "WARNING:root:output_file: /var/folders/k_/plmjzvbd70z_9dbsrxw1gnvh0000gv/T/tmpLFe3cf.wav already exists and will be overwritten on build\n"
     ]
    },
    {
     "name": "stdout",
     "output_type": "stream",
     "text": [
      "\n",
      "tenor saxophone\n",
      "2\n",
      "/Datasets/MedleyDB/Audio/MusicDelta_BebopJazz/MusicDelta_BebopJazz_STEMS/MusicDelta_BebopJazz_STEM_04.wav\n",
      "/Datasets/MedleyDB/Audio/MusicDelta_ModalJazz/MusicDelta_ModalJazz_STEMS/MusicDelta_ModalJazz_STEM_04.wav"
     ]
    },
    {
     "name": "stderr",
     "output_type": "stream",
     "text": [
      "WARNING:root:output_file: /var/folders/k_/plmjzvbd70z_9dbsrxw1gnvh0000gv/T/tmpqBIY0r.wav already exists and will be overwritten on build\n"
     ]
    },
    {
     "name": "stdout",
     "output_type": "stream",
     "text": [
      "\n"
     ]
    },
    {
     "name": "stderr",
     "output_type": "stream",
     "text": [
      "WARNING:root:output_file: /var/folders/k_/plmjzvbd70z_9dbsrxw1gnvh0000gv/T/tmpeSsGCe.wav already exists and will be overwritten on build\n"
     ]
    },
    {
     "name": "stdout",
     "output_type": "stream",
     "text": [
      "\n",
      "claps\n",
      "5\n",
      "/Datasets/MedleyDB/Audio/InvisibleFamiliars_DisturbingWildlife/InvisibleFamiliars_DisturbingWildlife_STEMS/InvisibleFamiliars_DisturbingWildlife_STEM_02.wav\n",
      "/Datasets/MedleyDB/Audio/KarimDouaidy_Hopscotch/KarimDouaidy_Hopscotch_STEMS/KarimDouaidy_Hopscotch_STEM_03.wav"
     ]
    },
    {
     "name": "stderr",
     "output_type": "stream",
     "text": [
      "WARNING:root:output_file: /var/folders/k_/plmjzvbd70z_9dbsrxw1gnvh0000gv/T/tmp_evtNA.wav already exists and will be overwritten on build\n"
     ]
    },
    {
     "name": "stdout",
     "output_type": "stream",
     "text": [
      "\n",
      "/Datasets/MedleyDB/Audio/Lushlife_ToynbeeSuite/Lushlife_ToynbeeSuite_STEMS/Lushlife_ToynbeeSuite_STEM_03.wav"
     ]
    },
    {
     "name": "stderr",
     "output_type": "stream",
     "text": [
      "WARNING:root:output_file: /var/folders/k_/plmjzvbd70z_9dbsrxw1gnvh0000gv/T/tmpXSSyvs.wav already exists and will be overwritten on build\n"
     ]
    },
    {
     "name": "stdout",
     "output_type": "stream",
     "text": [
      "\n",
      "/Datasets/MedleyDB/Audio/MusicDelta_Gospel/MusicDelta_Gospel_STEMS/MusicDelta_Gospel_STEM_05.wav"
     ]
    },
    {
     "name": "stderr",
     "output_type": "stream",
     "text": [
      "WARNING:root:output_file: /var/folders/k_/plmjzvbd70z_9dbsrxw1gnvh0000gv/T/tmpzjNIjI.wav already exists and will be overwritten on build\n"
     ]
    },
    {
     "name": "stdout",
     "output_type": "stream",
     "text": [
      "\n",
      "/Datasets/MedleyDB/Audio/SweetLights_YouLetMeDown/SweetLights_YouLetMeDown_STEMS/SweetLights_YouLetMeDown_STEM_05.wav"
     ]
    },
    {
     "name": "stderr",
     "output_type": "stream",
     "text": [
      "WARNING:root:output_file: /var/folders/k_/plmjzvbd70z_9dbsrxw1gnvh0000gv/T/tmpmhY8tN.wav already exists and will be overwritten on build\n"
     ]
    },
    {
     "name": "stdout",
     "output_type": "stream",
     "text": [
      "\n"
     ]
    },
    {
     "name": "stderr",
     "output_type": "stream",
     "text": [
      "WARNING:root:output_file: /var/folders/k_/plmjzvbd70z_9dbsrxw1gnvh0000gv/T/tmp8eQHAi.wav already exists and will be overwritten on build\n"
     ]
    },
    {
     "name": "stdout",
     "output_type": "stream",
     "text": [
      "\n",
      "electric bass\n",
      "58\n",
      "/Datasets/MedleyDB/Audio/AClassicEducation_NightOwl/AClassicEducation_NightOwl_STEMS/AClassicEducation_NightOwl_STEM_01.wav\n",
      "/Datasets/MedleyDB/Audio/AimeeNorwich_Child/AimeeNorwich_Child_STEMS/AimeeNorwich_Child_STEM_02.wav"
     ]
    },
    {
     "name": "stderr",
     "output_type": "stream",
     "text": [
      "WARNING:root:output_file: /var/folders/k_/plmjzvbd70z_9dbsrxw1gnvh0000gv/T/tmpecm4tI.wav already exists and will be overwritten on build\n"
     ]
    },
    {
     "name": "stdout",
     "output_type": "stream",
     "text": [
      "\n",
      "/Datasets/MedleyDB/Audio/AimeeNorwich_Flying/AimeeNorwich_Flying_STEMS/AimeeNorwich_Flying_STEM_03.wav"
     ]
    },
    {
     "name": "stderr",
     "output_type": "stream",
     "text": [
      "WARNING:root:output_file: /var/folders/k_/plmjzvbd70z_9dbsrxw1gnvh0000gv/T/tmp5r_fct.wav already exists and will be overwritten on build\n"
     ]
    },
    {
     "name": "stdout",
     "output_type": "stream",
     "text": [
      "\n",
      "/Datasets/MedleyDB/Audio/AlexanderRoss_GoodbyeBolero/AlexanderRoss_GoodbyeBolero_STEMS/AlexanderRoss_GoodbyeBolero_STEM_04.wav"
     ]
    },
    {
     "name": "stderr",
     "output_type": "stream",
     "text": [
      "WARNING:root:output_file: /var/folders/k_/plmjzvbd70z_9dbsrxw1gnvh0000gv/T/tmpb_vdTa.wav already exists and will be overwritten on build\n"
     ]
    },
    {
     "name": "stdout",
     "output_type": "stream",
     "text": [
      "\n",
      "/Datasets/MedleyDB/Audio/AlexanderRoss_VelvetCurtain/AlexanderRoss_VelvetCurtain_STEMS/AlexanderRoss_VelvetCurtain_STEM_04.wav"
     ]
    },
    {
     "name": "stderr",
     "output_type": "stream",
     "text": [
      "WARNING:root:output_file: /var/folders/k_/plmjzvbd70z_9dbsrxw1gnvh0000gv/T/tmpS3hzvT.wav already exists and will be overwritten on build\n"
     ]
    },
    {
     "name": "stdout",
     "output_type": "stream",
     "text": [
      "\n",
      "/Datasets/MedleyDB/Audio/Auctioneer_OurFutureFaces/Auctioneer_OurFutureFaces_STEMS/Auctioneer_OurFutureFaces_STEM_02.wav"
     ]
    },
    {
     "name": "stderr",
     "output_type": "stream",
     "text": [
      "WARNING:root:output_file: /var/folders/k_/plmjzvbd70z_9dbsrxw1gnvh0000gv/T/tmpSAcF6e.wav already exists and will be overwritten on build\n"
     ]
    },
    {
     "name": "stdout",
     "output_type": "stream",
     "text": [
      "\n",
      "/Datasets/MedleyDB/Audio/AvaLuna_Waterduct/AvaLuna_Waterduct_STEMS/AvaLuna_Waterduct_STEM_01.wav"
     ]
    },
    {
     "name": "stderr",
     "output_type": "stream",
     "text": [
      "WARNING:root:output_file: /var/folders/k_/plmjzvbd70z_9dbsrxw1gnvh0000gv/T/tmpRtbRio.wav already exists and will be overwritten on build\n"
     ]
    },
    {
     "name": "stdout",
     "output_type": "stream",
     "text": [
      "\n",
      "/Datasets/MedleyDB/Audio/BigTroubles_Phantom/BigTroubles_Phantom_STEMS/BigTroubles_Phantom_STEM_01.wav"
     ]
    },
    {
     "name": "stderr",
     "output_type": "stream",
     "text": [
      "WARNING:root:output_file: /var/folders/k_/plmjzvbd70z_9dbsrxw1gnvh0000gv/T/tmpPPOSrm.wav already exists and will be overwritten on build\n"
     ]
    },
    {
     "name": "stdout",
     "output_type": "stream",
     "text": [
      "\n",
      "/Datasets/MedleyDB/Audio/CelestialShore_DieForUs/CelestialShore_DieForUs_STEMS/CelestialShore_DieForUs_STEM_03.wav"
     ]
    },
    {
     "name": "stderr",
     "output_type": "stream",
     "text": [
      "WARNING:root:output_file: /var/folders/k_/plmjzvbd70z_9dbsrxw1gnvh0000gv/T/tmpzLBYkh.wav already exists and will be overwritten on build\n"
     ]
    },
    {
     "name": "stdout",
     "output_type": "stream",
     "text": [
      "\n",
      "/Datasets/MedleyDB/Audio/ClaraBerryAndWooldog_AirTraffic/ClaraBerryAndWooldog_AirTraffic_STEMS/ClaraBerryAndWooldog_AirTraffic_STEM_03.wav"
     ]
    },
    {
     "name": "stderr",
     "output_type": "stream",
     "text": [
      "WARNING:root:output_file: /var/folders/k_/plmjzvbd70z_9dbsrxw1gnvh0000gv/T/tmpax_hrN.wav already exists and will be overwritten on build\n"
     ]
    },
    {
     "name": "stdout",
     "output_type": "stream",
     "text": [
      "\n",
      "/Datasets/MedleyDB/Audio/ClaraBerryAndWooldog_Stella/ClaraBerryAndWooldog_Stella_STEMS/ClaraBerryAndWooldog_Stella_STEM_04.wav"
     ]
    },
    {
     "name": "stderr",
     "output_type": "stream",
     "text": [
      "WARNING:root:output_file: /var/folders/k_/plmjzvbd70z_9dbsrxw1gnvh0000gv/T/tmpmrfwIT.wav already exists and will be overwritten on build\n"
     ]
    },
    {
     "name": "stdout",
     "output_type": "stream",
     "text": [
      "\n",
      "/Datasets/MedleyDB/Audio/ClaraBerryAndWooldog_WaltzForMyVictims/ClaraBerryAndWooldog_WaltzForMyVictims_STEMS/ClaraBerryAndWooldog_WaltzForMyVictims_STEM_02.wav"
     ]
    },
    {
     "name": "stderr",
     "output_type": "stream",
     "text": [
      "WARNING:root:output_file: /var/folders/k_/plmjzvbd70z_9dbsrxw1gnvh0000gv/T/tmpRk8OLE.wav already exists and will be overwritten on build\n"
     ]
    },
    {
     "name": "stdout",
     "output_type": "stream",
     "text": [
      "\n",
      "/Datasets/MedleyDB/Audio/Creepoid_OldTree/Creepoid_OldTree_STEMS/Creepoid_OldTree_STEM_02.wav"
     ]
    },
    {
     "name": "stderr",
     "output_type": "stream",
     "text": [
      "WARNING:root:output_file: /var/folders/k_/plmjzvbd70z_9dbsrxw1gnvh0000gv/T/tmpQ6vXIM.wav already exists and will be overwritten on build\n"
     ]
    },
    {
     "name": "stdout",
     "output_type": "stream",
     "text": [
      "\n",
      "/Datasets/MedleyDB/Audio/DreamersOfTheGhetto_HeavyLove/DreamersOfTheGhetto_HeavyLove_STEMS/DreamersOfTheGhetto_HeavyLove_STEM_01.wav"
     ]
    },
    {
     "name": "stderr",
     "output_type": "stream",
     "text": [
      "WARNING:root:output_file: /var/folders/k_/plmjzvbd70z_9dbsrxw1gnvh0000gv/T/tmpl8m0Od.wav already exists and will be overwritten on build\n"
     ]
    },
    {
     "name": "stdout",
     "output_type": "stream",
     "text": [
      "\n",
      "/Datasets/MedleyDB/Audio/EthanHein_BluesForNofi/EthanHein_BluesForNofi_STEMS/EthanHein_BluesForNofi_STEM_02.wav"
     ]
    },
    {
     "name": "stderr",
     "output_type": "stream",
     "text": [
      "WARNING:root:output_file: /var/folders/k_/plmjzvbd70z_9dbsrxw1gnvh0000gv/T/tmpgFLNen.wav already exists and will be overwritten on build\n"
     ]
    },
    {
     "name": "stdout",
     "output_type": "stream",
     "text": [
      "\n",
      "/Datasets/MedleyDB/Audio/FacesOnFilm_WaitingForGa/FacesOnFilm_WaitingForGa_STEMS/FacesOnFilm_WaitingForGa_STEM_02.wav"
     ]
    },
    {
     "name": "stderr",
     "output_type": "stream",
     "text": [
      "WARNING:root:output_file: /var/folders/k_/plmjzvbd70z_9dbsrxw1gnvh0000gv/T/tmpkr9cVI.wav already exists and will be overwritten on build\n"
     ]
    },
    {
     "name": "stdout",
     "output_type": "stream",
     "text": [
      "\n",
      "/Datasets/MedleyDB/Audio/Grants_PunchDrunk/Grants_PunchDrunk_STEMS/Grants_PunchDrunk_STEM_02.wav"
     ]
    },
    {
     "name": "stderr",
     "output_type": "stream",
     "text": [
      "WARNING:root:output_file: /var/folders/k_/plmjzvbd70z_9dbsrxw1gnvh0000gv/T/tmprrIMlN.wav already exists and will be overwritten on build\n"
     ]
    },
    {
     "name": "stdout",
     "output_type": "stream",
     "text": [
      "\n",
      "/Datasets/MedleyDB/Audio/HezekiahJones_BorrowedHeart/HezekiahJones_BorrowedHeart_STEMS/HezekiahJones_BorrowedHeart_STEM_04.wav"
     ]
    },
    {
     "name": "stderr",
     "output_type": "stream",
     "text": [
      "WARNING:root:output_file: /var/folders/k_/plmjzvbd70z_9dbsrxw1gnvh0000gv/T/tmp4eousZ.wav already exists and will be overwritten on build\n"
     ]
    },
    {
     "name": "stdout",
     "output_type": "stream",
     "text": [
      "\n",
      "/Datasets/MedleyDB/Audio/HopAlong_SisterCities/HopAlong_SisterCities_STEMS/HopAlong_SisterCities_STEM_02.wav"
     ]
    },
    {
     "name": "stderr",
     "output_type": "stream",
     "text": [
      "WARNING:root:output_file: /var/folders/k_/plmjzvbd70z_9dbsrxw1gnvh0000gv/T/tmp4ICDgC.wav already exists and will be overwritten on build\n"
     ]
    },
    {
     "name": "stdout",
     "output_type": "stream",
     "text": [
      "\n",
      "/Datasets/MedleyDB/Audio/InvisibleFamiliars_DisturbingWildlife/InvisibleFamiliars_DisturbingWildlife_STEMS/InvisibleFamiliars_DisturbingWildlife_STEM_01.wav"
     ]
    },
    {
     "name": "stderr",
     "output_type": "stream",
     "text": [
      "WARNING:root:output_file: /var/folders/k_/plmjzvbd70z_9dbsrxw1gnvh0000gv/T/tmpe4Pbid.wav already exists and will be overwritten on build\n"
     ]
    },
    {
     "name": "stdout",
     "output_type": "stream",
     "text": [
      "\n",
      "/Datasets/MedleyDB/Audio/KarimDouaidy_Hopscotch/KarimDouaidy_Hopscotch_STEMS/KarimDouaidy_Hopscotch_STEM_01.wav"
     ]
    },
    {
     "name": "stderr",
     "output_type": "stream",
     "text": [
      "WARNING:root:output_file: /var/folders/k_/plmjzvbd70z_9dbsrxw1gnvh0000gv/T/tmppK_Dzn.wav already exists and will be overwritten on build\n"
     ]
    },
    {
     "name": "stdout",
     "output_type": "stream",
     "text": [
      "\n",
      "/Datasets/MedleyDB/Audio/KarimDouaidy_Yatora/KarimDouaidy_Yatora_STEMS/KarimDouaidy_Yatora_STEM_04.wav"
     ]
    },
    {
     "name": "stderr",
     "output_type": "stream",
     "text": [
      "WARNING:root:output_file: /var/folders/k_/plmjzvbd70z_9dbsrxw1gnvh0000gv/T/tmplbnMuZ.wav already exists and will be overwritten on build\n"
     ]
    },
    {
     "name": "stdout",
     "output_type": "stream",
     "text": [
      "\n",
      "/Datasets/MedleyDB/Audio/Lushlife_ToynbeeSuite/Lushlife_ToynbeeSuite_STEMS/Lushlife_ToynbeeSuite_STEM_08.wav"
     ]
    },
    {
     "name": "stderr",
     "output_type": "stream",
     "text": [
      "WARNING:root:output_file: /var/folders/k_/plmjzvbd70z_9dbsrxw1gnvh0000gv/T/tmprNp4hc.wav already exists and will be overwritten on build\n"
     ]
    },
    {
     "name": "stdout",
     "output_type": "stream",
     "text": [
      "\n",
      "/Datasets/MedleyDB/Audio/Meaxic_TakeAStep/Meaxic_TakeAStep_STEMS/Meaxic_TakeAStep_STEM_01.wav"
     ]
    },
    {
     "name": "stderr",
     "output_type": "stream",
     "text": [
      "WARNING:root:output_file: /var/folders/k_/plmjzvbd70z_9dbsrxw1gnvh0000gv/T/tmpgWx735.wav already exists and will be overwritten on build\n"
     ]
    },
    {
     "name": "stdout",
     "output_type": "stream",
     "text": [
      "\n",
      "/Datasets/MedleyDB/Audio/Meaxic_YouListen/Meaxic_YouListen_STEMS/Meaxic_YouListen_STEM_04.wav"
     ]
    },
    {
     "name": "stderr",
     "output_type": "stream",
     "text": [
      "WARNING:root:output_file: /var/folders/k_/plmjzvbd70z_9dbsrxw1gnvh0000gv/T/tmpQ1GVgr.wav already exists and will be overwritten on build\n"
     ]
    },
    {
     "name": "stdout",
     "output_type": "stream",
     "text": [
      "\n",
      "/Datasets/MedleyDB/Audio/MusicDelta_80sRock/MusicDelta_80sRock_STEMS/MusicDelta_80sRock_STEM_02.wav"
     ]
    },
    {
     "name": "stderr",
     "output_type": "stream",
     "text": [
      "WARNING:root:output_file: /var/folders/k_/plmjzvbd70z_9dbsrxw1gnvh0000gv/T/tmpXwTffv.wav already exists and will be overwritten on build\n"
     ]
    },
    {
     "name": "stdout",
     "output_type": "stream",
     "text": [
      "\n",
      "/Datasets/MedleyDB/Audio/MusicDelta_Beatles/MusicDelta_Beatles_STEMS/MusicDelta_Beatles_STEM_02.wav"
     ]
    },
    {
     "name": "stderr",
     "output_type": "stream",
     "text": [
      "WARNING:root:output_file: /var/folders/k_/plmjzvbd70z_9dbsrxw1gnvh0000gv/T/tmpIJqiCP.wav already exists and will be overwritten on build\n"
     ]
    },
    {
     "name": "stdout",
     "output_type": "stream",
     "text": [
      "\n",
      "/Datasets/MedleyDB/Audio/MusicDelta_Britpop/MusicDelta_Britpop_STEMS/MusicDelta_Britpop_STEM_02.wav"
     ]
    },
    {
     "name": "stderr",
     "output_type": "stream",
     "text": [
      "WARNING:root:output_file: /var/folders/k_/plmjzvbd70z_9dbsrxw1gnvh0000gv/T/tmpqEBwKY.wav already exists and will be overwritten on build\n"
     ]
    },
    {
     "name": "stdout",
     "output_type": "stream",
     "text": [
      "\n",
      "/Datasets/MedleyDB/Audio/MusicDelta_Country1/MusicDelta_Country1_STEMS/MusicDelta_Country1_STEM_02.wav"
     ]
    },
    {
     "name": "stderr",
     "output_type": "stream",
     "text": [
      "WARNING:root:output_file: /var/folders/k_/plmjzvbd70z_9dbsrxw1gnvh0000gv/T/tmp6Lqpyw.wav already exists and will be overwritten on build\n"
     ]
    },
    {
     "name": "stdout",
     "output_type": "stream",
     "text": [
      "\n",
      "/Datasets/MedleyDB/Audio/MusicDelta_Country2/MusicDelta_Country2_STEMS/MusicDelta_Country2_STEM_02.wav"
     ]
    },
    {
     "name": "stderr",
     "output_type": "stream",
     "text": [
      "WARNING:root:output_file: /var/folders/k_/plmjzvbd70z_9dbsrxw1gnvh0000gv/T/tmp0mZDll.wav already exists and will be overwritten on build\n"
     ]
    },
    {
     "name": "stdout",
     "output_type": "stream",
     "text": [
      "\n",
      "/Datasets/MedleyDB/Audio/MusicDelta_Disco/MusicDelta_Disco_STEMS/MusicDelta_Disco_STEM_02.wav"
     ]
    },
    {
     "name": "stderr",
     "output_type": "stream",
     "text": [
      "WARNING:root:output_file: /var/folders/k_/plmjzvbd70z_9dbsrxw1gnvh0000gv/T/tmphmMk2p.wav already exists and will be overwritten on build\n"
     ]
    },
    {
     "name": "stdout",
     "output_type": "stream",
     "text": [
      "\n",
      "/Datasets/MedleyDB/Audio/MusicDelta_FunkJazz/MusicDelta_FunkJazz_STEMS/MusicDelta_FunkJazz_STEM_02.wav"
     ]
    },
    {
     "name": "stderr",
     "output_type": "stream",
     "text": [
      "WARNING:root:output_file: /var/folders/k_/plmjzvbd70z_9dbsrxw1gnvh0000gv/T/tmp5Nk139.wav already exists and will be overwritten on build\n"
     ]
    },
    {
     "name": "stdout",
     "output_type": "stream",
     "text": [
      "\n",
      "/Datasets/MedleyDB/Audio/MusicDelta_FusionJazz/MusicDelta_FusionJazz_STEMS/MusicDelta_FusionJazz_STEM_02.wav"
     ]
    },
    {
     "name": "stderr",
     "output_type": "stream",
     "text": [
      "WARNING:root:output_file: /var/folders/k_/plmjzvbd70z_9dbsrxw1gnvh0000gv/T/tmpv8zSUa.wav already exists and will be overwritten on build\n"
     ]
    },
    {
     "name": "stdout",
     "output_type": "stream",
     "text": [
      "\n",
      "/Datasets/MedleyDB/Audio/MusicDelta_Gospel/MusicDelta_Gospel_STEMS/MusicDelta_Gospel_STEM_02.wav"
     ]
    },
    {
     "name": "stderr",
     "output_type": "stream",
     "text": [
      "WARNING:root:output_file: /var/folders/k_/plmjzvbd70z_9dbsrxw1gnvh0000gv/T/tmp6oN1tl.wav already exists and will be overwritten on build\n"
     ]
    },
    {
     "name": "stdout",
     "output_type": "stream",
     "text": [
      "\n",
      "/Datasets/MedleyDB/Audio/MusicDelta_Grunge/MusicDelta_Grunge_STEMS/MusicDelta_Grunge_STEM_02.wav"
     ]
    },
    {
     "name": "stderr",
     "output_type": "stream",
     "text": [
      "WARNING:root:output_file: /var/folders/k_/plmjzvbd70z_9dbsrxw1gnvh0000gv/T/tmpv6d2vK.wav already exists and will be overwritten on build\n"
     ]
    },
    {
     "name": "stdout",
     "output_type": "stream",
     "text": [
      "\n",
      "/Datasets/MedleyDB/Audio/MusicDelta_Hendrix/MusicDelta_Hendrix_STEMS/MusicDelta_Hendrix_STEM_02.wav"
     ]
    },
    {
     "name": "stderr",
     "output_type": "stream",
     "text": [
      "WARNING:root:output_file: /var/folders/k_/plmjzvbd70z_9dbsrxw1gnvh0000gv/T/tmp58kwWR.wav already exists and will be overwritten on build\n"
     ]
    },
    {
     "name": "stdout",
     "output_type": "stream",
     "text": [
      "\n",
      "/Datasets/MedleyDB/Audio/MusicDelta_LatinJazz/MusicDelta_LatinJazz_STEMS/MusicDelta_LatinJazz_STEM_01.wav"
     ]
    },
    {
     "name": "stderr",
     "output_type": "stream",
     "text": [
      "WARNING:root:output_file: /var/folders/k_/plmjzvbd70z_9dbsrxw1gnvh0000gv/T/tmpp3bxFl.wav already exists and will be overwritten on build\n"
     ]
    },
    {
     "name": "stdout",
     "output_type": "stream",
     "text": [
      "\n",
      "/Datasets/MedleyDB/Audio/MusicDelta_Punk/MusicDelta_Punk_STEMS/MusicDelta_Punk_STEM_02.wav"
     ]
    },
    {
     "name": "stderr",
     "output_type": "stream",
     "text": [
      "WARNING:root:output_file: /var/folders/k_/plmjzvbd70z_9dbsrxw1gnvh0000gv/T/tmpGwuftt.wav already exists and will be overwritten on build\n"
     ]
    },
    {
     "name": "stdout",
     "output_type": "stream",
     "text": [
      "\n",
      "/Datasets/MedleyDB/Audio/MusicDelta_Reggae/MusicDelta_Reggae_STEMS/MusicDelta_Reggae_STEM_02.wav"
     ]
    },
    {
     "name": "stderr",
     "output_type": "stream",
     "text": [
      "WARNING:root:output_file: /var/folders/k_/plmjzvbd70z_9dbsrxw1gnvh0000gv/T/tmpOeVXb5.wav already exists and will be overwritten on build\n"
     ]
    },
    {
     "name": "stdout",
     "output_type": "stream",
     "text": [
      "\n",
      "/Datasets/MedleyDB/Audio/MusicDelta_Rock/MusicDelta_Rock_STEMS/MusicDelta_Rock_STEM_02.wav"
     ]
    },
    {
     "name": "stderr",
     "output_type": "stream",
     "text": [
      "WARNING:root:output_file: /var/folders/k_/plmjzvbd70z_9dbsrxw1gnvh0000gv/T/tmp9P0c1r.wav already exists and will be overwritten on build\n"
     ]
    },
    {
     "name": "stdout",
     "output_type": "stream",
     "text": [
      "\n",
      "/Datasets/MedleyDB/Audio/MusicDelta_Rockabilly/MusicDelta_Rockabilly_STEMS/MusicDelta_Rockabilly_STEM_02.wav"
     ]
    },
    {
     "name": "stderr",
     "output_type": "stream",
     "text": [
      "WARNING:root:output_file: /var/folders/k_/plmjzvbd70z_9dbsrxw1gnvh0000gv/T/tmpTiO3K8.wav already exists and will be overwritten on build\n"
     ]
    },
    {
     "name": "stdout",
     "output_type": "stream",
     "text": [
      "\n",
      "/Datasets/MedleyDB/Audio/MusicDelta_Shadows/MusicDelta_Shadows_STEMS/MusicDelta_Shadows_STEM_01.wav"
     ]
    },
    {
     "name": "stderr",
     "output_type": "stream",
     "text": [
      "WARNING:root:output_file: /var/folders/k_/plmjzvbd70z_9dbsrxw1gnvh0000gv/T/tmpU5ctJf.wav already exists and will be overwritten on build\n"
     ]
    },
    {
     "name": "stdout",
     "output_type": "stream",
     "text": [
      "\n",
      "/Datasets/MedleyDB/Audio/MusicDelta_SpeedMetal/MusicDelta_SpeedMetal_STEMS/MusicDelta_SpeedMetal_STEM_02.wav"
     ]
    },
    {
     "name": "stderr",
     "output_type": "stream",
     "text": [
      "WARNING:root:output_file: /var/folders/k_/plmjzvbd70z_9dbsrxw1gnvh0000gv/T/tmpJVZQ5E.wav already exists and will be overwritten on build\n"
     ]
    },
    {
     "name": "stdout",
     "output_type": "stream",
     "text": [
      "\n",
      "/Datasets/MedleyDB/Audio/MusicDelta_Zeppelin/MusicDelta_Zeppelin_STEMS/MusicDelta_Zeppelin_STEM_01.wav"
     ]
    },
    {
     "name": "stderr",
     "output_type": "stream",
     "text": [
      "WARNING:root:output_file: /var/folders/k_/plmjzvbd70z_9dbsrxw1gnvh0000gv/T/tmpCdlNIE.wav already exists and will be overwritten on build\n"
     ]
    },
    {
     "name": "stdout",
     "output_type": "stream",
     "text": [
      "\n",
      "/Datasets/MedleyDB/Audio/NightPanther_Fire/NightPanther_Fire_STEMS/NightPanther_Fire_STEM_01.wav"
     ]
    },
    {
     "name": "stderr",
     "output_type": "stream",
     "text": [
      "WARNING:root:output_file: /var/folders/k_/plmjzvbd70z_9dbsrxw1gnvh0000gv/T/tmpva_uv6.wav already exists and will be overwritten on build\n"
     ]
    },
    {
     "name": "stdout",
     "output_type": "stream",
     "text": [
      "\n",
      "/Datasets/MedleyDB/Audio/PortStWillow_StayEven/PortStWillow_StayEven_STEMS/PortStWillow_StayEven_STEM_10.wav"
     ]
    },
    {
     "name": "stderr",
     "output_type": "stream",
     "text": [
      "WARNING:root:output_file: /var/folders/k_/plmjzvbd70z_9dbsrxw1gnvh0000gv/T/tmpJhlY03.wav already exists and will be overwritten on build\n"
     ]
    },
    {
     "name": "stdout",
     "output_type": "stream",
     "text": [
      "\n",
      "/Datasets/MedleyDB/Audio/SecretMountains_HighHorse/SecretMountains_HighHorse_STEMS/SecretMountains_HighHorse_STEM_01.wav"
     ]
    },
    {
     "name": "stderr",
     "output_type": "stream",
     "text": [
      "WARNING:root:output_file: /var/folders/k_/plmjzvbd70z_9dbsrxw1gnvh0000gv/T/tmpmgH1Nl.wav already exists and will be overwritten on build\n"
     ]
    },
    {
     "name": "stdout",
     "output_type": "stream",
     "text": [
      "\n",
      "/Datasets/MedleyDB/Audio/Snowmine_Curfews/Snowmine_Curfews_STEMS/Snowmine_Curfews_STEM_02.wav"
     ]
    },
    {
     "name": "stderr",
     "output_type": "stream",
     "text": [
      "WARNING:root:output_file: /var/folders/k_/plmjzvbd70z_9dbsrxw1gnvh0000gv/T/tmpBZOC2F.wav already exists and will be overwritten on build\n"
     ]
    },
    {
     "name": "stdout",
     "output_type": "stream",
     "text": [
      "\n",
      "/Datasets/MedleyDB/Audio/StevenClark_Bounty/StevenClark_Bounty_STEMS/StevenClark_Bounty_STEM_02.wav"
     ]
    },
    {
     "name": "stderr",
     "output_type": "stream",
     "text": [
      "WARNING:root:output_file: /var/folders/k_/plmjzvbd70z_9dbsrxw1gnvh0000gv/T/tmpQz1e1A.wav already exists and will be overwritten on build\n"
     ]
    },
    {
     "name": "stdout",
     "output_type": "stream",
     "text": [
      "\n",
      "/Datasets/MedleyDB/Audio/StrandOfOaks_Spacestation/StrandOfOaks_Spacestation_STEMS/StrandOfOaks_Spacestation_STEM_01.wav"
     ]
    },
    {
     "name": "stderr",
     "output_type": "stream",
     "text": [
      "WARNING:root:output_file: /var/folders/k_/plmjzvbd70z_9dbsrxw1gnvh0000gv/T/tmpNdR0X8.wav already exists and will be overwritten on build\n"
     ]
    },
    {
     "name": "stdout",
     "output_type": "stream",
     "text": [
      "\n",
      "/Datasets/MedleyDB/Audio/SweetLights_YouLetMeDown/SweetLights_YouLetMeDown_STEMS/SweetLights_YouLetMeDown_STEM_02.wav"
     ]
    },
    {
     "name": "stderr",
     "output_type": "stream",
     "text": [
      "WARNING:root:output_file: /var/folders/k_/plmjzvbd70z_9dbsrxw1gnvh0000gv/T/tmp3x43Pe.wav already exists and will be overwritten on build\n"
     ]
    },
    {
     "name": "stdout",
     "output_type": "stream",
     "text": [
      "\n",
      "/Datasets/MedleyDB/Audio/TablaBreakbeatScience_Animoog/TablaBreakbeatScience_Animoog_STEMS/TablaBreakbeatScience_Animoog_STEM_02.wav"
     ]
    },
    {
     "name": "stderr",
     "output_type": "stream",
     "text": [
      "WARNING:root:output_file: /var/folders/k_/plmjzvbd70z_9dbsrxw1gnvh0000gv/T/tmpExg3px.wav already exists and will be overwritten on build\n"
     ]
    },
    {
     "name": "stdout",
     "output_type": "stream",
     "text": [
      "\n",
      "/Datasets/MedleyDB/Audio/TablaBreakbeatScience_CaptainSky/TablaBreakbeatScience_CaptainSky_STEMS/TablaBreakbeatScience_CaptainSky_STEM_02.wav"
     ]
    },
    {
     "name": "stderr",
     "output_type": "stream",
     "text": [
      "WARNING:root:output_file: /var/folders/k_/plmjzvbd70z_9dbsrxw1gnvh0000gv/T/tmp_gHeZv.wav already exists and will be overwritten on build\n"
     ]
    },
    {
     "name": "stdout",
     "output_type": "stream",
     "text": [
      "\n",
      "/Datasets/MedleyDB/Audio/TablaBreakbeatScience_PhaseTransition/TablaBreakbeatScience_PhaseTransition_STEMS/TablaBreakbeatScience_PhaseTransition_STEM_03.wav"
     ]
    },
    {
     "name": "stderr",
     "output_type": "stream",
     "text": [
      "WARNING:root:output_file: /var/folders/k_/plmjzvbd70z_9dbsrxw1gnvh0000gv/T/tmpV54VKf.wav already exists and will be overwritten on build\n"
     ]
    },
    {
     "name": "stdout",
     "output_type": "stream",
     "text": [
      "\n",
      "/Datasets/MedleyDB/Audio/TablaBreakbeatScience_WhoIsIt/TablaBreakbeatScience_WhoIsIt_STEMS/TablaBreakbeatScience_WhoIsIt_STEM_03.wav"
     ]
    },
    {
     "name": "stderr",
     "output_type": "stream",
     "text": [
      "WARNING:root:output_file: /var/folders/k_/plmjzvbd70z_9dbsrxw1gnvh0000gv/T/tmpvTa4Mu.wav already exists and will be overwritten on build\n"
     ]
    },
    {
     "name": "stdout",
     "output_type": "stream",
     "text": [
      "\n",
      "/Datasets/MedleyDB/Audio/TheDistricts_Vermont/TheDistricts_Vermont_STEMS/TheDistricts_Vermont_STEM_01.wav"
     ]
    },
    {
     "name": "stderr",
     "output_type": "stream",
     "text": [
      "WARNING:root:output_file: /var/folders/k_/plmjzvbd70z_9dbsrxw1gnvh0000gv/T/tmpXsrmvG.wav already exists and will be overwritten on build\n"
     ]
    },
    {
     "name": "stdout",
     "output_type": "stream",
     "text": [
      "\n",
      "/Datasets/MedleyDB/Audio/TheScarletBrand_LesFleursDuMal/TheScarletBrand_LesFleursDuMal_STEMS/TheScarletBrand_LesFleursDuMal_STEM_02.wav"
     ]
    },
    {
     "name": "stderr",
     "output_type": "stream",
     "text": [
      "WARNING:root:output_file: /var/folders/k_/plmjzvbd70z_9dbsrxw1gnvh0000gv/T/tmpHJ4s_H.wav already exists and will be overwritten on build\n"
     ]
    },
    {
     "name": "stdout",
     "output_type": "stream",
     "text": [
      "\n",
      "/Datasets/MedleyDB/Audio/TheSoSoGlos_Emergency/TheSoSoGlos_Emergency_STEMS/TheSoSoGlos_Emergency_STEM_01.wav"
     ]
    },
    {
     "name": "stderr",
     "output_type": "stream",
     "text": [
      "WARNING:root:output_file: /var/folders/k_/plmjzvbd70z_9dbsrxw1gnvh0000gv/T/tmpB1UKXs.wav already exists and will be overwritten on build\n"
     ]
    },
    {
     "name": "stdout",
     "output_type": "stream",
     "text": [
      "\n"
     ]
    },
    {
     "name": "stderr",
     "output_type": "stream",
     "text": [
      "WARNING:root:output_file: /var/folders/k_/plmjzvbd70z_9dbsrxw1gnvh0000gv/T/tmpDAry14.wav already exists and will be overwritten on build\n"
     ]
    },
    {
     "name": "stdout",
     "output_type": "stream",
     "text": [
      "\n",
      "tack piano\n",
      "6\n",
      "/Datasets/MedleyDB/Audio/CelestialShore_DieForUs/CelestialShore_DieForUs_STEMS/CelestialShore_DieForUs_STEM_07.wav\n",
      "/Datasets/MedleyDB/Audio/HeladoNegro_MitadDelMundo/HeladoNegro_MitadDelMundo_STEMS/HeladoNegro_MitadDelMundo_STEM_10.wav"
     ]
    },
    {
     "name": "stderr",
     "output_type": "stream",
     "text": [
      "WARNING:root:output_file: /var/folders/k_/plmjzvbd70z_9dbsrxw1gnvh0000gv/T/tmpbHkCfb.wav already exists and will be overwritten on build\n"
     ]
    },
    {
     "name": "stdout",
     "output_type": "stream",
     "text": [
      "\n",
      "/Datasets/MedleyDB/Audio/InvisibleFamiliars_DisturbingWildlife/InvisibleFamiliars_DisturbingWildlife_STEMS/InvisibleFamiliars_DisturbingWildlife_STEM_10.wav"
     ]
    },
    {
     "name": "stderr",
     "output_type": "stream",
     "text": [
      "WARNING:root:output_file: /var/folders/k_/plmjzvbd70z_9dbsrxw1gnvh0000gv/T/tmpCXw97j.wav already exists and will be overwritten on build\n"
     ]
    },
    {
     "name": "stdout",
     "output_type": "stream",
     "text": [
      "\n",
      "/Datasets/MedleyDB/Audio/Snowmine_Curfews/Snowmine_Curfews_STEMS/Snowmine_Curfews_STEM_11.wav"
     ]
    },
    {
     "name": "stderr",
     "output_type": "stream",
     "text": [
      "WARNING:root:output_file: /var/folders/k_/plmjzvbd70z_9dbsrxw1gnvh0000gv/T/tmprxTuYL.wav already exists and will be overwritten on build\n"
     ]
    },
    {
     "name": "stdout",
     "output_type": "stream",
     "text": [
      "\n",
      "/Datasets/MedleyDB/Audio/StrandOfOaks_Spacestation/StrandOfOaks_Spacestation_STEMS/StrandOfOaks_Spacestation_STEM_08.wav"
     ]
    },
    {
     "name": "stderr",
     "output_type": "stream",
     "text": [
      "WARNING:root:output_file: /var/folders/k_/plmjzvbd70z_9dbsrxw1gnvh0000gv/T/tmp_NFyVa.wav already exists and will be overwritten on build\n"
     ]
    },
    {
     "name": "stdout",
     "output_type": "stream",
     "text": [
      "\n",
      "/Datasets/MedleyDB/Audio/SweetLights_YouLetMeDown/SweetLights_YouLetMeDown_STEMS/SweetLights_YouLetMeDown_STEM_11.wav"
     ]
    },
    {
     "name": "stderr",
     "output_type": "stream",
     "text": [
      "WARNING:root:output_file: /var/folders/k_/plmjzvbd70z_9dbsrxw1gnvh0000gv/T/tmpYN4GGJ.wav already exists and will be overwritten on build\n"
     ]
    },
    {
     "name": "stdout",
     "output_type": "stream",
     "text": [
      "\n"
     ]
    },
    {
     "name": "stderr",
     "output_type": "stream",
     "text": [
      "WARNING:root:output_file: /var/folders/k_/plmjzvbd70z_9dbsrxw1gnvh0000gv/T/tmpZ_IKTr.wav already exists and will be overwritten on build\n"
     ]
    },
    {
     "name": "stdout",
     "output_type": "stream",
     "text": [
      "\n",
      "yangqin\n",
      "6\n",
      "/Datasets/MedleyDB/Audio/MusicDelta_ChineseChaoZhou/MusicDelta_ChineseChaoZhou_STEMS/MusicDelta_ChineseChaoZhou_STEM_04.wav\n",
      "/Datasets/MedleyDB/Audio/MusicDelta_ChineseDrama/MusicDelta_ChineseDrama_STEMS/MusicDelta_ChineseDrama_STEM_04.wav"
     ]
    },
    {
     "name": "stderr",
     "output_type": "stream",
     "text": [
      "WARNING:root:output_file: /var/folders/k_/plmjzvbd70z_9dbsrxw1gnvh0000gv/T/tmpOyN9iS.wav already exists and will be overwritten on build\n"
     ]
    },
    {
     "name": "stdout",
     "output_type": "stream",
     "text": [
      "\n",
      "/Datasets/MedleyDB/Audio/MusicDelta_ChineseHenan/MusicDelta_ChineseHenan_STEMS/MusicDelta_ChineseHenan_STEM_05.wav"
     ]
    },
    {
     "name": "stderr",
     "output_type": "stream",
     "text": [
      "WARNING:root:output_file: /var/folders/k_/plmjzvbd70z_9dbsrxw1gnvh0000gv/T/tmp19vo2n.wav already exists and will be overwritten on build\n"
     ]
    },
    {
     "name": "stdout",
     "output_type": "stream",
     "text": [
      "\n",
      "/Datasets/MedleyDB/Audio/MusicDelta_ChineseJiangNan/MusicDelta_ChineseJiangNan_STEMS/MusicDelta_ChineseJiangNan_STEM_04.wav"
     ]
    },
    {
     "name": "stderr",
     "output_type": "stream",
     "text": [
      "WARNING:root:output_file: /var/folders/k_/plmjzvbd70z_9dbsrxw1gnvh0000gv/T/tmpkzQumk.wav already exists and will be overwritten on build\n"
     ]
    },
    {
     "name": "stdout",
     "output_type": "stream",
     "text": [
      "\n",
      "/Datasets/MedleyDB/Audio/MusicDelta_ChineseXinJing/MusicDelta_ChineseXinJing_STEMS/MusicDelta_ChineseXinJing_STEM_04.wav"
     ]
    },
    {
     "name": "stderr",
     "output_type": "stream",
     "text": [
      "WARNING:root:output_file: /var/folders/k_/plmjzvbd70z_9dbsrxw1gnvh0000gv/T/tmp5ShAHL.wav already exists and will be overwritten on build\n"
     ]
    },
    {
     "name": "stdout",
     "output_type": "stream",
     "text": [
      "\n",
      "/Datasets/MedleyDB/Audio/MusicDelta_ChineseYaoZu/MusicDelta_ChineseYaoZu_STEMS/MusicDelta_ChineseYaoZu_STEM_05.wav"
     ]
    },
    {
     "name": "stderr",
     "output_type": "stream",
     "text": [
      "WARNING:root:output_file: /var/folders/k_/plmjzvbd70z_9dbsrxw1gnvh0000gv/T/tmp88k6Z5.wav already exists and will be overwritten on build\n"
     ]
    },
    {
     "name": "stdout",
     "output_type": "stream",
     "text": [
      "\n"
     ]
    },
    {
     "name": "stderr",
     "output_type": "stream",
     "text": [
      "WARNING:root:output_file: /var/folders/k_/plmjzvbd70z_9dbsrxw1gnvh0000gv/T/tmp_p04Cw.wav already exists and will be overwritten on build\n"
     ]
    },
    {
     "name": "stdout",
     "output_type": "stream",
     "text": [
      "\n",
      "trombone\n",
      "3\n",
      "/Datasets/MedleyDB/Audio/AimeeNorwich_Flying/AimeeNorwich_Flying_STEMS/AimeeNorwich_Flying_STEM_13.wav\n",
      "/Datasets/MedleyDB/Audio/AimeeNorwich_Flying/AimeeNorwich_Flying_STEMS/AimeeNorwich_Flying_STEM_14.wav"
     ]
    },
    {
     "name": "stderr",
     "output_type": "stream",
     "text": [
      "WARNING:root:output_file: /var/folders/k_/plmjzvbd70z_9dbsrxw1gnvh0000gv/T/tmpbxUXkJ.wav already exists and will be overwritten on build\n"
     ]
    },
    {
     "name": "stdout",
     "output_type": "stream",
     "text": [
      "\n",
      "/Datasets/MedleyDB/Audio/MusicDelta_InTheHalloftheMountainKing/MusicDelta_InTheHalloftheMountainKing_STEMS/MusicDelta_InTheHalloftheMountainKing_STEM_12.wav"
     ]
    },
    {
     "name": "stderr",
     "output_type": "stream",
     "text": [
      "WARNING:root:output_file: /var/folders/k_/plmjzvbd70z_9dbsrxw1gnvh0000gv/T/tmp7764oo.wav already exists and will be overwritten on build\n"
     ]
    },
    {
     "name": "stdout",
     "output_type": "stream",
     "text": [
      "\n"
     ]
    },
    {
     "name": "stderr",
     "output_type": "stream",
     "text": [
      "WARNING:root:output_file: /var/folders/k_/plmjzvbd70z_9dbsrxw1gnvh0000gv/T/tmpbESdbI.wav already exists and will be overwritten on build\n"
     ]
    },
    {
     "name": "stdout",
     "output_type": "stream",
     "text": [
      "\n",
      "violin\n",
      "14\n",
      "/Datasets/MedleyDB/Audio/MatthewEntwistle_AnEveningWithOliver/MatthewEntwistle_AnEveningWithOliver_STEMS/MatthewEntwistle_AnEveningWithOliver_STEM_16.wav\n",
      "/Datasets/MedleyDB/Audio/MatthewEntwistle_AnEveningWithOliver/MatthewEntwistle_AnEveningWithOliver_STEMS/MatthewEntwistle_AnEveningWithOliver_STEM_17.wav"
     ]
    },
    {
     "name": "stderr",
     "output_type": "stream",
     "text": [
      "WARNING:root:output_file: /var/folders/k_/plmjzvbd70z_9dbsrxw1gnvh0000gv/T/tmpmGnLFq.wav already exists and will be overwritten on build\n"
     ]
    },
    {
     "name": "stdout",
     "output_type": "stream",
     "text": [
      "\n",
      "/Datasets/MedleyDB/Audio/MatthewEntwistle_AnEveningWithOliver/MatthewEntwistle_AnEveningWithOliver_STEMS/MatthewEntwistle_AnEveningWithOliver_STEM_18.wav"
     ]
    },
    {
     "name": "stderr",
     "output_type": "stream",
     "text": [
      "WARNING:root:output_file: /var/folders/k_/plmjzvbd70z_9dbsrxw1gnvh0000gv/T/tmpNfbQop.wav already exists and will be overwritten on build\n"
     ]
    },
    {
     "name": "stdout",
     "output_type": "stream",
     "text": [
      "\n",
      "/Datasets/MedleyDB/Audio/MatthewEntwistle_AnEveningWithOliver/MatthewEntwistle_AnEveningWithOliver_STEMS/MatthewEntwistle_AnEveningWithOliver_STEM_19.wav"
     ]
    },
    {
     "name": "stderr",
     "output_type": "stream",
     "text": [
      "WARNING:root:output_file: /var/folders/k_/plmjzvbd70z_9dbsrxw1gnvh0000gv/T/tmp1W76Lq.wav already exists and will be overwritten on build\n"
     ]
    },
    {
     "name": "stdout",
     "output_type": "stream",
     "text": [
      "\n",
      "/Datasets/MedleyDB/Audio/MatthewEntwistle_AnEveningWithOliver/MatthewEntwistle_AnEveningWithOliver_STEMS/MatthewEntwistle_AnEveningWithOliver_STEM_20.wav"
     ]
    },
    {
     "name": "stderr",
     "output_type": "stream",
     "text": [
      "WARNING:root:output_file: /var/folders/k_/plmjzvbd70z_9dbsrxw1gnvh0000gv/T/tmpJGrxVC.wav already exists and will be overwritten on build\n"
     ]
    },
    {
     "name": "stdout",
     "output_type": "stream",
     "text": [
      "\n",
      "/Datasets/MedleyDB/Audio/MatthewEntwistle_AnEveningWithOliver/MatthewEntwistle_AnEveningWithOliver_STEMS/MatthewEntwistle_AnEveningWithOliver_STEM_21.wav"
     ]
    },
    {
     "name": "stderr",
     "output_type": "stream",
     "text": [
      "WARNING:root:output_file: /var/folders/k_/plmjzvbd70z_9dbsrxw1gnvh0000gv/T/tmp5Fo12_.wav already exists and will be overwritten on build\n"
     ]
    },
    {
     "name": "stdout",
     "output_type": "stream",
     "text": [
      "\n",
      "/Datasets/MedleyDB/Audio/MatthewEntwistle_AnEveningWithOliver/MatthewEntwistle_AnEveningWithOliver_STEMS/MatthewEntwistle_AnEveningWithOliver_STEM_22.wav"
     ]
    },
    {
     "name": "stderr",
     "output_type": "stream",
     "text": [
      "WARNING:root:output_file: /var/folders/k_/plmjzvbd70z_9dbsrxw1gnvh0000gv/T/tmpxJ_WRp.wav already exists and will be overwritten on build\n"
     ]
    },
    {
     "name": "stdout",
     "output_type": "stream",
     "text": [
      "\n",
      "/Datasets/MedleyDB/Audio/MatthewEntwistle_AnEveningWithOliver/MatthewEntwistle_AnEveningWithOliver_STEMS/MatthewEntwistle_AnEveningWithOliver_STEM_23.wav"
     ]
    },
    {
     "name": "stderr",
     "output_type": "stream",
     "text": [
      "WARNING:root:output_file: /var/folders/k_/plmjzvbd70z_9dbsrxw1gnvh0000gv/T/tmp2sEIJp.wav already exists and will be overwritten on build\n"
     ]
    },
    {
     "name": "stdout",
     "output_type": "stream",
     "text": [
      "\n",
      "/Datasets/MedleyDB/Audio/MatthewEntwistle_ImpressionsOfSaturn/MatthewEntwistle_ImpressionsOfSaturn_STEMS/MatthewEntwistle_ImpressionsOfSaturn_STEM_08.wav"
     ]
    },
    {
     "name": "stderr",
     "output_type": "stream",
     "text": [
      "WARNING:root:output_file: /var/folders/k_/plmjzvbd70z_9dbsrxw1gnvh0000gv/T/tmpDc1_ZY.wav already exists and will be overwritten on build\n"
     ]
    },
    {
     "name": "stdout",
     "output_type": "stream",
     "text": [
      "\n",
      "/Datasets/MedleyDB/Audio/MatthewEntwistle_ImpressionsOfSaturn/MatthewEntwistle_ImpressionsOfSaturn_STEMS/MatthewEntwistle_ImpressionsOfSaturn_STEM_09.wav"
     ]
    },
    {
     "name": "stderr",
     "output_type": "stream",
     "text": [
      "WARNING:root:output_file: /var/folders/k_/plmjzvbd70z_9dbsrxw1gnvh0000gv/T/tmp6cLZ3C.wav already exists and will be overwritten on build\n"
     ]
    },
    {
     "name": "stdout",
     "output_type": "stream",
     "text": [
      "\n",
      "/Datasets/MedleyDB/Audio/MatthewEntwistle_TheFlaxenField/MatthewEntwistle_TheFlaxenField_STEMS/MatthewEntwistle_TheFlaxenField_STEM_04.wav"
     ]
    },
    {
     "name": "stderr",
     "output_type": "stream",
     "text": [
      "WARNING:root:output_file: /var/folders/k_/plmjzvbd70z_9dbsrxw1gnvh0000gv/T/tmpNby0zX.wav already exists and will be overwritten on build\n"
     ]
    },
    {
     "name": "stdout",
     "output_type": "stream",
     "text": [
      "\n",
      "/Datasets/MedleyDB/Audio/MatthewEntwistle_TheFlaxenField/MatthewEntwistle_TheFlaxenField_STEMS/MatthewEntwistle_TheFlaxenField_STEM_05.wav"
     ]
    },
    {
     "name": "stderr",
     "output_type": "stream",
     "text": [
      "WARNING:root:output_file: /var/folders/k_/plmjzvbd70z_9dbsrxw1gnvh0000gv/T/tmpudMevo.wav already exists and will be overwritten on build\n"
     ]
    },
    {
     "name": "stdout",
     "output_type": "stream",
     "text": [
      "\n",
      "/Datasets/MedleyDB/Audio/MusicDelta_Pachelbel/MusicDelta_Pachelbel_STEMS/MusicDelta_Pachelbel_STEM_01.wav"
     ]
    },
    {
     "name": "stderr",
     "output_type": "stream",
     "text": [
      "WARNING:root:output_file: /var/folders/k_/plmjzvbd70z_9dbsrxw1gnvh0000gv/T/tmp9IRtBy.wav already exists and will be overwritten on build\n"
     ]
    },
    {
     "name": "stdout",
     "output_type": "stream",
     "text": [
      "\n",
      "/Datasets/MedleyDB/Audio/MusicDelta_Pachelbel/MusicDelta_Pachelbel_STEMS/MusicDelta_Pachelbel_STEM_04.wav"
     ]
    },
    {
     "name": "stderr",
     "output_type": "stream",
     "text": [
      "WARNING:root:output_file: /var/folders/k_/plmjzvbd70z_9dbsrxw1gnvh0000gv/T/tmpqiE17k.wav already exists and will be overwritten on build\n"
     ]
    },
    {
     "name": "stdout",
     "output_type": "stream",
     "text": [
      "\n"
     ]
    },
    {
     "name": "stderr",
     "output_type": "stream",
     "text": [
      "WARNING:root:output_file: /var/folders/k_/plmjzvbd70z_9dbsrxw1gnvh0000gv/T/tmpPx4SUF.wav already exists and will be overwritten on build\n"
     ]
    },
    {
     "name": "stdout",
     "output_type": "stream",
     "text": [
      "\n",
      "clarinet\n",
      "8\n",
      "/Datasets/MedleyDB/Audio/AimeeNorwich_Flying/AimeeNorwich_Flying_STEMS/AimeeNorwich_Flying_STEM_15.wav\n",
      "/Datasets/MedleyDB/Audio/Lushlife_ToynbeeSuite/Lushlife_ToynbeeSuite_STEMS/Lushlife_ToynbeeSuite_STEM_04.wav"
     ]
    },
    {
     "name": "stderr",
     "output_type": "stream",
     "text": [
      "WARNING:root:output_file: /var/folders/k_/plmjzvbd70z_9dbsrxw1gnvh0000gv/T/tmpR8oOm0.wav already exists and will be overwritten on build\n"
     ]
    },
    {
     "name": "stdout",
     "output_type": "stream",
     "text": [
      "\n",
      "/Datasets/MedleyDB/Audio/MatthewEntwistle_AnEveningWithOliver/MatthewEntwistle_AnEveningWithOliver_STEMS/MatthewEntwistle_AnEveningWithOliver_STEM_03.wav"
     ]
    },
    {
     "name": "stderr",
     "output_type": "stream",
     "text": [
      "WARNING:root:output_file: /var/folders/k_/plmjzvbd70z_9dbsrxw1gnvh0000gv/T/tmpP2W8Z_.wav already exists and will be overwritten on build\n"
     ]
    },
    {
     "name": "stdout",
     "output_type": "stream",
     "text": [
      "\n",
      "/Datasets/MedleyDB/Audio/MatthewEntwistle_TheFlaxenField/MatthewEntwistle_TheFlaxenField_STEMS/MatthewEntwistle_TheFlaxenField_STEM_02.wav"
     ]
    },
    {
     "name": "stderr",
     "output_type": "stream",
     "text": [
      "WARNING:root:output_file: /var/folders/k_/plmjzvbd70z_9dbsrxw1gnvh0000gv/T/tmpIqkZfw.wav already exists and will be overwritten on build\n"
     ]
    },
    {
     "name": "stdout",
     "output_type": "stream",
     "text": [
      "\n",
      "/Datasets/MedleyDB/Audio/MusicDelta_Beethoven/MusicDelta_Beethoven_STEMS/MusicDelta_Beethoven_STEM_08.wav"
     ]
    },
    {
     "name": "stderr",
     "output_type": "stream",
     "text": [
      "WARNING:root:output_file: /var/folders/k_/plmjzvbd70z_9dbsrxw1gnvh0000gv/T/tmp_4mpt4.wav already exists and will be overwritten on build\n"
     ]
    },
    {
     "name": "stdout",
     "output_type": "stream",
     "text": [
      "\n",
      "/Datasets/MedleyDB/Audio/MusicDelta_Beethoven/MusicDelta_Beethoven_STEMS/MusicDelta_Beethoven_STEM_09.wav"
     ]
    },
    {
     "name": "stderr",
     "output_type": "stream",
     "text": [
      "WARNING:root:output_file: /var/folders/k_/plmjzvbd70z_9dbsrxw1gnvh0000gv/T/tmpR051Q3.wav already exists and will be overwritten on build\n"
     ]
    },
    {
     "name": "stdout",
     "output_type": "stream",
     "text": [
      "\n",
      "/Datasets/MedleyDB/Audio/MusicDelta_InTheHalloftheMountainKing/MusicDelta_InTheHalloftheMountainKing_STEMS/MusicDelta_InTheHalloftheMountainKing_STEM_09.wav"
     ]
    },
    {
     "name": "stderr",
     "output_type": "stream",
     "text": [
      "WARNING:root:output_file: /var/folders/k_/plmjzvbd70z_9dbsrxw1gnvh0000gv/T/tmpQjukAO.wav already exists and will be overwritten on build\n"
     ]
    },
    {
     "name": "stdout",
     "output_type": "stream",
     "text": [
      "\n",
      "/Datasets/MedleyDB/Audio/MusicDelta_SwingJazz/MusicDelta_SwingJazz_STEMS/MusicDelta_SwingJazz_STEM_04.wav"
     ]
    },
    {
     "name": "stderr",
     "output_type": "stream",
     "text": [
      "WARNING:root:output_file: /var/folders/k_/plmjzvbd70z_9dbsrxw1gnvh0000gv/T/tmpNKd9JU.wav already exists and will be overwritten on build\n"
     ]
    },
    {
     "name": "stdout",
     "output_type": "stream",
     "text": [
      "\n"
     ]
    },
    {
     "name": "stderr",
     "output_type": "stream",
     "text": [
      "WARNING:root:output_file: /var/folders/k_/plmjzvbd70z_9dbsrxw1gnvh0000gv/T/tmp2I0oUx.wav already exists and will be overwritten on build\n"
     ]
    },
    {
     "name": "stdout",
     "output_type": "stream",
     "text": [
      "\n",
      "flute\n",
      "6\n",
      "/Datasets/MedleyDB/Audio/MatthewEntwistle_AnEveningWithOliver/MatthewEntwistle_AnEveningWithOliver_STEMS/MatthewEntwistle_AnEveningWithOliver_STEM_12.wav\n",
      "/Datasets/MedleyDB/Audio/MatthewEntwistle_FairerHopes/MatthewEntwistle_FairerHopes_STEMS/MatthewEntwistle_FairerHopes_STEM_14.wav"
     ]
    },
    {
     "name": "stderr",
     "output_type": "stream",
     "text": [
      "WARNING:root:output_file: /var/folders/k_/plmjzvbd70z_9dbsrxw1gnvh0000gv/T/tmpPhPHPD.wav already exists and will be overwritten on build\n"
     ]
    },
    {
     "name": "stdout",
     "output_type": "stream",
     "text": [
      "\n",
      "/Datasets/MedleyDB/Audio/MusicDelta_Beethoven/MusicDelta_Beethoven_STEMS/MusicDelta_Beethoven_STEM_06.wav"
     ]
    },
    {
     "name": "stderr",
     "output_type": "stream",
     "text": [
      "WARNING:root:output_file: /var/folders/k_/plmjzvbd70z_9dbsrxw1gnvh0000gv/T/tmpAlAigW.wav already exists and will be overwritten on build\n"
     ]
    },
    {
     "name": "stdout",
     "output_type": "stream",
     "text": [
      "\n",
      "/Datasets/MedleyDB/Audio/MusicDelta_Beethoven/MusicDelta_Beethoven_STEMS/MusicDelta_Beethoven_STEM_07.wav"
     ]
    },
    {
     "name": "stderr",
     "output_type": "stream",
     "text": [
      "WARNING:root:output_file: /var/folders/k_/plmjzvbd70z_9dbsrxw1gnvh0000gv/T/tmpfHhEzh.wav already exists and will be overwritten on build\n"
     ]
    },
    {
     "name": "stdout",
     "output_type": "stream",
     "text": [
      "\n",
      "/Datasets/MedleyDB/Audio/MusicDelta_InTheHalloftheMountainKing/MusicDelta_InTheHalloftheMountainKing_STEMS/MusicDelta_InTheHalloftheMountainKing_STEM_07.wav"
     ]
    },
    {
     "name": "stderr",
     "output_type": "stream",
     "text": [
      "WARNING:root:output_file: /var/folders/k_/plmjzvbd70z_9dbsrxw1gnvh0000gv/T/tmpszlTMa.wav already exists and will be overwritten on build\n"
     ]
    },
    {
     "name": "stdout",
     "output_type": "stream",
     "text": [
      "\n",
      "/Datasets/MedleyDB/Audio/MusicDelta_LatinJazz/MusicDelta_LatinJazz_STEMS/MusicDelta_LatinJazz_STEM_04.wav"
     ]
    },
    {
     "name": "stderr",
     "output_type": "stream",
     "text": [
      "WARNING:root:output_file: /var/folders/k_/plmjzvbd70z_9dbsrxw1gnvh0000gv/T/tmpdWhYoQ.wav already exists and will be overwritten on build\n"
     ]
    },
    {
     "name": "stdout",
     "output_type": "stream",
     "text": [
      "\n"
     ]
    },
    {
     "name": "stderr",
     "output_type": "stream",
     "text": [
      "WARNING:root:output_file: /var/folders/k_/plmjzvbd70z_9dbsrxw1gnvh0000gv/T/tmp8PDQ_j.wav already exists and will be overwritten on build\n"
     ]
    },
    {
     "name": "stdout",
     "output_type": "stream",
     "text": [
      "\n",
      "trumpet\n",
      "7\n",
      "/Datasets/MedleyDB/Audio/MusicDelta_BebopJazz/MusicDelta_BebopJazz_STEMS/MusicDelta_BebopJazz_STEM_05.wav\n",
      "/Datasets/MedleyDB/Audio/MusicDelta_Beethoven/MusicDelta_Beethoven_STEMS/MusicDelta_Beethoven_STEM_14.wav"
     ]
    },
    {
     "name": "stderr",
     "output_type": "stream",
     "text": [
      "WARNING:root:output_file: /var/folders/k_/plmjzvbd70z_9dbsrxw1gnvh0000gv/T/tmpXML9Zr.wav already exists and will be overwritten on build\n"
     ]
    },
    {
     "name": "stdout",
     "output_type": "stream",
     "text": [
      "\n",
      "/Datasets/MedleyDB/Audio/MusicDelta_Beethoven/MusicDelta_Beethoven_STEMS/MusicDelta_Beethoven_STEM_15.wav"
     ]
    },
    {
     "name": "stderr",
     "output_type": "stream",
     "text": [
      "WARNING:root:output_file: /var/folders/k_/plmjzvbd70z_9dbsrxw1gnvh0000gv/T/tmpvSdofL.wav already exists and will be overwritten on build\n"
     ]
    },
    {
     "name": "stdout",
     "output_type": "stream",
     "text": [
      "\n",
      "/Datasets/MedleyDB/Audio/MusicDelta_CoolJazz/MusicDelta_CoolJazz_STEMS/MusicDelta_CoolJazz_STEM_05.wav"
     ]
    },
    {
     "name": "stderr",
     "output_type": "stream",
     "text": [
      "WARNING:root:output_file: /var/folders/k_/plmjzvbd70z_9dbsrxw1gnvh0000gv/T/tmpWj_jRH.wav already exists and will be overwritten on build\n"
     ]
    },
    {
     "name": "stdout",
     "output_type": "stream",
     "text": [
      "\n",
      "/Datasets/MedleyDB/Audio/MusicDelta_FusionJazz/MusicDelta_FusionJazz_STEMS/MusicDelta_FusionJazz_STEM_06.wav"
     ]
    },
    {
     "name": "stderr",
     "output_type": "stream",
     "text": [
      "WARNING:root:output_file: /var/folders/k_/plmjzvbd70z_9dbsrxw1gnvh0000gv/T/tmpKpErlB.wav already exists and will be overwritten on build\n"
     ]
    },
    {
     "name": "stdout",
     "output_type": "stream",
     "text": [
      "\n",
      "/Datasets/MedleyDB/Audio/MusicDelta_LatinJazz/MusicDelta_LatinJazz_STEMS/MusicDelta_LatinJazz_STEM_05.wav"
     ]
    },
    {
     "name": "stderr",
     "output_type": "stream",
     "text": [
      "WARNING:root:output_file: /var/folders/k_/plmjzvbd70z_9dbsrxw1gnvh0000gv/T/tmp52R3hC.wav already exists and will be overwritten on build\n"
     ]
    },
    {
     "name": "stdout",
     "output_type": "stream",
     "text": [
      "\n",
      "/Datasets/MedleyDB/Audio/MusicDelta_ModalJazz/MusicDelta_ModalJazz_STEMS/MusicDelta_ModalJazz_STEM_05.wav"
     ]
    },
    {
     "name": "stderr",
     "output_type": "stream",
     "text": [
      "WARNING:root:output_file: /var/folders/k_/plmjzvbd70z_9dbsrxw1gnvh0000gv/T/tmpkLvO01.wav already exists and will be overwritten on build\n"
     ]
    },
    {
     "name": "stdout",
     "output_type": "stream",
     "text": [
      "\n"
     ]
    },
    {
     "name": "stderr",
     "output_type": "stream",
     "text": [
      "WARNING:root:output_file: /var/folders/k_/plmjzvbd70z_9dbsrxw1gnvh0000gv/T/tmpxwpsnb.wav already exists and will be overwritten on build\n"
     ]
    },
    {
     "name": "stdout",
     "output_type": "stream",
     "text": [
      "\n",
      "tabla\n",
      "14\n",
      "/Datasets/MedleyDB/Audio/TablaBreakbeatScience_Animoog/TablaBreakbeatScience_Animoog_STEMS/TablaBreakbeatScience_Animoog_STEM_04.wav\n",
      "/Datasets/MedleyDB/Audio/TablaBreakbeatScience_Animoog/TablaBreakbeatScience_Animoog_STEMS/TablaBreakbeatScience_Animoog_STEM_05.wav"
     ]
    },
    {
     "name": "stderr",
     "output_type": "stream",
     "text": [
      "WARNING:root:output_file: /var/folders/k_/plmjzvbd70z_9dbsrxw1gnvh0000gv/T/tmpO6xgJn.wav already exists and will be overwritten on build\n"
     ]
    },
    {
     "name": "stdout",
     "output_type": "stream",
     "text": [
      "\n",
      "/Datasets/MedleyDB/Audio/TablaBreakbeatScience_CaptainSky/TablaBreakbeatScience_CaptainSky_STEMS/TablaBreakbeatScience_CaptainSky_STEM_03.wav"
     ]
    },
    {
     "name": "stderr",
     "output_type": "stream",
     "text": [
      "WARNING:root:output_file: /var/folders/k_/plmjzvbd70z_9dbsrxw1gnvh0000gv/T/tmpUkZGTL.wav already exists and will be overwritten on build\n"
     ]
    },
    {
     "name": "stdout",
     "output_type": "stream",
     "text": [
      "\n",
      "/Datasets/MedleyDB/Audio/TablaBreakbeatScience_MiloVsMongo/TablaBreakbeatScience_MiloVsMongo_STEMS/TablaBreakbeatScience_MiloVsMongo_STEM_09.wav"
     ]
    },
    {
     "name": "stderr",
     "output_type": "stream",
     "text": [
      "WARNING:root:output_file: /var/folders/k_/plmjzvbd70z_9dbsrxw1gnvh0000gv/T/tmpgwCpTP.wav already exists and will be overwritten on build\n"
     ]
    },
    {
     "name": "stdout",
     "output_type": "stream",
     "text": [
      "\n",
      "/Datasets/MedleyDB/Audio/TablaBreakbeatScience_MoodyPlucks/TablaBreakbeatScience_MoodyPlucks_STEMS/TablaBreakbeatScience_MoodyPlucks_STEM_10.wav"
     ]
    },
    {
     "name": "stderr",
     "output_type": "stream",
     "text": [
      "WARNING:root:output_file: /var/folders/k_/plmjzvbd70z_9dbsrxw1gnvh0000gv/T/tmpMTy4dZ.wav already exists and will be overwritten on build\n"
     ]
    },
    {
     "name": "stdout",
     "output_type": "stream",
     "text": [
      "\n",
      "/Datasets/MedleyDB/Audio/TablaBreakbeatScience_MoodyPlucks/TablaBreakbeatScience_MoodyPlucks_STEMS/TablaBreakbeatScience_MoodyPlucks_STEM_11.wav"
     ]
    },
    {
     "name": "stderr",
     "output_type": "stream",
     "text": [
      "WARNING:root:output_file: /var/folders/k_/plmjzvbd70z_9dbsrxw1gnvh0000gv/T/tmp8JKnwR.wav already exists and will be overwritten on build\n"
     ]
    },
    {
     "name": "stdout",
     "output_type": "stream",
     "text": [
      "\n",
      "/Datasets/MedleyDB/Audio/TablaBreakbeatScience_PhaseTransition/TablaBreakbeatScience_PhaseTransition_STEMS/TablaBreakbeatScience_PhaseTransition_STEM_07.wav"
     ]
    },
    {
     "name": "stderr",
     "output_type": "stream",
     "text": [
      "WARNING:root:output_file: /var/folders/k_/plmjzvbd70z_9dbsrxw1gnvh0000gv/T/tmpgAu3d6.wav already exists and will be overwritten on build\n"
     ]
    },
    {
     "name": "stdout",
     "output_type": "stream",
     "text": [
      "\n",
      "/Datasets/MedleyDB/Audio/TablaBreakbeatScience_PhaseTransition/TablaBreakbeatScience_PhaseTransition_STEMS/TablaBreakbeatScience_PhaseTransition_STEM_08.wav"
     ]
    },
    {
     "name": "stderr",
     "output_type": "stream",
     "text": [
      "WARNING:root:output_file: /var/folders/k_/plmjzvbd70z_9dbsrxw1gnvh0000gv/T/tmpJLDUMm.wav already exists and will be overwritten on build\n"
     ]
    },
    {
     "name": "stdout",
     "output_type": "stream",
     "text": [
      "\n",
      "/Datasets/MedleyDB/Audio/TablaBreakbeatScience_RockSteady/TablaBreakbeatScience_RockSteady_STEMS/TablaBreakbeatScience_RockSteady_STEM_04.wav"
     ]
    },
    {
     "name": "stderr",
     "output_type": "stream",
     "text": [
      "WARNING:root:output_file: /var/folders/k_/plmjzvbd70z_9dbsrxw1gnvh0000gv/T/tmpmesQeI.wav already exists and will be overwritten on build\n"
     ]
    },
    {
     "name": "stdout",
     "output_type": "stream",
     "text": [
      "\n",
      "/Datasets/MedleyDB/Audio/TablaBreakbeatScience_RockSteady/TablaBreakbeatScience_RockSteady_STEMS/TablaBreakbeatScience_RockSteady_STEM_05.wav"
     ]
    },
    {
     "name": "stderr",
     "output_type": "stream",
     "text": [
      "WARNING:root:output_file: /var/folders/k_/plmjzvbd70z_9dbsrxw1gnvh0000gv/T/tmp8A7vXA.wav already exists and will be overwritten on build\n"
     ]
    },
    {
     "name": "stdout",
     "output_type": "stream",
     "text": [
      "\n",
      "/Datasets/MedleyDB/Audio/TablaBreakbeatScience_Scorpio/TablaBreakbeatScience_Scorpio_STEMS/TablaBreakbeatScience_Scorpio_STEM_07.wav"
     ]
    },
    {
     "name": "stderr",
     "output_type": "stream",
     "text": [
      "WARNING:root:output_file: /var/folders/k_/plmjzvbd70z_9dbsrxw1gnvh0000gv/T/tmpOu4VmO.wav already exists and will be overwritten on build\n"
     ]
    },
    {
     "name": "stdout",
     "output_type": "stream",
     "text": [
      "\n",
      "/Datasets/MedleyDB/Audio/TablaBreakbeatScience_Vger/TablaBreakbeatScience_Vger_STEMS/TablaBreakbeatScience_Vger_STEM_09.wav"
     ]
    },
    {
     "name": "stderr",
     "output_type": "stream",
     "text": [
      "WARNING:root:output_file: /var/folders/k_/plmjzvbd70z_9dbsrxw1gnvh0000gv/T/tmpU_6Nja.wav already exists and will be overwritten on build\n"
     ]
    },
    {
     "name": "stdout",
     "output_type": "stream",
     "text": [
      "\n",
      "/Datasets/MedleyDB/Audio/TablaBreakbeatScience_Vger/TablaBreakbeatScience_Vger_STEMS/TablaBreakbeatScience_Vger_STEM_10.wav"
     ]
    },
    {
     "name": "stderr",
     "output_type": "stream",
     "text": [
      "WARNING:root:output_file: /var/folders/k_/plmjzvbd70z_9dbsrxw1gnvh0000gv/T/tmpNAGz45.wav already exists and will be overwritten on build\n"
     ]
    },
    {
     "name": "stdout",
     "output_type": "stream",
     "text": [
      "\n",
      "/Datasets/MedleyDB/Audio/TablaBreakbeatScience_WhoIsIt/TablaBreakbeatScience_WhoIsIt_STEMS/TablaBreakbeatScience_WhoIsIt_STEM_06.wav"
     ]
    },
    {
     "name": "stderr",
     "output_type": "stream",
     "text": [
      "WARNING:root:output_file: /var/folders/k_/plmjzvbd70z_9dbsrxw1gnvh0000gv/T/tmp3qd0VX.wav already exists and will be overwritten on build\n"
     ]
    },
    {
     "name": "stdout",
     "output_type": "stream",
     "text": [
      "\n"
     ]
    },
    {
     "name": "stderr",
     "output_type": "stream",
     "text": [
      "WARNING:root:output_file: /var/folders/k_/plmjzvbd70z_9dbsrxw1gnvh0000gv/T/tmpI3_4e9.wav already exists and will be overwritten on build\n"
     ]
    },
    {
     "name": "stdout",
     "output_type": "stream",
     "text": [
      "\n",
      "horn section\n",
      "2\n",
      "/Datasets/MedleyDB/Audio/Auctioneer_OurFutureFaces/Auctioneer_OurFutureFaces_STEMS/Auctioneer_OurFutureFaces_STEM_06.wav\n",
      "/Datasets/MedleyDB/Audio/Lushlife_ToynbeeSuite/Lushlife_ToynbeeSuite_STEMS/Lushlife_ToynbeeSuite_STEM_13.wav"
     ]
    },
    {
     "name": "stderr",
     "output_type": "stream",
     "text": [
      "WARNING:root:output_file: /var/folders/k_/plmjzvbd70z_9dbsrxw1gnvh0000gv/T/tmpOe4pSK.wav already exists and will be overwritten on build\n"
     ]
    },
    {
     "name": "stdout",
     "output_type": "stream",
     "text": [
      "\n"
     ]
    },
    {
     "name": "stderr",
     "output_type": "stream",
     "text": [
      "WARNING:root:output_file: /var/folders/k_/plmjzvbd70z_9dbsrxw1gnvh0000gv/T/tmpiYvmwO.wav already exists and will be overwritten on build\n"
     ]
    },
    {
     "name": "stdout",
     "output_type": "stream",
     "text": [
      "\n",
      "harp\n",
      "3\n",
      "/Datasets/MedleyDB/Audio/MatthewEntwistle_AnEveningWithOliver/MatthewEntwistle_AnEveningWithOliver_STEMS/MatthewEntwistle_AnEveningWithOliver_STEM_09.wav\n",
      "/Datasets/MedleyDB/Audio/MatthewEntwistle_FairerHopes/MatthewEntwistle_FairerHopes_STEMS/MatthewEntwistle_FairerHopes_STEM_10.wav"
     ]
    },
    {
     "name": "stderr",
     "output_type": "stream",
     "text": [
      "WARNING:root:output_file: /var/folders/k_/plmjzvbd70z_9dbsrxw1gnvh0000gv/T/tmpHpjPiA.wav already exists and will be overwritten on build\n"
     ]
    },
    {
     "name": "stdout",
     "output_type": "stream",
     "text": [
      "\n",
      "/Datasets/MedleyDB/Audio/TablaBreakbeatScience_MoodyPlucks/TablaBreakbeatScience_MoodyPlucks_STEMS/TablaBreakbeatScience_MoodyPlucks_STEM_06.wav"
     ]
    },
    {
     "name": "stderr",
     "output_type": "stream",
     "text": [
      "WARNING:root:output_file: /var/folders/k_/plmjzvbd70z_9dbsrxw1gnvh0000gv/T/tmp0qrt8f.wav already exists and will be overwritten on build\n"
     ]
    },
    {
     "name": "stdout",
     "output_type": "stream",
     "text": [
      "\n"
     ]
    },
    {
     "name": "stderr",
     "output_type": "stream",
     "text": [
      "WARNING:root:output_file: /var/folders/k_/plmjzvbd70z_9dbsrxw1gnvh0000gv/T/tmptfjUgF.wav already exists and will be overwritten on build\n"
     ]
    },
    {
     "name": "stdout",
     "output_type": "stream",
     "text": [
      "\n",
      "harmonica\n",
      "2\n",
      "/Datasets/MedleyDB/Audio/AlexanderRoss_GoodbyeBolero/AlexanderRoss_GoodbyeBolero_STEMS/AlexanderRoss_GoodbyeBolero_STEM_09.wav\n",
      "/Datasets/MedleyDB/Audio/EthanHein_HarmonicaFigure/EthanHein_HarmonicaFigure_STEMS/EthanHein_HarmonicaFigure_STEM_05.wav"
     ]
    },
    {
     "name": "stderr",
     "output_type": "stream",
     "text": [
      "WARNING:root:output_file: /var/folders/k_/plmjzvbd70z_9dbsrxw1gnvh0000gv/T/tmpHY1MqJ.wav already exists and will be overwritten on build\n"
     ]
    },
    {
     "name": "stdout",
     "output_type": "stream",
     "text": [
      "\n"
     ]
    },
    {
     "name": "stderr",
     "output_type": "stream",
     "text": [
      "WARNING:root:output_file: /var/folders/k_/plmjzvbd70z_9dbsrxw1gnvh0000gv/T/tmpyYvQoE.wav already exists and will be overwritten on build\n"
     ]
    },
    {
     "name": "stdout",
     "output_type": "stream",
     "text": [
      "\n",
      "mandolin\n",
      "5\n",
      "/Datasets/MedleyDB/Audio/TablaBreakbeatScience_MiloVsMongo/TablaBreakbeatScience_MiloVsMongo_STEMS/TablaBreakbeatScience_MiloVsMongo_STEM_08.wav\n",
      "/Datasets/MedleyDB/Audio/TablaBreakbeatScience_PhaseTransition/TablaBreakbeatScience_PhaseTransition_STEMS/TablaBreakbeatScience_PhaseTransition_STEM_05.wav"
     ]
    },
    {
     "name": "stderr",
     "output_type": "stream",
     "text": [
      "WARNING:root:output_file: /var/folders/k_/plmjzvbd70z_9dbsrxw1gnvh0000gv/T/tmpW8WMvH.wav already exists and will be overwritten on build\n"
     ]
    },
    {
     "name": "stdout",
     "output_type": "stream",
     "text": [
      "\n",
      "/Datasets/MedleyDB/Audio/TablaBreakbeatScience_RockSteady/TablaBreakbeatScience_RockSteady_STEMS/TablaBreakbeatScience_RockSteady_STEM_03.wav"
     ]
    },
    {
     "name": "stderr",
     "output_type": "stream",
     "text": [
      "WARNING:root:output_file: /var/folders/k_/plmjzvbd70z_9dbsrxw1gnvh0000gv/T/tmpPFges_.wav already exists and will be overwritten on build\n"
     ]
    },
    {
     "name": "stdout",
     "output_type": "stream",
     "text": [
      "\n",
      "/Datasets/MedleyDB/Audio/TablaBreakbeatScience_Vger/TablaBreakbeatScience_Vger_STEMS/TablaBreakbeatScience_Vger_STEM_08.wav"
     ]
    },
    {
     "name": "stderr",
     "output_type": "stream",
     "text": [
      "WARNING:root:output_file: /var/folders/k_/plmjzvbd70z_9dbsrxw1gnvh0000gv/T/tmpzE5U0s.wav already exists and will be overwritten on build\n"
     ]
    }
   ],
   "source": [
    "mfcc_list = []\n",
    "label_list = []\n",
    "mfcc_dict = {}\n",
    "label_index = 0\n",
    "\n",
    "# loop over instrument labels\n",
    "for label in list(file_dict.keys()):\n",
    "    print label\n",
    "    print len(file_dict[label])\n",
    "    \n",
    "    # loop over files for instruments\n",
    "    for fpath in file_dict[label]:\n",
    "        print fpath\n",
    "        # normalizing volume, removing silence\n",
    "        temp_fpath = tmp.NamedTemporaryFile(suffix=\".wav\")\n",
    "        tfm = sox.Transformer()\n",
    "        tfm.norm(db_level=-6)\n",
    "        tfm.silence()\n",
    "        tfm.build(fpath, temp_fpath.name)\n",
    "        \n",
    "        # load audio\n",
    "        y, fs = librosa.load(temp_fpath.name)\n",
    "        \n",
    "        # compute MFCCs\n",
    "        M = librosa.feature.mfcc(y, sr=fs, n_mfcc=40)\n",
    "        \n",
    "        # creating labels\n",
    "        lab = np.zeros((len(M[0]), )) + label_index\n",
    "        mfcc_list.append(M)\n",
    "        label_list.append(lab)\n",
    "        \n",
    "    print \"\"\n",
    "    label_index = label_index + 1\n",
    "\n",
    "mfcc_matrix = np.hstack(mfcc_list).T\n",
    "label_matrix = np.hstack(label_list)"
   ]
  },
  {
   "cell_type": "code",
   "execution_count": null,
   "metadata": {
    "collapsed": true
   },
   "outputs": [],
   "source": [
    "np.save(\"mfcc_matrix.npy\", mfcc_matrix)\n",
    "np.save(\"label_matrix.npy\", label_matrix)"
   ]
  },
  {
   "cell_type": "code",
   "execution_count": null,
   "metadata": {
    "collapsed": true
   },
   "outputs": [],
   "source": [
    "# Standardizing MFCC Matrix"
   ]
  },
  {
   "cell_type": "code",
   "execution_count": null,
   "metadata": {
    "collapsed": true
   },
   "outputs": [],
   "source": [
    "mfcc_means = np.mean(mfcc_matrix, axis = 0)\n",
    "mfcc_std = np.std(mfcc_matrix, axis=0)\n",
    "\n",
    "np.save(\"mfcc_means.npy\", mfcc_means)\n",
    "np.save(\"mfcc_std.npy\", mfcc_std)\n",
    "\n",
    "mfcc_matrix_normal = (mfcc_matrix - mfcc_means)/mfcc_std\n",
    "\n",
    "label_values = list(file_dict.keys())\n",
    "np.save(\"label_values.npy\", label_values)"
   ]
  },
  {
   "cell_type": "code",
   "execution_count": null,
   "metadata": {
    "collapsed": true
   },
   "outputs": [],
   "source": [
    "# Plot MFCC Data Matrix"
   ]
  },
  {
   "cell_type": "code",
   "execution_count": 49,
   "metadata": {
    "collapsed": false
   },
   "outputs": [
    {
     "data": {
      "image/png": "[encoded data removed]",
      "text/plain": [
       "<matplotlib.figure.Figure at 0x1195cba10>"
      ]
     },
     "metadata": {},
     "output_type": "display_data"
    }
   ],
   "source": [
    "label_index_list = np.arange(len(label_values))\n",
    "plt.figure(figsize = (15, 7))\n",
    "\n",
    "plt.subplot(2,2,1)\n",
    "plt.imshow(mfcc_matrix.T, origin = \"lower\")\n",
    "plt.axis(\"auto\")\n",
    "plt.axis(\"tight\")\n",
    "plt.xlabel(\"Example Number\")\n",
    "plt.ylabel(\"MFCC Coefficient\")\n",
    "\n",
    "plt.subplot(2,1,3)\n",
    "plt.plot(label_matrix, \"o\")\n",
    "plt.axis(\"auto\")\n",
    "plt.axis(\"tight\")\n",
    "plt.xlabel(\"Example Number\")\n",
    "plt.ylabel(\"Instrument Label Number\")\n",
    "plt.yticks(label_index_list, label_values, rotation='horizontal')\n",
    "\n",
    "plt.subplot(2,2,2)\n",
    "plt.imshow(mfcc_matrix_normal.T, origin = \"lower\")\n",
    "plt.axis(\"auto\")\n",
    "plt.axis(\"tight\")\n",
    "plt.xlabel(\"Example Number\")\n",
    "plt.ylabel(\"Standardized MFCC Coefficient\")\n",
    "\n",
    "plt.subplot(2,1,4)\n",
    "plt.plot(label_matrix, \"o\")\n",
    "plt.axis(\"auto\")\n",
    "plt.axis(\"tight\")\n",
    "plt.xlabel(\"Example Number\")\n",
    "plt.ylabel(\"Instrument Label Number\")\n",
    "plt.yticks(label_index_list, label_values, rotation='horizontal')\n",
    "\n",
    "plt.show()"
   ]
  },
  {
   "cell_type": "code",
   "execution_count": 50,
   "metadata": {
    "collapsed": false
   },
   "outputs": [
    {
     "data": {
      "text/plain": [
       "RandomForestClassifier(bootstrap=True, class_weight=None, criterion='gini',\n",
       "            max_depth=None, max_features='auto', max_leaf_nodes=None,\n",
       "            min_impurity_split=1e-07, min_samples_leaf=1,\n",
       "            min_samples_split=2, min_weight_fraction_leaf=0.0,\n",
       "            n_estimators=10, n_jobs=1, oob_score=False, random_state=None,\n",
       "            verbose=0, warm_start=False)"
      ]
     },
     "execution_count": 50,
     "metadata": {},
     "output_type": "execute_result"
    }
   ],
   "source": [
    "clf = RandomForestClassifier(n_estimators = 10)\n",
    "clf.fit(mfcc_matrix_normal, label_matrix)\n",
    "\n",
    "from sklearn.externals import joblib\n",
    "joblib.dump(clf, \"instrument_classifer.pkl\")\n"
   ]
  },
  {
   "cell_type": "code",
   "execution_count": 51,
   "metadata": {
    "collapsed": false
   },
   "outputs": [
    {
     "data": {
      "text/plain": [
       "0.99997727221073207"
      ]
     },
     "execution_count": 51,
     "metadata": {},
     "output_type": "execute_result"
    }
   ],
   "source": [
    "clf.score(mfcc_matrix_normal, label_matrix)"
   ]
  },
  {
   "cell_type": "code",
   "execution_count": 52,
   "metadata": {
    "collapsed": false
   },
   "outputs": [],
   "source": [
    "def clf_predict(audio_fpath, clf, mfcc_means, mfcc_std):\n",
    "    # normalizing volume, removing silence\n",
    "    temp_fpath = tmp.NamedTemporaryFile(suffix=\".wav\")\n",
    "    tfm = sox.Transformer()\n",
    "    tfm.norm(db_level=-6)\n",
    "    tfm.silence()\n",
    "    tfm.build(audio_fpath, temp_fpath.name)\n",
    "        \n",
    "    # load audio\n",
    "    y, fs = librosa.load(temp_fpath.name)\n",
    "        \n",
    "    # compute MFCCs\n",
    "    M = librosa.feature.mfcc(y, sr=fs, n_mfcc=40)\n",
    "    \n",
    "    M_normal = (M - mfcc_means)/mfcc_std\n",
    "    \n",
    "    predicted_label = clf.predict(M_normal.T)\n",
    "    "
   ]
  }
 ],
 "metadata": {
  "kernelspec": {
   "display_name": "Python 2",
   "language": "python",
   "name": "python2"
  },
  "language_info": {
   "codemirror_mode": {
    "name": "ipython",
    "version": 2
   },
   "file_extension": ".py",
   "mimetype": "text/x-python",
   "name": "python",
   "nbconvert_exporter": "python",
   "pygments_lexer": "ipython2",
   "version": "2.7.12"
  }
 },
 "nbformat": 4,
 "nbformat_minor": 0
}
